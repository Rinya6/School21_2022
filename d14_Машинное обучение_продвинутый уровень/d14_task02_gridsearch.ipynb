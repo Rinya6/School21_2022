{
 "cells": [
  {
   "cell_type": "markdown",
   "metadata": {
    "id": "gJm_8nRDyUp7"
   },
   "source": [
    "# Day 14. Task 02\n",
    "# Gridsearch"
   ]
  },
  {
   "cell_type": "markdown",
   "metadata": {
    "id": "OLB1I9UiyUp-"
   },
   "source": [
    "## 0. Импорты"
   ]
  },
  {
   "cell_type": "code",
   "execution_count": null,
   "metadata": {
    "id": "rjrDzFRzyUp_"
   },
   "outputs": [],
   "source": []
  },
  {
   "cell_type": "markdown",
   "metadata": {
    "id": "F8zodjDJyUqA"
   },
   "source": [
    "## 1. Препроцессинг"
   ]
  },
  {
   "cell_type": "markdown",
   "metadata": {
    "id": "PWR10A1TyUqA"
   },
   "source": [
    "1. Загрузите файл из: `datasets/day-of-week-not-scaled.csv`. Он похож на датасет из предыдущего задания, но в этот раз в нем численные переменные не были стандартизированы (мы больше не будем пользоваться логистической регрессией).\n",
    "2. Воспользуйтесь `train_test_split` с параметрами `test_size=0.2`, `random_state=21` и получите `X_train`, `y_train`, `X_test`, `y_test`. Используйте дополнительный параметр `stratify`. "
   ]
  },
  {
   "cell_type": "code",
   "execution_count": null,
   "metadata": {
    "id": "c8RWKHJbyUqA"
   },
   "outputs": [],
   "source": []
  },
  {
   "cell_type": "code",
   "execution_count": null,
   "metadata": {
    "id": "D5f4G8reyUqB"
   },
   "outputs": [],
   "source": []
  },
  {
   "cell_type": "markdown",
   "metadata": {
    "id": "Qx6PXWY3yUqB"
   },
   "source": [
    "## 2. SVM gridsearch"
   ]
  },
  {
   "cell_type": "markdown",
   "metadata": {
    "id": "Z6zo8cHCyUqB"
   },
   "source": [
    "1. Используя `GridSearchCV` попробуйте разные значения параметра kernel (`linear`, `rbf`, `sigmoid`), параметра C (`0.01`, `0.1`, `1`, `1.5`, `5`, `10`), параметра gamma (`scale`, `auto`), параметра class_weight (`balanced`, `None`). Используйте `random_state=21` и `probability=True` найдите наилучшую комбинацию параметров с точки зрения accuracy.\n",
    "2. Создайте из результатов gridsearch датафрейм и отсортируйте по возрастанию значений `rank_test_score`. Посмотрите есть ли между какими-то соседними комбинациями большая разница (иногда более простая модель может давать сопоставимый результат)."
   ]
  },
  {
   "cell_type": "code",
   "execution_count": null,
   "metadata": {
    "id": "dBiuP78ayUqB"
   },
   "outputs": [],
   "source": []
  },
  {
   "cell_type": "code",
   "execution_count": null,
   "metadata": {
    "id": "4NL1AfU0yUqC"
   },
   "outputs": [],
   "source": []
  },
  {
   "cell_type": "code",
   "execution_count": null,
   "metadata": {
    "id": "GoMznS9wyUqC"
   },
   "outputs": [],
   "source": []
  },
  {
   "cell_type": "code",
   "execution_count": null,
   "metadata": {
    "id": "oaeHHckFyUqC"
   },
   "outputs": [],
   "source": []
  },
  {
   "cell_type": "code",
   "execution_count": null,
   "metadata": {
    "id": "Z_CDXonkyUqC"
   },
   "outputs": [],
   "source": []
  },
  {
   "cell_type": "code",
   "execution_count": null,
   "metadata": {
    "id": "R4AwI3cbyUqC"
   },
   "outputs": [],
   "source": []
  },
  {
   "cell_type": "markdown",
   "metadata": {
    "id": "a3w4FpldyUqC"
   },
   "source": [
    "## 3. Decision tree"
   ]
  },
  {
   "cell_type": "markdown",
   "metadata": {
    "id": "ELqxX9sXyUqD"
   },
   "source": [
    "1. Используя `GridSearchCV` попробуйте разные значения параметра `max_depth` (от `1` до `49`), параметра `class_weight` (`balanced`, `None`), параметра `criterion` (`entropy` and `gini`). Используйте `random_state=21` найдите наилучшую комбинацию параметров с точки зрения accuracy.\n",
    "2. Создайте из результатов gridsearch датафрейм и отсортируйте по возрастанию значений `rank_test_score`. Посмотрите есть ли между какими-то соседними комбинациями большая разница (иногда более простая модель может давать сопоставимый результат)."
   ]
  },
  {
   "cell_type": "code",
   "execution_count": null,
   "metadata": {
    "id": "Q6YmUeUqyUqD"
   },
   "outputs": [],
   "source": []
  },
  {
   "cell_type": "code",
   "execution_count": null,
   "metadata": {
    "id": "aF9K-bBGyUqD"
   },
   "outputs": [],
   "source": []
  },
  {
   "cell_type": "code",
   "execution_count": null,
   "metadata": {
    "id": "7barDuTYyUqD"
   },
   "outputs": [],
   "source": []
  },
  {
   "cell_type": "code",
   "execution_count": null,
   "metadata": {
    "id": "Txy-LhV5yUqD"
   },
   "outputs": [],
   "source": []
  },
  {
   "cell_type": "code",
   "execution_count": null,
   "metadata": {
    "id": "IKBNKOqfyUqD"
   },
   "outputs": [],
   "source": []
  },
  {
   "cell_type": "code",
   "execution_count": null,
   "metadata": {
    "id": "CHac1Ml0yUqE"
   },
   "outputs": [],
   "source": []
  },
  {
   "cell_type": "markdown",
   "metadata": {
    "id": "dLFxJKtiyUqE"
   },
   "source": [
    "## 4. Случайный лес"
   ]
  },
  {
   "cell_type": "markdown",
   "metadata": {
    "id": "V6ADE7RuyUqE"
   },
   "source": [
    "1. Используя `GridSearchCV` попробуйте разные значения параметра `n_estimators` (`5`, `10`, `50`, `100`), параметра `max_depth` (от `1` до `49`), параметра `class_weight` (`balanced`, `None`), параметра `criterion` (`entropy` and `gini`). Используйте `random_state=21` найдите наилучшую комбинацию параметров с точки зрения accuracy.\n",
    "2. Создайте из результатов gridsearch датафрейм и отсортируйте по возрастанию значений `rank_test_score`. Посмотрите есть ли между какими-то соседними комбинациями большая разница (иногда более простая модель может давать сопоставимый результат)."
   ]
  },
  {
   "cell_type": "code",
   "execution_count": null,
   "metadata": {
    "id": "VOyEfEctyUqE"
   },
   "outputs": [],
   "source": []
  },
  {
   "cell_type": "code",
   "execution_count": null,
   "metadata": {
    "id": "otVWJ4CqyUqE"
   },
   "outputs": [],
   "source": []
  },
  {
   "cell_type": "code",
   "execution_count": null,
   "metadata": {
    "id": "y8CPm8gTyUqE"
   },
   "outputs": [],
   "source": []
  },
  {
   "cell_type": "code",
   "execution_count": null,
   "metadata": {
    "id": "YuU50GSQyUqF"
   },
   "outputs": [],
   "source": []
  },
  {
   "cell_type": "code",
   "execution_count": null,
   "metadata": {
    "id": "KkrTpWNoyUqF"
   },
   "outputs": [],
   "source": []
  },
  {
   "cell_type": "code",
   "execution_count": null,
   "metadata": {
    "id": "Wi2t0DNqyUqF"
   },
   "outputs": [],
   "source": []
  },
  {
   "cell_type": "markdown",
   "metadata": {
    "id": "WWa7ucWxyUqF"
   },
   "source": [
    "## 5. Индикатор прогресса"
   ]
  },
  {
   "cell_type": "markdown",
   "metadata": {
    "id": "u2Q8KPBiyUqF"
   },
   "source": [
    "Gridsearch может занимать довольно много времени, и вам может быть интересно, а сколько еще ждать до конца. Для этого есть способ.\n",
    "\n",
    "1. Напишите свой собственный gridsearch для тех же самых интервалов параметров случайного леса. Итерируйтесь по списку возможных комбинаций значений и рассчитывайте `cross_val_score` для каждой комбинации. Попробуйте увеличить параметр `n_jobs`. Значение `cv` для `cross_val_score` равно 5.\n",
    "2. Следите за прогрессом, используя библиотеку `tqdm.notebook`.\n",
    "3. Создайте датафрейм на основе результатов gridsearch со столбцами, соответствующими названиям параметров, а также их `mean_accuracy` и `std_accuracy`.\n",
    "4. Отсортируйте датафрейм по убыванию `mean_accuracy`. Посмотрите есть ли между какими-то соседними комбинациями большая разница (иногда более простая модель может давать сопоставимый результат)."
   ]
  },
  {
   "cell_type": "code",
   "execution_count": null,
   "metadata": {
    "id": "a1x6AdqTyUqG"
   },
   "outputs": [],
   "source": []
  },
  {
   "cell_type": "code",
   "execution_count": null,
   "metadata": {
    "id": "UCBvyIm-yUqG"
   },
   "outputs": [],
   "source": []
  },
  {
   "cell_type": "code",
   "execution_count": null,
   "metadata": {
    "id": "pXNzb1QnyUqG"
   },
   "outputs": [],
   "source": []
  },
  {
   "cell_type": "markdown",
   "metadata": {
    "id": "SQMTOQynyUqG"
   },
   "source": [
    "## 6. Прогнозы"
   ]
  },
  {
   "cell_type": "markdown",
   "metadata": {
    "id": "FF5VVXbGyUqG"
   },
   "source": [
    "1. Выберите лучшую модель и используйте ее для создания прогнозов для тестового датасета.\n",
    "2. Рассчитайте финальную accuracy."
   ]
  },
  {
   "cell_type": "code",
   "execution_count": null,
   "metadata": {
    "id": "-vW7NVMOyUqG"
   },
   "outputs": [],
   "source": []
  },
  {
   "cell_type": "code",
   "execution_count": null,
   "metadata": {
    "id": "qO--d7bmyUqG"
   },
   "outputs": [],
   "source": []
  },
  {
   "cell_type": "code",
   "execution_count": null,
   "metadata": {
    "id": "ed7SrIi7yUqH"
   },
   "outputs": [],
   "source": []
  }
 ],
 "metadata": {
  "colab": {
   "name": "01_gridsearch.ipynb",
   "provenance": []
  },
  "kernelspec": {
   "display_name": "Python 3",
   "language": "python",
   "name": "python3"
  },
  "language_info": {
   "codemirror_mode": {
    "name": "ipython",
    "version": 3
   },
   "file_extension": ".py",
   "mimetype": "text/x-python",
   "name": "python",
   "nbconvert_exporter": "python",
   "pygments_lexer": "ipython3",
   "version": "3.7.7"
  }
 },
 "nbformat": 4,
 "nbformat_minor": 1
}
