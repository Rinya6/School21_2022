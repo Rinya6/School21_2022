{
 "cells": [
  {
   "cell_type": "markdown",
   "metadata": {},
   "source": [
    "# Day 14. Task 04\n",
    "# Ансамбли"
   ]
  },
  {
   "cell_type": "markdown",
   "metadata": {},
   "source": [
    "## 0. Импорты"
   ]
  },
  {
   "cell_type": "code",
   "execution_count": null,
   "metadata": {},
   "outputs": [],
   "source": []
  },
  {
   "cell_type": "markdown",
   "metadata": {},
   "source": [
    "## 1. Препроцессинг"
   ]
  },
  {
   "cell_type": "markdown",
   "metadata": {},
   "source": [
    "1. Загрузите снова тот же датафрейм, как и в прошлом задании.\n",
    "2. Воспользуйтесь `train_test_split` с параметрами `test_size=0.2`, `random_state=21` и получите `X_train`, `y_train`, `X_test`, `y_test`. Используйте дополнительный параметр `stratify`. А затем из полученных `X_train`, `y_train` сделайте снова сплит на `X_train`, `y_train`, `X_valid`, `y_valid`. Таким образом у вас появятся три датасета: обучающая выборка, валидационная выборка и тестовая выборка."
   ]
  },
  {
   "cell_type": "code",
   "execution_count": null,
   "metadata": {},
   "outputs": [],
   "source": []
  },
  {
   "cell_type": "code",
   "execution_count": null,
   "metadata": {},
   "outputs": [],
   "source": []
  },
  {
   "cell_type": "code",
   "execution_count": null,
   "metadata": {},
   "outputs": [],
   "source": []
  },
  {
   "cell_type": "markdown",
   "metadata": {},
   "source": [
    "## 2. Индивидуальные классификаторы"
   ]
  },
  {
   "cell_type": "markdown",
   "metadata": {},
   "source": [
    "1. Обучите SVM, дерево классификации и случайный лес опять же с наилучшими параметрами, которые вы обнаружили в task 02. Используйте параметр `random_state=21` для всех из них.\n",
    "2. Оцените `accuracy`, `precision` и `recall` для всех из них на валидационном куске данных.\n",
    "3. Формат результата каждой ячейки должен выглядеть так:\n",
    "\n",
    "```\n",
    "accuracy is 0.87778\n",
    "precision is 0.88162\n",
    "recall is 0.87778\n",
    "```"
   ]
  },
  {
   "cell_type": "code",
   "execution_count": null,
   "metadata": {},
   "outputs": [],
   "source": []
  },
  {
   "cell_type": "code",
   "execution_count": null,
   "metadata": {},
   "outputs": [],
   "source": []
  },
  {
   "cell_type": "code",
   "execution_count": null,
   "metadata": {},
   "outputs": [],
   "source": []
  },
  {
   "cell_type": "markdown",
   "metadata": {},
   "source": [
    "## 3. Voting classifiers"
   ]
  },
  {
   "cell_type": "markdown",
   "metadata": {},
   "source": [
    "1. Объедините три модели, которые вы только что обучили, в один `VotingClassifier`. Посчитайте `accuracy`, `precision`, `recall` на валидационной выборке.\n",
    "2. Поиграйте с разными параметрами `VotingClassifier`.\n",
    "3. Посчитайте `accuracy`, `precision` и `recall` для тестовой выборки для того `VotingClassifier`, у которого наилучшие веса с точки зрения `accuracy` на валидационной выборке (если несколько моделей имеют одинаковое `accuracy`, то выберите ту, у которой более высокий `precision`)."
   ]
  },
  {
   "cell_type": "code",
   "execution_count": null,
   "metadata": {},
   "outputs": [],
   "source": []
  },
  {
   "cell_type": "code",
   "execution_count": null,
   "metadata": {},
   "outputs": [],
   "source": []
  },
  {
   "cell_type": "code",
   "execution_count": null,
   "metadata": {},
   "outputs": [],
   "source": []
  },
  {
   "cell_type": "code",
   "execution_count": null,
   "metadata": {},
   "outputs": [],
   "source": []
  },
  {
   "cell_type": "code",
   "execution_count": null,
   "metadata": {},
   "outputs": [],
   "source": []
  },
  {
   "cell_type": "code",
   "execution_count": null,
   "metadata": {},
   "outputs": [],
   "source": []
  },
  {
   "cell_type": "code",
   "execution_count": null,
   "metadata": {},
   "outputs": [],
   "source": []
  },
  {
   "cell_type": "markdown",
   "metadata": {},
   "source": [
    "## 4. Bagging classifiers"
   ]
  },
  {
   "cell_type": "markdown",
   "metadata": {},
   "source": [
    "1. Используйте `SVM` с наилучшими параметрами для создания ансамбля `BaggingClassifier`. Попробуйте различные значения `n_estimators`. Используйте `random_state=21`.\n",
    "2. Поиграйте с разными параметрами `BaggingClassifier`.\n",
    "3. Посчитайте `accuracy`, `precision` и `recall` для тестовой выборки для того `BaggingClassifier`, у которого наилучшие веса с точки зрения `accuracy` на валидационной выборке (если несколько моделей имеют одинаковое `accuracy`, то выберите ту, у которой более высокий `precision`)."
   ]
  },
  {
   "cell_type": "code",
   "execution_count": null,
   "metadata": {},
   "outputs": [],
   "source": []
  },
  {
   "cell_type": "code",
   "execution_count": null,
   "metadata": {},
   "outputs": [],
   "source": []
  },
  {
   "cell_type": "code",
   "execution_count": null,
   "metadata": {},
   "outputs": [],
   "source": []
  },
  {
   "cell_type": "code",
   "execution_count": null,
   "metadata": {},
   "outputs": [],
   "source": []
  },
  {
   "cell_type": "code",
   "execution_count": null,
   "metadata": {},
   "outputs": [],
   "source": []
  },
  {
   "cell_type": "code",
   "execution_count": null,
   "metadata": {},
   "outputs": [],
   "source": []
  },
  {
   "cell_type": "code",
   "execution_count": null,
   "metadata": {},
   "outputs": [],
   "source": []
  },
  {
   "cell_type": "markdown",
   "metadata": {},
   "source": [
    "## 5. Stacking classifiers"
   ]
  },
  {
   "cell_type": "markdown",
   "metadata": {},
   "source": [
    "1. Чтобы в этой подзадаче мы могли сохранить воспроизводимость результатов, вам потребуется вначале создать объект генератора кросс-валидации `StratifiedKFold(n_splits=n, shuffle=True, random_state=21)`, где значение `n` вам нужно будет оптимизировать. Подробности ниже.\n",
    "2. Объедините три модели, которые вы обучили ранее, в один StackingClassifier. Посчитайте accuracy, precision, recall на валидационной выборке. Попробуйте разные значения `n_splits` `[2, 3, 4, 5, 6, 7]` в генераторе кроссвалидации и разные значения параметра `passthrough` в самом StackingClassifier.\n",
    "3. Посчитайте `accuracy`, `precision` и `recall` для тестовой выборки для того `StackingClassifier`, у которого наилучшие веса с точки зрения `accuracy` на валидационной выборке (если несколько моделей имеют одинаковое `accuracy`, то выберите ту, у которой более высокий `precision`). Используйте `final_estimator=LogisticRegression(solver='liblinear')`."
   ]
  },
  {
   "cell_type": "code",
   "execution_count": null,
   "metadata": {},
   "outputs": [],
   "source": []
  },
  {
   "cell_type": "code",
   "execution_count": null,
   "metadata": {},
   "outputs": [],
   "source": []
  },
  {
   "cell_type": "code",
   "execution_count": null,
   "metadata": {},
   "outputs": [],
   "source": []
  },
  {
   "cell_type": "code",
   "execution_count": null,
   "metadata": {},
   "outputs": [],
   "source": []
  },
  {
   "cell_type": "code",
   "execution_count": null,
   "metadata": {},
   "outputs": [],
   "source": []
  },
  {
   "cell_type": "code",
   "execution_count": null,
   "metadata": {},
   "outputs": [],
   "source": []
  },
  {
   "cell_type": "markdown",
   "metadata": {},
   "source": [
    "## 6. Прогнозы"
   ]
  },
  {
   "cell_type": "markdown",
   "metadata": {},
   "source": [
    "1. Выберите лучшую модель с точки зрения accuracy (если несколько моделей имеют одинаковое accuracy, то выберите ту, у которой более высокий precision).\n",
    "2. Проанализируйте: для какого дня недели модель делает больше всего ошибок (в % от общего количество наблюдений этого класса в вашем датасете). Также проанализируйте на какой лаборатороной работе и на каком юзере модель делает больше всего ошибок.\n",
    "3. Сохраните модель."
   ]
  },
  {
   "cell_type": "code",
   "execution_count": null,
   "metadata": {},
   "outputs": [],
   "source": []
  },
  {
   "cell_type": "code",
   "execution_count": null,
   "metadata": {},
   "outputs": [],
   "source": []
  },
  {
   "cell_type": "code",
   "execution_count": null,
   "metadata": {},
   "outputs": [],
   "source": []
  },
  {
   "cell_type": "code",
   "execution_count": null,
   "metadata": {},
   "outputs": [],
   "source": []
  }
 ],
 "metadata": {
  "kernelspec": {
   "display_name": "Python 3",
   "language": "python",
   "name": "python3"
  },
  "language_info": {
   "codemirror_mode": {
    "name": "ipython",
    "version": 3
   },
   "file_extension": ".py",
   "mimetype": "text/x-python",
   "name": "python",
   "nbconvert_exporter": "python",
   "pygments_lexer": "ipython3",
   "version": "3.7.7"
  }
 },
 "nbformat": 4,
 "nbformat_minor": 4
}
