{
 "cells": [
  {
   "cell_type": "markdown",
   "metadata": {},
   "source": [
    "# Day 14. Task 05\n",
    "# Пайплайны и ООП"
   ]
  },
  {
   "cell_type": "markdown",
   "metadata": {},
   "source": [
    "## 0. Импорты"
   ]
  },
  {
   "cell_type": "code",
   "execution_count": null,
   "metadata": {},
   "outputs": [],
   "source": []
  },
  {
   "cell_type": "markdown",
   "metadata": {},
   "source": [
    "## 1. Пайплайн препроцессинга"
   ]
  },
  {
   "cell_type": "markdown",
   "metadata": {},
   "source": [
    "Создайте три кастомных трансформера согласно указаниям ниже. Первые два трансформера из списка будут использованы внутри [Pipeline](https://scikit-learn.org/stable/modules/generated/sklearn.pipeline.Pipeline.html).\n",
    "\n",
    "1. Класс `FeatureExtractor()`:\n",
    "    - принимает на вход датафрейм с полями `uid`, `labname`, `numTrials`, `timestamp` из файла `datasets/checker_submits.csv`\n",
    "    - вытаскивает `hour` из `timestamp`\n",
    "    - вытаскивает `weekday` из `timestamp` (сохраняет в виде цифр)\n",
    "    - удаляет столбец `timestamp`\n",
    "    - возвращает новый датафрейм\n",
    "    \n",
    "2. Класс `MyOneHotEncoder()`:\n",
    "    - принимает на вход датафрейм из предыдущего трансформера и название столбца с целевой переменной\n",
    "    - обнаруживает все категориальные признаки и трансормирует их при помощи `OneHotEncoder()`. Если целевая переменная является тоже категориальной, то трансформация на нее не распространяется\n",
    "    - удаляет изначальные категориальные столбцы из датафрейма\n",
    "    - возвращает датафрейм с признаками и series со столбцом целевой переменной\n",
    "    \n",
    "3. Класс `TrainValidationTest()`:\n",
    "    - принимает на вход `X` и `y`\n",
    "    - возвращает `X_train`, `X_valid`, `X_test`, `y_train`, `y_valid`, `y_test` (`test_size=0.2`, `random_state=21`, `stratified`)."
   ]
  },
  {
   "cell_type": "code",
   "execution_count": null,
   "metadata": {},
   "outputs": [],
   "source": []
  },
  {
   "cell_type": "code",
   "execution_count": null,
   "metadata": {},
   "outputs": [],
   "source": []
  },
  {
   "cell_type": "code",
   "execution_count": null,
   "metadata": {},
   "outputs": [],
   "source": []
  },
  {
   "cell_type": "markdown",
   "metadata": {},
   "source": [
    "## 2. Пайплайн выбора модели"
   ]
  },
  {
   "cell_type": "markdown",
   "metadata": {},
   "source": [
    "Класс `ModelSelection()`\n",
    "   - Принимает на вход список экземпляров `GridSearchCV` и словарь, в котором ключами являются индексы из этого списка, а значениями – названия моделей. Ниже пример в обратном порядке (для лучшего понимания, строки кода не будут работать при прогоне). Такой порядок позволяет посмотреть на это от общего к частному:\n",
    "    \n",
    "    \n",
    "```\n",
    "ModelSelection(grids, grid_dict)\n",
    "\n",
    "grids = [gs_svm, gs_tree, gs_rf]\n",
    "\n",
    "gs_svm = GridSearchCV(estimator=svm, param_grid=svm_params, scoring='accuracy', cv=2, n_jobs=jobs), where jobs you can specify by yourself\n",
    "\n",
    "svm_params = [{'kernel':('linear', 'rbf', 'sigmoid'), 'C':[0.01, 0.1, 1, 1.5, 5, 10], 'gamma': ['scale', 'auto'], 'class_weight':('balanced', None), 'random_state':[21], 'probability':[True]}]\n",
    "```\n",
    "\n",
    "   - метод `choose()` принимает на вход `X_train`, `y_train`, `X_valid`, `y_valid` и возвращает название лучшего классификатора среди всех моделей на валидационной выборке\n",
    "   - метод `best_results()` возвращает датафрейм со столбцами `model`, `params`, `valid_score`, где строки – это модели, являющиеся лучшими в своем классе моделей (пример ниже, ваши значения будут другими)\n",
    "    \n",
    "```\n",
    "model\tparams\tvalid_score\n",
    "0\tSVM\t{'C': 10, 'class_weight': None, 'gamma': 'auto...\t0.772727\n",
    "1\tDecision Tree\t{'class_weight': 'balanced', 'criterion': 'gin...\t0.801484\n",
    "2\tRandom Forest\t{'class_weight': None, 'criterion': 'entropy',...\t0.855288\n",
    "```\n",
    "\n",
    "   - когда вы итерируетесь по параметрам класса моделей, выводите на экран название этого класса, а также показывайте прогресс, используя `tqdm.notebook`, в конце цикла этого класса моделей выведете на экран лучшую модель этого класса (ниже пример, значения могут отличаться)\n",
    "    \n",
    "```\n",
    "Estimator: SVM\n",
    "100%\n",
    "72/72 [01:32<00:00, 1.36it/s]\n",
    "Best params: {'C': 10, 'class_weight': None, 'gamma': 'auto', 'kernel': 'rbf', 'probability': True, 'random_state': 21}\n",
    "Best training accuracy: 0.773\n",
    "Validation set accuracy score for best params: 0.878 \n",
    "\n",
    "Estimator: Decision Tree\n",
    "100%\n",
    "196/196 [01:07<00:00, 1.22it/s]\n",
    "Best params: {'class_weight': 'balanced', 'criterion': 'gini', 'max_depth': 21, 'random_state': 21}\n",
    "Best training accuracy: 0.801\n",
    "Validation set accuracy score for best params: 0.867 \n",
    "\n",
    "Estimator: Random Forest\n",
    "100%\n",
    "784/784 [06:47<00:00, 1.13s/it]\n",
    "Best params: {'class_weight': None, 'criterion': 'entropy', 'max_depth': 22, 'n_estimators': 50, 'random_state': 21}\n",
    "Best training accuracy: 0.855\n",
    "Validation set accuracy score for best params: 0.907 \n",
    "\n",
    "Classifier with best validation set accuracy: Random Forest\n",
    "```"
   ]
  },
  {
   "cell_type": "code",
   "execution_count": null,
   "metadata": {},
   "outputs": [],
   "source": []
  },
  {
   "cell_type": "markdown",
   "metadata": {},
   "source": [
    "## 3. Финализация"
   ]
  },
  {
   "cell_type": "markdown",
   "metadata": {},
   "source": [
    "Класс `Finalize()`\n",
    "   - принимает на вход estimator (класс, который оценивает качество модели)\n",
    "   - у класса должен быть метод `save_model()`, который сохраняет финальную модель с заданным путем и именем и сообщает, что модель успешно сохранена, а также метод `final_score()`, который принимает на вход `X_train`, `y_train`, `X_test`, `y_test` и возвращает accuracy модели, как в примере ниже:\n",
    "\n",
    "```\n",
    "final.final_score(X_train, y_train, X_test, y_test)\n",
    "Accuracy of the final model is 0.908284023668639\n",
    "```"
   ]
  },
  {
   "cell_type": "code",
   "execution_count": null,
   "metadata": {},
   "outputs": [],
   "source": []
  },
  {
   "cell_type": "markdown",
   "metadata": {},
   "source": [
    "## 4. Основная программа"
   ]
  },
  {
   "cell_type": "markdown",
   "metadata": {},
   "source": [
    "1. Загрузите данные из файла.\n",
    "2. Создайте пайплайн препроцессинга, который состоит из двух написанных вами трансформеров: `FeatureExtractor()` и `MyOneHotEncoder()`.\n",
    "```\n",
    "preprocessing = Pipeline([('feature_extractor', FeatureExtractor()), ('onehot_encoder', MyOneHotEncoder('dayofweek'))])\n",
    "```\n",
    "3. Примените этот пайплайн и его метод `fit_transform()` по отношению к изначальному датасету.\n",
    "```\n",
    "data = preprocessing.fit_transform(df)\n",
    "```\n",
    "4. Получите `X_train`, `X_valid`, `X_test`, `y_train`, `y_valid`, `y_test`, используя `TrainValidationTest()` и результат предыдущего пайплайна.\n",
    "5. Создайте объект класса `ModelSelection()`, воспользуйтесь методом `choose()`, применив его к тем моделям и тем параметрам моделей, которые вы хотите. Получите датафрейм с лучшими результатами.\n",
    "6. Создайте объект класса `Finalize()` с вашей лучшей моделью. Воспользуйтесь методом `final_score()` и сохраните модель в формате `name_of_the_model_{accuracy on test dataset}.sav`.\n",
    "\n",
    "Это всё. Поздравляем! Это серьезный результат. Вы смогли автоматизировать свою работу."
   ]
  },
  {
   "cell_type": "code",
   "execution_count": null,
   "metadata": {},
   "outputs": [],
   "source": []
  },
  {
   "cell_type": "code",
   "execution_count": null,
   "metadata": {},
   "outputs": [],
   "source": []
  },
  {
   "cell_type": "code",
   "execution_count": null,
   "metadata": {},
   "outputs": [],
   "source": []
  },
  {
   "cell_type": "code",
   "execution_count": null,
   "metadata": {},
   "outputs": [],
   "source": []
  },
  {
   "cell_type": "code",
   "execution_count": null,
   "metadata": {},
   "outputs": [],
   "source": []
  },
  {
   "cell_type": "code",
   "execution_count": null,
   "metadata": {},
   "outputs": [],
   "source": []
  },
  {
   "cell_type": "code",
   "execution_count": null,
   "metadata": {},
   "outputs": [],
   "source": []
  },
  {
   "cell_type": "code",
   "execution_count": null,
   "metadata": {},
   "outputs": [],
   "source": []
  },
  {
   "cell_type": "code",
   "execution_count": null,
   "metadata": {},
   "outputs": [],
   "source": []
  },
  {
   "cell_type": "code",
   "execution_count": null,
   "metadata": {},
   "outputs": [],
   "source": []
  },
  {
   "cell_type": "code",
   "execution_count": null,
   "metadata": {},
   "outputs": [],
   "source": []
  },
  {
   "cell_type": "code",
   "execution_count": null,
   "metadata": {},
   "outputs": [],
   "source": []
  },
  {
   "cell_type": "code",
   "execution_count": null,
   "metadata": {},
   "outputs": [],
   "source": []
  },
  {
   "cell_type": "code",
   "execution_count": null,
   "metadata": {},
   "outputs": [],
   "source": []
  },
  {
   "cell_type": "code",
   "execution_count": null,
   "metadata": {},
   "outputs": [],
   "source": []
  },
  {
   "cell_type": "code",
   "execution_count": null,
   "metadata": {},
   "outputs": [],
   "source": []
  },
  {
   "cell_type": "code",
   "execution_count": null,
   "metadata": {},
   "outputs": [],
   "source": []
  }
 ],
 "metadata": {
  "kernelspec": {
   "display_name": "Python 3",
   "language": "python",
   "name": "python3"
  },
  "language_info": {
   "codemirror_mode": {
    "name": "ipython",
    "version": 3
   },
   "file_extension": ".py",
   "mimetype": "text/x-python",
   "name": "python",
   "nbconvert_exporter": "python",
   "pygments_lexer": "ipython3",
   "version": "3.7.7"
  }
 },
 "nbformat": 4,
 "nbformat_minor": 4
}
