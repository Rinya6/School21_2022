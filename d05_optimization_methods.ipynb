{
  "nbformat": 4,
  "nbformat_minor": 0,
  "metadata": {
    "colab": {
      "name": "d05_optimization methods.ipynb\"",
      "provenance": []
    },
    "kernelspec": {
      "name": "python3",
      "display_name": "Python 3"
    },
    "language_info": {
      "name": "python"
    }
  },
  "cells": [
    {
      "cell_type": "markdown",
      "source": [
        "**Task 1**\n",
        "\n",
        "1. Установите библиотеку sympy.\n",
        "\n",
        "2. Используя ее функции, напишите свою функцию, которая на вход примет математическую функцию y=f(x) вида x**2 - x + 21, и вернёт производную: 2𝑥−1.\n",
        "\n",
        "\n"
      ],
      "metadata": {
        "id": "IpC4eWR2Zoch"
      }
    },
    {
      "cell_type": "code",
      "source": [
        "# установка библиотеки sympy\n",
        "\n",
        "from sympy import *"
      ],
      "metadata": {
        "id": "S19DwG36Zw7Q"
      },
      "execution_count": null,
      "outputs": []
    },
    {
      "cell_type": "code",
      "source": [
        "def fun1(f):\n",
        "  x = Symbol('x')\n",
        "  derivative_f = diff(f, x)\n",
        "  return derivative_f"
      ],
      "metadata": {
        "id": "M-2TFNbAmCQl"
      },
      "execution_count": null,
      "outputs": []
    },
    {
      "cell_type": "code",
      "source": [
        "f = input(\"Функция y = f(x) вида: \")\n",
        "print(\"Производная =\", fun1(f))"
      ],
      "metadata": {
        "colab": {
          "base_uri": "https://localhost:8080/"
        },
        "id": "mUNwxMtpymWI",
        "outputId": "a53117ae-ff17-4a46-eb35-1dc6b1b4fe05"
      },
      "execution_count": null,
      "outputs": [
        {
          "output_type": "stream",
          "name": "stdout",
          "text": [
            "Функция y = f(x) вида: x**2 - x + 21\n",
            "Производная = 2*x - 1\n"
          ]
        }
      ]
    },
    {
      "cell_type": "markdown",
      "source": [
        "**Task 2**\n",
        "\n",
        "В этот раз напишите свою функцию, которая на вход примет математическую функцию p = f(x, y), зависящую от двух переменных вида (x-y)**2, а также ту переменную, по которой нужно посчитать частную производную. Функция должна вернуть частную производную этой переменной: 2𝑥−2𝑦."
      ],
      "metadata": {
        "id": "15oRLMMSa6g1"
      }
    },
    {
      "cell_type": "code",
      "source": [
        "def fun2(f, xy):\n",
        "  derivative_xy = diff(f, xy)\n",
        "  return derivative_xy"
      ],
      "metadata": {
        "id": "mUxYJ0SIsfe-"
      },
      "execution_count": null,
      "outputs": []
    },
    {
      "cell_type": "code",
      "source": [
        "f = input(\"Производная функция p = f(x, y) вида: \")\n",
        "xy = input(\"Введите переменную 'х' или 'y': \")\n",
        "print(f\"Частная производная переменной {xy} =\",  fun2(f, xy))"
      ],
      "metadata": {
        "colab": {
          "base_uri": "https://localhost:8080/"
        },
        "id": "0-_y6hlzslkU",
        "outputId": "d51518ef-608f-4d8c-b74c-4b2d85492205"
      },
      "execution_count": null,
      "outputs": [
        {
          "output_type": "stream",
          "name": "stdout",
          "text": [
            "Производная функция p = f(x, y) вида: (x-y)**2\n",
            "Введите переменную 'х' или 'y': x\n",
            "Частная производная переменной x = 2*x - 2*y\n"
          ]
        }
      ]
    },
    {
      "cell_type": "markdown",
      "source": [
        "**Task 3**\n",
        "\n",
        "1. Вам надо написать математическую функцию. Представьте, что у вас есть y_true и есть y_pred (предсказанное). Вам надо посчитать квадрат отклонения одного от другого. Причём предсказанное значение получается при помощи функции линейной регрессии: y = wx +b. Дополнительно поделим всё это на n.\n",
        "\n",
        "2. Нужно написать функцию Python, которая примет на вход эту функцию и ту переменную, по которой нам надо посчитать частные производные. Нас будут интересовать w и b. Именно их наилучшие значения мы и будем в дальнейшем искать. Функция должна вернуть производные сразу по обеим этим переменным."
      ],
      "metadata": {
        "id": "1yC_R1gHXi0g"
      }
    },
    {
      "cell_type": "code",
      "source": [
        "# установка библиотеки math, для работы с математическими функциями\n",
        "import math"
      ],
      "metadata": {
        "id": "YxmH-n0ebicH"
      },
      "execution_count": null,
      "outputs": []
    },
    {
      "cell_type": "code",
      "source": [
        "# создаем \"символы\" с нужными именами x, y, w, b, n \n",
        "\n",
        "x, y, w, b, n = symbols('x y w b n')"
      ],
      "metadata": {
        "id": "U85Evq8_zu07"
      },
      "execution_count": null,
      "outputs": []
    },
    {
      "cell_type": "code",
      "source": [
        "def fun3(f):\n",
        "  y_true = y\n",
        "  y_pred = w * x + b\n",
        "  squared_deviation = ((y_true - y_pred)**2)/n\n",
        "  return squared_deviation"
      ],
      "metadata": {
        "id": "h8kq1m9ecHuK"
      },
      "execution_count": null,
      "outputs": []
    },
    {
      "cell_type": "code",
      "source": [
        "f3 = fun3(f)\n",
        "wb = input(\"Введите переменную 'w' или 'b': \")\n",
        "print(f\"Частная производная переменной {wb} =\",  diff(f3, wb))"
      ],
      "metadata": {
        "colab": {
          "base_uri": "https://localhost:8080/"
        },
        "id": "aacwJcuVX2Vt",
        "outputId": "44df2879-9800-4ab8-ae33-8650dee50631"
      },
      "execution_count": null,
      "outputs": [
        {
          "output_type": "stream",
          "name": "stdout",
          "text": [
            "Введите переменную 'w' или 'b': w\n",
            "Частная производная переменной w = -2*x*(-b - w*x + y)/n\n"
          ]
        }
      ]
    },
    {
      "cell_type": "markdown",
      "source": [
        "**Task 4**\n",
        "\n",
        "1. В этот раз вам надо написать класс Gradient(), который будет состоять из нескольких методов. Объект при инициализации получает два вектора: X, Y. Далее методы обращаются к ним уже внутри класса.\n",
        "\n",
        "\n",
        "* **predict**: на вход она получает w, b, на выход она выдаёт прогнозные значения Y_pred;\n",
        "\n",
        "* **mse**: на вход она получает Y_pred, на выход выдает посчитанное MSE;\n",
        "\n",
        "* **update**: на вход она получает w, b и 'a' (наш learning rate). Сделайте по умолчанию значение a=0.01. А на выходe метод выдаёт новые значения w, b, которые обновились благодаря посчитанным градиентам.\n",
        "\n",
        "\n",
        "2. Проверить работу методов, подав на вход класса два вектора X, Y и начальные параметры w, b в требуемые методы.\n",
        "\n",
        "\n"
      ],
      "metadata": {
        "id": "ODdFDDBi2afu"
      }
    },
    {
      "cell_type": "code",
      "source": [
        "import numpy as np\n",
        "from sklearn.linear_model import LinearRegression"
      ],
      "metadata": {
        "id": "q6_jGZ-Pz5ff"
      },
      "execution_count": null,
      "outputs": []
    },
    {
      "cell_type": "code",
      "source": [
        "class Gradient:\n",
        "  def __init__(self, X, Y):\n",
        "    self.X = X\n",
        "    self.Y = Y\n",
        "  def predict(self, w , b):\n",
        "    y_pred = w * self.X + b\n",
        "    return y_pred\n",
        "  def mse(self, y_pred):\n",
        "    mse = ((self.Y - y_pred)**2).mean()\n",
        "    return mse\n",
        "  def update(self, w, b, a):\n",
        "     w_new = w\n",
        "     b_new = b\n",
        "     a = 0.01    # наш learning rate из задания\n",
        "     w = w_new - a * ((2 * b_new + 2 * w_new * self.X - 2 * self.Y) * self.X).mean()\n",
        "     b = b_new - a * (2 * b_new + 2 * w_new * self.X - 2 * self.Y).mean()\n",
        "     return w, b"
      ],
      "metadata": {
        "id": "48JHzKViuzrI"
      },
      "execution_count": null,
      "outputs": []
    },
    {
      "cell_type": "markdown",
      "source": [
        "Проверить работу методов, подав на вход класса два вектора X, Y и начальные параметры w, b в требуемые методы\n",
        "\n",
        "MSE"
      ],
      "metadata": {
        "id": "QhW2LGnlCG4a"
      }
    },
    {
      "cell_type": "code",
      "source": [
        "X =  np.array([53.68, 39.56, 60.68])\n",
        "Y = np.array([31.58, 87.09, 75.92]) \n",
        "w = 2\n",
        "b = 8\n",
        "grad = Gradient(X, Y)\n",
        "y_pred = grad.predict(w, b)\n",
        "grad.mse(y_pred)"
      ],
      "metadata": {
        "colab": {
          "base_uri": "https://localhost:8080/"
        },
        "id": "TKI8Ws2GA71I",
        "outputId": "92c840f4-d294-4fca-d234-5a938e256c65"
      },
      "execution_count": null,
      "outputs": [
        {
          "output_type": "execute_result",
          "data": {
            "text/plain": [
              "3291.6409666666673"
            ]
          },
          "metadata": {},
          "execution_count": 12
        }
      ]
    },
    {
      "cell_type": "markdown",
      "source": [
        "**Task 5**\n",
        "\n",
        "Улучшите ваш код таким образом, чтобы появился метод optimize. Он должен итеративным образом пройти какое-то количество раз обновление значений w, b, придя к оптимальному значению. Критерии останова:\n",
        "- если было превышено количество заранее заданных итераций `num_iterations`;\n",
        "\n",
        "- если новая итерация выдала разницу между текущей ошибкой и ошибкой прошлой итерации значение, меньшее, чем `stopping_threshold`;\n",
        "\n",
        "- метод должен вернуть финальные значения `w`, `b`, и `mse`.\n"
      ],
      "metadata": {
        "id": "EZpHTHAhWerG"
      }
    },
    {
      "cell_type": "code",
      "source": [
        "from traitlets.traitlets import MetaHasDescriptors\n",
        "class Gradient:\n",
        "  def __init__(self, X, Y):\n",
        "    self.X = X\n",
        "    self.Y = Y\n",
        "  def predict(self, w , b):\n",
        "    y_pred = w * self.X + b\n",
        "    return y_pred\n",
        "  def mse(self, y_pred):\n",
        "    mse = ((self.Y - y_pred)**2).mean()\n",
        "    return mse\n",
        "  def update(self, w, b):\n",
        "     w_new = w\n",
        "     b_new = b\n",
        "     a = 0.01    # наш learning rate из задания\n",
        "     w = w_new - a * ((2 * b_new + 2 * w_new * self.X - 2 * self.Y) * self.X).mean()\n",
        "     b = b_new - a * (2 * b_new + 2 * w_new * self.X - 2 * self.Y).mean()\n",
        "     return w, b\n",
        "\n",
        "  def optimize(self, num_iterations, stopping_threshold, w, b):\n",
        "    y_pred = self.predict(w, b)\n",
        "    mse = self.mse(y_pred)\n",
        "    for i in range(num_iterations):\n",
        "      w, b = self.update(w, b)\n",
        "      y_pred = self.predict(w, b)\n",
        "      if abs(mse - self.mse(y_pred)) < stopping_threshold:\n",
        "        return w, b, self.mse(y_pred)\n",
        "      mse = self.mse(y_pred)\n",
        "      print('Обновление значений: w = {}, b = {}, mse = {}'.format(w, b, mse))\n",
        "    return w, b, mse"
      ],
      "metadata": {
        "id": "8RTMo6T9Dxf6"
      },
      "execution_count": null,
      "outputs": []
    },
    {
      "cell_type": "markdown",
      "source": [
        "Метод должен вернуть финальные значения: w, b, mse"
      ],
      "metadata": {
        "id": "kZj7SEqmwlnm"
      }
    },
    {
      "cell_type": "code",
      "source": [
        "num_iterations = 10\n",
        "stopping_threshold = 0.01\n",
        "w = 2\n",
        "b = 8\n",
        "grad = Gradient(X, Y)\n",
        "grad.optimize(num_iterations, stopping_threshold, w, b)"
      ],
      "metadata": {
        "colab": {
          "base_uri": "https://localhost:8080/"
        },
        "id": "rDNJZi-KZJcc",
        "outputId": "f6218af3-97e0-4cce-d588-1c05c7410995"
      },
      "execution_count": null,
      "outputs": [
        {
          "output_type": "stream",
          "name": "stdout",
          "text": [
            "Обновление значений: w = -49.608242666666676, b = 7.085, mse = 6958311.926120744\n",
            "Обновление значений: w = 2696.4069517805237, b = 59.145238075022235, mse = 19698801004.845318\n",
            "Обновление значений: w = -143419.36337246315, b = -2707.613453473533, mse = 55773475378583.47\n",
            "Обновление значений: w = 7631413.37543808, b = 144515.22548419278, mse = 1.5791218392290358e+17\n",
            "Обновление значений: w = -406068110.55463326, b = -7689221.426741688, mse = 4.4709887024986194e+20\n",
            "Обновление значений: w = 21606919412.476963, b = 409144588.1428542, mse = 1.2658769881638675e+24\n",
            "Обновление значений: w = -1149706054523.8484, b = -21770618542.112434, mse = 3.5840943822275725e+27\n",
            "Обновление значений: w = 61175958804733.586, b = 1158416499912.0986, mse = 1.014769417630994e+31\n",
            "Обновление значений: w = -3255178070037133.5, b = -61639442358248.81, mse = 2.873130172200253e+34\n",
            "Обновление значений: w = 1.7320830722854102e+17, b = 3279840070089687.5, mse = 8.134731736081176e+37\n"
          ]
        },
        {
          "output_type": "execute_result",
          "data": {
            "text/plain": [
              "(1.7320830722854102e+17, 3279840070089687.5, 8.134731736081176e+37)"
            ]
          },
          "metadata": {},
          "execution_count": 14
        }
      ]
    }
  ]
}