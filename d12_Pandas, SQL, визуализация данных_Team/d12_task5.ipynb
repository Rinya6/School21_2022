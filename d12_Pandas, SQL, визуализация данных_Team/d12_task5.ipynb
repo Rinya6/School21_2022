{
 "cells": [
  {
   "cell_type": "markdown",
   "metadata": {
    "toc": true
   },
   "source": [
    "<h1>Table of Contents<span class=\"tocSkip\"></span></h1>\n",
    "<div class=\"toc\"><ul class=\"toc-item\"><li><span><a href=\"#Task5\" data-toc-modified-id=\"Task5-1\"><span class=\"toc-item-num\">1&nbsp;&nbsp;</span>Task5</a></span></li></ul></div>"
   ]
  },
  {
   "cell_type": "markdown",
   "metadata": {
    "id": "2BMfpfRbzT-Z"
   },
   "source": [
    "# Task5"
   ]
  },
  {
   "cell_type": "markdown",
   "metadata": {
    "id": "cPtUBrI3IxHb"
   },
   "source": [
    "В предыдущем задании вы визуализировали распределение, вручную группируя значения с помощью библиотеки Pandas. Было бы полезно как-то автоматизировать эту задачу? Нет ничего проще.\n",
    "Но для этого нам нужно использовать другой тип визуализации данных — гистограмму. На этот раз вместо средних значений мы будем использовать абсолютные значения числа коммитов и сравним их в рабочие и выходные дни.\n",
    "Выполните необходимые шаги по созданию следующего графика:\n",
    "\n",
    "1.   Анализируйте только пользователей, а не администраторов.\n",
    "2. Используйте фильтр status = 'ready' для коммитов.\n",
    "3. Создайте два списка значений (для рабочих дней и для выходных) в качестве входных данных для гистограммы.\n",
    "4. Размер figsize остается прежним; размер шрифта и цветовую палитру выбирайте по своему вкусу.\n",
    "5. Используйте уровень прозрачности 0,7 для переднего слоя гистограммы.\n",
    "6. В конце Jupyter Notebook создайте markdown-ячейку и вставьте вопрос: «Существуют ли часы, когда общее количество коммитов было выше в выходные дни, чем в рабочие?». В своем ответе приведите примеры с 4 наибольшими значениями."
   ]
  },
  {
   "cell_type": "code",
   "execution_count": 1,
   "metadata": {
    "executionInfo": {
     "elapsed": 901,
     "status": "ok",
     "timestamp": 1664886053364,
     "user": {
      "displayName": "Екатерина Брехова",
      "userId": "16764158528938825478"
     },
     "user_tz": -180
    },
    "id": "aaOR2WkUrj17"
   },
   "outputs": [],
   "source": [
    "import sqlite3   #импорт библиотек\n",
    "import pandas as pd\n",
    "import seaborn as sns\n",
    "import matplotlib.pyplot as plt\n",
    "%matplotlib inline\n",
    "import datetime as dt\n",
    "from datetime import date\n",
    "import calendar"
   ]
  },
  {
   "cell_type": "code",
   "execution_count": 2,
   "metadata": {
    "colab": {
     "base_uri": "https://localhost:8080/"
    },
    "executionInfo": {
     "elapsed": 17509,
     "status": "ok",
     "timestamp": 1664886096001,
     "user": {
      "displayName": "Екатерина Брехова",
      "userId": "16764158528938825478"
     },
     "user_tz": -180
    },
    "id": "bQHSuRHcsHc6",
    "outputId": "a2e264ed-33c4-4d6a-ba5e-69b63da30fb4"
   },
   "outputs": [],
   "source": [
    "# from google.colab import drive   #подключаем диск\n",
    "# drive.mount('/content/drive', force_remount=True)"
   ]
  },
  {
   "cell_type": "code",
   "execution_count": 3,
   "metadata": {
    "executionInfo": {
     "elapsed": 722,
     "status": "ok",
     "timestamp": 1664886099497,
     "user": {
      "displayName": "Екатерина Брехова",
      "userId": "16764158528938825478"
     },
     "user_tz": -180
    },
    "id": "_wpixI3jAm4L"
   },
   "outputs": [],
   "source": [
    "data = sqlite3.connect('../data/checking-logs.sqlite') #соединились с базой данных с помощью библиотеки sqlite3"
   ]
  },
  {
   "cell_type": "code",
   "execution_count": 4,
   "metadata": {
    "colab": {
     "base_uri": "https://localhost:8080/",
     "height": 424
    },
    "executionInfo": {
     "elapsed": 594,
     "status": "ok",
     "timestamp": 1664886101416,
     "user": {
      "displayName": "Екатерина Брехова",
      "userId": "16764158528938825478"
     },
     "user_tz": -180
    },
    "id": "SMmvUQ9KFUhh",
    "outputId": "c0913c4e-9dec-45e1-b149-1513feae32d8"
   },
   "outputs": [
    {
     "data": {
      "text/html": [
       "<div>\n",
       "<style scoped>\n",
       "    .dataframe tbody tr th:only-of-type {\n",
       "        vertical-align: middle;\n",
       "    }\n",
       "\n",
       "    .dataframe tbody tr th {\n",
       "        vertical-align: top;\n",
       "    }\n",
       "\n",
       "    .dataframe thead th {\n",
       "        text-align: right;\n",
       "    }\n",
       "</style>\n",
       "<table border=\"1\" class=\"dataframe\">\n",
       "  <thead>\n",
       "    <tr style=\"text-align: right;\">\n",
       "      <th></th>\n",
       "      <th>index</th>\n",
       "      <th>status</th>\n",
       "      <th>success</th>\n",
       "      <th>timestamp</th>\n",
       "      <th>numTrials</th>\n",
       "      <th>labname</th>\n",
       "      <th>uid</th>\n",
       "    </tr>\n",
       "  </thead>\n",
       "  <tbody>\n",
       "    <tr>\n",
       "      <th>0</th>\n",
       "      <td>7</td>\n",
       "      <td>ready</td>\n",
       "      <td>0</td>\n",
       "      <td>2020-04-17 05:19:02.744528</td>\n",
       "      <td>1</td>\n",
       "      <td>project1</td>\n",
       "      <td>user_4</td>\n",
       "    </tr>\n",
       "    <tr>\n",
       "      <th>1</th>\n",
       "      <td>9</td>\n",
       "      <td>ready</td>\n",
       "      <td>1</td>\n",
       "      <td>2020-04-17 05:22:45.549397</td>\n",
       "      <td>2</td>\n",
       "      <td>project1</td>\n",
       "      <td>user_4</td>\n",
       "    </tr>\n",
       "    <tr>\n",
       "      <th>2</th>\n",
       "      <td>11</td>\n",
       "      <td>ready</td>\n",
       "      <td>1</td>\n",
       "      <td>2020-04-17 05:34:24.422370</td>\n",
       "      <td>3</td>\n",
       "      <td>project1</td>\n",
       "      <td>user_4</td>\n",
       "    </tr>\n",
       "    <tr>\n",
       "      <th>3</th>\n",
       "      <td>13</td>\n",
       "      <td>ready</td>\n",
       "      <td>0</td>\n",
       "      <td>2020-04-17 05:43:27.773992</td>\n",
       "      <td>4</td>\n",
       "      <td>project1</td>\n",
       "      <td>user_4</td>\n",
       "    </tr>\n",
       "    <tr>\n",
       "      <th>4</th>\n",
       "      <td>15</td>\n",
       "      <td>ready</td>\n",
       "      <td>1</td>\n",
       "      <td>2020-04-17 05:46:32.275104</td>\n",
       "      <td>5</td>\n",
       "      <td>project1</td>\n",
       "      <td>user_4</td>\n",
       "    </tr>\n",
       "    <tr>\n",
       "      <th>...</th>\n",
       "      <td>...</td>\n",
       "      <td>...</td>\n",
       "      <td>...</td>\n",
       "      <td>...</td>\n",
       "      <td>...</td>\n",
       "      <td>...</td>\n",
       "      <td>...</td>\n",
       "    </tr>\n",
       "    <tr>\n",
       "      <th>1681</th>\n",
       "      <td>3393</td>\n",
       "      <td>ready</td>\n",
       "      <td>1</td>\n",
       "      <td>2020-05-21 20:01:48.959966</td>\n",
       "      <td>9</td>\n",
       "      <td>laba06s</td>\n",
       "      <td>user_19</td>\n",
       "    </tr>\n",
       "    <tr>\n",
       "      <th>1682</th>\n",
       "      <td>3395</td>\n",
       "      <td>ready</td>\n",
       "      <td>0</td>\n",
       "      <td>2020-05-21 20:18:54.487900</td>\n",
       "      <td>6</td>\n",
       "      <td>laba06s</td>\n",
       "      <td>user_1</td>\n",
       "    </tr>\n",
       "    <tr>\n",
       "      <th>1683</th>\n",
       "      <td>3397</td>\n",
       "      <td>ready</td>\n",
       "      <td>0</td>\n",
       "      <td>2020-05-21 20:19:06.872761</td>\n",
       "      <td>7</td>\n",
       "      <td>laba06s</td>\n",
       "      <td>user_1</td>\n",
       "    </tr>\n",
       "    <tr>\n",
       "      <th>1684</th>\n",
       "      <td>3399</td>\n",
       "      <td>ready</td>\n",
       "      <td>0</td>\n",
       "      <td>2020-05-21 20:22:41.877806</td>\n",
       "      <td>8</td>\n",
       "      <td>laba06s</td>\n",
       "      <td>user_1</td>\n",
       "    </tr>\n",
       "    <tr>\n",
       "      <th>1685</th>\n",
       "      <td>3401</td>\n",
       "      <td>ready</td>\n",
       "      <td>0</td>\n",
       "      <td>2020-05-21 20:37:00.290491</td>\n",
       "      <td>9</td>\n",
       "      <td>laba06s</td>\n",
       "      <td>user_1</td>\n",
       "    </tr>\n",
       "  </tbody>\n",
       "</table>\n",
       "<p>1686 rows × 7 columns</p>\n",
       "</div>"
      ],
      "text/plain": [
       "      index status  success                  timestamp  numTrials   labname  \\\n",
       "0         7  ready        0 2020-04-17 05:19:02.744528          1  project1   \n",
       "1         9  ready        1 2020-04-17 05:22:45.549397          2  project1   \n",
       "2        11  ready        1 2020-04-17 05:34:24.422370          3  project1   \n",
       "3        13  ready        0 2020-04-17 05:43:27.773992          4  project1   \n",
       "4        15  ready        1 2020-04-17 05:46:32.275104          5  project1   \n",
       "...     ...    ...      ...                        ...        ...       ...   \n",
       "1681   3393  ready        1 2020-05-21 20:01:48.959966          9   laba06s   \n",
       "1682   3395  ready        0 2020-05-21 20:18:54.487900          6   laba06s   \n",
       "1683   3397  ready        0 2020-05-21 20:19:06.872761          7   laba06s   \n",
       "1684   3399  ready        0 2020-05-21 20:22:41.877806          8   laba06s   \n",
       "1685   3401  ready        0 2020-05-21 20:37:00.290491          9   laba06s   \n",
       "\n",
       "          uid  \n",
       "0      user_4  \n",
       "1      user_4  \n",
       "2      user_4  \n",
       "3      user_4  \n",
       "4      user_4  \n",
       "...       ...  \n",
       "1681  user_19  \n",
       "1682   user_1  \n",
       "1683   user_1  \n",
       "1684   user_1  \n",
       "1685   user_1  \n",
       "\n",
       "[1686 rows x 7 columns]"
      ]
     },
     "execution_count": 4,
     "metadata": {},
     "output_type": "execute_result"
    }
   ],
   "source": [
    "sql1 = '''\n",
    "SELECT * FROM checker\n",
    "WHERE (uid LIKE \"user_%\") AND (status='ready')\n",
    "'''\n",
    "pd.read_sql(sql1, data, parse_dates='timestamp')\n"
   ]
  },
  {
   "cell_type": "code",
   "execution_count": 5,
   "metadata": {
    "colab": {
     "base_uri": "https://localhost:8080/",
     "height": 424
    },
    "executionInfo": {
     "elapsed": 416,
     "status": "ok",
     "timestamp": 1664886109228,
     "user": {
      "displayName": "Екатерина Брехова",
      "userId": "16764158528938825478"
     },
     "user_tz": -180
    },
    "id": "tnMQ3KNBFUd7",
    "outputId": "ab3324b2-f41a-43c0-bfaf-06df4974a8ff"
   },
   "outputs": [
    {
     "data": {
      "text/html": [
       "<div>\n",
       "<style scoped>\n",
       "    .dataframe tbody tr th:only-of-type {\n",
       "        vertical-align: middle;\n",
       "    }\n",
       "\n",
       "    .dataframe tbody tr th {\n",
       "        vertical-align: top;\n",
       "    }\n",
       "\n",
       "    .dataframe thead th {\n",
       "        text-align: right;\n",
       "    }\n",
       "</style>\n",
       "<table border=\"1\" class=\"dataframe\">\n",
       "  <thead>\n",
       "    <tr style=\"text-align: right;\">\n",
       "      <th></th>\n",
       "      <th>timestamp</th>\n",
       "      <th>day</th>\n",
       "      <th>hour</th>\n",
       "      <th>is_weekend</th>\n",
       "    </tr>\n",
       "  </thead>\n",
       "  <tbody>\n",
       "    <tr>\n",
       "      <th>0</th>\n",
       "      <td>2020-04-17 05:19:02.744528</td>\n",
       "      <td>4</td>\n",
       "      <td>5</td>\n",
       "      <td>weekday</td>\n",
       "    </tr>\n",
       "    <tr>\n",
       "      <th>1</th>\n",
       "      <td>2020-04-17 05:22:45.549397</td>\n",
       "      <td>4</td>\n",
       "      <td>5</td>\n",
       "      <td>weekday</td>\n",
       "    </tr>\n",
       "    <tr>\n",
       "      <th>2</th>\n",
       "      <td>2020-04-17 05:34:24.422370</td>\n",
       "      <td>4</td>\n",
       "      <td>5</td>\n",
       "      <td>weekday</td>\n",
       "    </tr>\n",
       "    <tr>\n",
       "      <th>3</th>\n",
       "      <td>2020-04-17 05:43:27.773992</td>\n",
       "      <td>4</td>\n",
       "      <td>5</td>\n",
       "      <td>weekday</td>\n",
       "    </tr>\n",
       "    <tr>\n",
       "      <th>4</th>\n",
       "      <td>2020-04-17 05:46:32.275104</td>\n",
       "      <td>4</td>\n",
       "      <td>5</td>\n",
       "      <td>weekday</td>\n",
       "    </tr>\n",
       "    <tr>\n",
       "      <th>...</th>\n",
       "      <td>...</td>\n",
       "      <td>...</td>\n",
       "      <td>...</td>\n",
       "      <td>...</td>\n",
       "    </tr>\n",
       "    <tr>\n",
       "      <th>1681</th>\n",
       "      <td>2020-05-21 20:01:48.959966</td>\n",
       "      <td>3</td>\n",
       "      <td>20</td>\n",
       "      <td>weekday</td>\n",
       "    </tr>\n",
       "    <tr>\n",
       "      <th>1682</th>\n",
       "      <td>2020-05-21 20:18:54.487900</td>\n",
       "      <td>3</td>\n",
       "      <td>20</td>\n",
       "      <td>weekday</td>\n",
       "    </tr>\n",
       "    <tr>\n",
       "      <th>1683</th>\n",
       "      <td>2020-05-21 20:19:06.872761</td>\n",
       "      <td>3</td>\n",
       "      <td>20</td>\n",
       "      <td>weekday</td>\n",
       "    </tr>\n",
       "    <tr>\n",
       "      <th>1684</th>\n",
       "      <td>2020-05-21 20:22:41.877806</td>\n",
       "      <td>3</td>\n",
       "      <td>20</td>\n",
       "      <td>weekday</td>\n",
       "    </tr>\n",
       "    <tr>\n",
       "      <th>1685</th>\n",
       "      <td>2020-05-21 20:37:00.290491</td>\n",
       "      <td>3</td>\n",
       "      <td>20</td>\n",
       "      <td>weekday</td>\n",
       "    </tr>\n",
       "  </tbody>\n",
       "</table>\n",
       "<p>1686 rows × 4 columns</p>\n",
       "</div>"
      ],
      "text/plain": [
       "                      timestamp  day  hour is_weekend\n",
       "0    2020-04-17 05:19:02.744528    4     5    weekday\n",
       "1    2020-04-17 05:22:45.549397    4     5    weekday\n",
       "2    2020-04-17 05:34:24.422370    4     5    weekday\n",
       "3    2020-04-17 05:43:27.773992    4     5    weekday\n",
       "4    2020-04-17 05:46:32.275104    4     5    weekday\n",
       "...                         ...  ...   ...        ...\n",
       "1681 2020-05-21 20:01:48.959966    3    20    weekday\n",
       "1682 2020-05-21 20:18:54.487900    3    20    weekday\n",
       "1683 2020-05-21 20:19:06.872761    3    20    weekday\n",
       "1684 2020-05-21 20:22:41.877806    3    20    weekday\n",
       "1685 2020-05-21 20:37:00.290491    3    20    weekday\n",
       "\n",
       "[1686 rows x 4 columns]"
      ]
     },
     "execution_count": 5,
     "metadata": {},
     "output_type": "execute_result"
    }
   ],
   "source": [
    "sql1 = '''\n",
    "SELECT timestamp FROM checker\n",
    "WHERE (uid LIKE \"user_%\") AND (status='ready')\n",
    "'''\n",
    "hourly_commits = pd.read_sql(sql1, data, parse_dates='timestamp')\n",
    "hourly_commits['day'] = hourly_commits.timestamp.dt.weekday\n",
    "hourly_commits['hour'] = hourly_commits.timestamp.dt.hour\n",
    "hourly_commits['is_weekend'] = hourly_commits.day.apply(lambda x: 'weekend' if x > 4 else 'weekday')\n",
    "hourly_commits"
   ]
  },
  {
   "cell_type": "code",
   "execution_count": 6,
   "metadata": {
    "colab": {
     "base_uri": "https://localhost:8080/"
    },
    "executionInfo": {
     "elapsed": 7,
     "status": "ok",
     "timestamp": 1664886112093,
     "user": {
      "displayName": "Екатерина Брехова",
      "userId": "16764158528938825478"
     },
     "user_tz": -180
    },
    "id": "2UKKZ8nnSVVR",
    "outputId": "fbf9511e-eb00-4e53-8090-1f3fb7711628"
   },
   "outputs": [
    {
     "data": {
      "text/plain": [
       "1059"
      ]
     },
     "execution_count": 6,
     "metadata": {},
     "output_type": "execute_result"
    }
   ],
   "source": [
    "weekday_commits = hourly_commits.query('is_weekend == \"weekday\"').hour.to_list()  #создали список значений для рабочих дней\n",
    "len(weekday_commits)"
   ]
  },
  {
   "cell_type": "code",
   "execution_count": 7,
   "metadata": {
    "colab": {
     "base_uri": "https://localhost:8080/"
    },
    "executionInfo": {
     "elapsed": 287,
     "status": "ok",
     "timestamp": 1664886115060,
     "user": {
      "displayName": "Екатерина Брехова",
      "userId": "16764158528938825478"
     },
     "user_tz": -180
    },
    "id": "CKYu3IHXSVRx",
    "outputId": "2c32c96d-d8f4-4c0b-8306-23871d0c51eb"
   },
   "outputs": [
    {
     "data": {
      "text/plain": [
       "627"
      ]
     },
     "execution_count": 7,
     "metadata": {},
     "output_type": "execute_result"
    }
   ],
   "source": [
    "weekend_commits = hourly_commits.query('is_weekend == \"weekend\"').hour.to_list() #создали список значений для выходных\n",
    "len(weekend_commits)"
   ]
  },
  {
   "cell_type": "markdown",
   "metadata": {
    "id": "TVQ11t99T-Rd"
   },
   "source": [
    "строим гистограмму"
   ]
  },
  {
   "cell_type": "code",
   "execution_count": 14,
   "metadata": {
    "colab": {
     "base_uri": "https://localhost:8080/",
     "height": 500
    },
    "executionInfo": {
     "elapsed": 484,
     "status": "ok",
     "timestamp": 1664886118649,
     "user": {
      "displayName": "Екатерина Брехова",
      "userId": "16764158528938825478"
     },
     "user_tz": -180
    },
    "id": "W9jOaCyAStml",
    "outputId": "2b25d6af-3249-456c-ac0e-522d0cc96f72"
   },
   "outputs": [
    {
     "data": {
      "text/plain": [
       "<matplotlib.legend.Legend at 0x204a08b6460>"
      ]
     },
     "execution_count": 14,
     "metadata": {},
     "output_type": "execute_result"
    },
    {
     "data": {
      "image/png": "[encoded data removed]",
      "text/plain": [
       "<Figure size 1080x576 with 1 Axes>"
      ]
     },
     "metadata": {
      "needs_background": "light"
     },
     "output_type": "display_data"
    }
   ],
   "source": [
    "fig, abc = plt.subplots(figsize = (15, 8))\n",
    "abc.hist(weekday_commits, bins=24, color='blue', label='working days')\n",
    "abc.hist(weekend_commits, bins=24, color='red', alpha=.7, label='weekend')\n",
    "plt.xlim(0.23)\n",
    "plt.ylim(0.155)\n",
    "abc.legend()"
   ]
  },
  {
   "cell_type": "code",
   "execution_count": 9,
   "metadata": {
    "executionInfo": {
     "elapsed": 310,
     "status": "ok",
     "timestamp": 1664886141581,
     "user": {
      "displayName": "Екатерина Брехова",
      "userId": "16764158528938825478"
     },
     "user_tz": -180
    },
    "id": "Nw49Vp7kStkO"
   },
   "outputs": [],
   "source": [
    "data.close()"
   ]
  },
  {
   "cell_type": "markdown",
   "metadata": {
    "id": "_9HSSTv9duT6"
   },
   "source": [
    "Найдем 4 (наибольших по значению коммитов) часа, когда общее количество коммитов было выше в выходные дни, чем в рабочие"
   ]
  },
  {
   "cell_type": "code",
   "execution_count": 10,
   "metadata": {
    "colab": {
     "base_uri": "https://localhost:8080/",
     "height": 175
    },
    "executionInfo": {
     "elapsed": 376,
     "status": "ok",
     "timestamp": 1664886127462,
     "user": {
      "displayName": "Екатерина Брехова",
      "userId": "16764158528938825478"
     },
     "user_tz": -180
    },
    "id": "f1ghjcT3ddZ0",
    "outputId": "7efa3f5d-3cd2-49b0-a7dc-4857bdeee1a7"
   },
   "outputs": [
    {
     "data": {
      "text/html": [
       "<div>\n",
       "<style scoped>\n",
       "    .dataframe tbody tr th:only-of-type {\n",
       "        vertical-align: middle;\n",
       "    }\n",
       "\n",
       "    .dataframe tbody tr th {\n",
       "        vertical-align: top;\n",
       "    }\n",
       "\n",
       "    .dataframe thead th {\n",
       "        text-align: right;\n",
       "    }\n",
       "</style>\n",
       "<table border=\"1\" class=\"dataframe\">\n",
       "  <thead>\n",
       "    <tr style=\"text-align: right;\">\n",
       "      <th>is_weekend</th>\n",
       "      <th>hour</th>\n",
       "      <th>weekend</th>\n",
       "    </tr>\n",
       "  </thead>\n",
       "  <tbody>\n",
       "    <tr>\n",
       "      <th>0</th>\n",
       "      <td>11</td>\n",
       "      <td>60.0</td>\n",
       "    </tr>\n",
       "    <tr>\n",
       "      <th>1</th>\n",
       "      <td>13</td>\n",
       "      <td>57.0</td>\n",
       "    </tr>\n",
       "    <tr>\n",
       "      <th>2</th>\n",
       "      <td>22</td>\n",
       "      <td>31.0</td>\n",
       "    </tr>\n",
       "    <tr>\n",
       "      <th>3</th>\n",
       "      <td>23</td>\n",
       "      <td>18.0</td>\n",
       "    </tr>\n",
       "  </tbody>\n",
       "</table>\n",
       "</div>"
      ],
      "text/plain": [
       "is_weekend  hour  weekend\n",
       "0             11     60.0\n",
       "1             13     57.0\n",
       "2             22     31.0\n",
       "3             23     18.0"
      ]
     },
     "execution_count": 10,
     "metadata": {},
     "output_type": "execute_result"
    }
   ],
   "source": [
    "answer = hourly_commits.groupby(['hour', 'is_weekend'], as_index=False)\\\n",
    "    .agg({'timestamp': 'count'})\\\n",
    "    .rename(columns={'timestamp': 'submits'})\\\n",
    "    .pivot(index='hour', columns='is_weekend', values='submits')\\\n",
    "    .fillna(0)\\\n",
    "    .query('weekend > weekday')\\\n",
    "    .sort_values(by='weekend', axis=0, ascending=False)\\\n",
    "    .reset_index()\\\n",
    "    .iloc[0:4, [0, 2]]\n",
    "answer"
   ]
  },
  {
   "cell_type": "markdown",
   "metadata": {
    "colab": {
     "base_uri": "https://localhost:8080/"
    },
    "executionInfo": {
     "elapsed": 311,
     "status": "ok",
     "timestamp": 1664886132264,
     "user": {
      "displayName": "Екатерина Брехова",
      "userId": "16764158528938825478"
     },
     "user_tz": -180
    },
    "id": "Ih_z0vO7eaN-",
    "outputId": "7eb4051d-75ab-40b8-c777-1d9573daeaf2"
   },
   "source": [
    "да\n",
    "\n",
    "11, 13, 22, 23"
   ]
  }
 ],
 "metadata": {
  "colab": {
   "collapsed_sections": [],
   "provenance": []
  },
  "kernelspec": {
   "display_name": "Python 3 (ipykernel)",
   "language": "python",
   "name": "python3"
  },
  "language_info": {
   "codemirror_mode": {
    "name": "ipython",
    "version": 3
   },
   "file_extension": ".py",
   "mimetype": "text/x-python",
   "name": "python",
   "nbconvert_exporter": "python",
   "pygments_lexer": "ipython3",
   "version": "3.9.12"
  },
  "toc": {
   "base_numbering": 1,
   "nav_menu": {},
   "number_sections": true,
   "sideBar": true,
   "skip_h1_title": false,
   "title_cell": "Table of Contents",
   "title_sidebar": "Contents",
   "toc_cell": true,
   "toc_position": {},
   "toc_section_display": true,
   "toc_window_display": false
  }
 },
 "nbformat": 4,
 "nbformat_minor": 1
}
