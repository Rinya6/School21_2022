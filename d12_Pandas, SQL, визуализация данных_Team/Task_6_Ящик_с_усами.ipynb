{
  "nbformat": 4,
  "nbformat_minor": 0,
  "metadata": {
    "colab": {
      "provenance": []
    },
    "kernelspec": {
      "name": "python3",
      "display_name": "Python 3"
    },
    "language_info": {
      "name": "python"
    }
  },
  "cells": [
    {
      "cell_type": "code",
      "execution_count": null,
      "metadata": {
        "colab": {
          "base_uri": "https://localhost:8080/"
        },
        "id": "ufxT9wuizU6q",
        "outputId": "18f04def-c66d-4226-ea41-0e08eedf8546"
      },
      "outputs": [
        {
          "output_type": "stream",
          "name": "stdout",
          "text": [
            "Mounted at /content/drive\n"
          ]
        }
      ],
      "source": [
        "from google.colab import drive\n",
        "drive.mount('/content/drive')"
      ]
    },
    {
      "cell_type": "code",
      "source": [
        "import pandas as pd\n",
        "import sqlite3\n",
        "import matplotlib.pyplot as plt"
      ],
      "metadata": {
        "id": "xfGTESZ4zbcl"
      },
      "execution_count": null,
      "outputs": []
    },
    {
      "cell_type": "code",
      "source": [
        "con = sqlite3.connect('/content/drive/MyDrive/School21/day12_team/data/checking-logs.sqlite')"
      ],
      "metadata": {
        "id": "KYyCK4tXzdf1"
      },
      "execution_count": null,
      "outputs": []
    },
    {
      "cell_type": "markdown",
      "source": [
        "# Task 6: Ящик с усами"
      ],
      "metadata": {
        "id": "3JyizHb_zYLn"
      }
    },
    {
      "cell_type": "markdown",
      "source": [
        "Помните, как мы пытались выяснить, влияет ли посещение ленты новостей на поведение пользователей из тестовой и контрольной групп? В прошлый раз мы просто рассчитывали средние значения. Но знаем ли мы о дисперсиях? Что, если они тоже изменились? Что, если возникли аномальные значения?\n",
        "Чтобы ответить на эти вопросы, нужно построить \"ящик с усами\" или boxplot.\n",
        "Выполните необходимые шаги по созданию следующего графика:\n",
        "\n",
        "- [Картинка из задания](https://repos.21-school.ru/students/DS_project_12.ID_650571/Team__TL__carrikas_.BiNbTHfeQBynSTLdmCw1dg/DS_project_12-0/-/raw/develop/misc/images/d12_06.png)"
      ],
      "metadata": {
        "id": "oBCCh4ngwxIK"
      }
    },
    {
      "cell_type": "markdown",
      "source": [
        "## Используйте данные из [этого файла](https://repos.21-school.ru/students/DS_project_12.ID_650571/Team__TL__carrikas_.BiNbTHfeQBynSTLdmCw1dg/DS_project_12-0/-/blob/develop/datasets/ab-test.csv), считайте их в датафрейм и внесите любые изменения, которые, по вашему мнению, помогут решить задачу.\n",
        "## Размер figsize остается прежним, размер шрифта можно выбрать по своему вкусу (figsize — 15,8).\n",
        "## Цветовая палитра должна быть такой же, как в примере.\n",
        "## Размер шрифта заголовка — 15.\n",
        "## Ширина линий ящиков — 3, ширина линий медианы — 2."
      ],
      "metadata": {
        "id": "YA7T93-M0Pr7"
      }
    },
    {
      "cell_type": "code",
      "source": [
        "df = pd.read_csv('/content/drive/MyDrive/School21/day12_team/data/ab-test.csv')\n",
        "df"
      ],
      "metadata": {
        "id": "ol4_SlQ3z3Nv"
      },
      "execution_count": null,
      "outputs": []
    },
    {
      "cell_type": "code",
      "source": [
        "after_croup = df.copy()\n",
        "time_after = after_croup.loc[after_croup['time']=='after']\n",
        "time_before = after_croup.loc[after_croup['time']=='before']"
      ],
      "metadata": {
        "id": "hotjrcPX1ABI"
      },
      "execution_count": null,
      "outputs": []
    },
    {
      "cell_type": "code",
      "source": [
        "#time_after"
      ],
      "metadata": {
        "id": "AUwW_2vXNFWH"
      },
      "execution_count": null,
      "outputs": []
    },
    {
      "cell_type": "code",
      "source": [
        "#time_before"
      ],
      "metadata": {
        "id": "Gw3fatycqsMA"
      },
      "execution_count": null,
      "outputs": []
    },
    {
      "cell_type": "code",
      "source": [
        "fig, (ax, ax1) = plt.subplots(nrows=1, ncols=2, figsize=(15, 8), sharey=True)\n",
        "\n",
        "plt.suptitle('Lag before labs deadlines. After and before the Newsfeed', fontsize=15)\n",
        "\n",
        "time_after.boxplot(column='diff', by='group', ax=ax, color = 'black', \n",
        "                   showmeans=True,\n",
        "                   medianprops={'linewidth':2},\n",
        "                   whiskerprops={'color': '#ff0000'},\n",
        "                   boxprops={'linewidth':3},\n",
        "                   capprops={\"color\": \"#ff9b43\"})\n",
        "time_before.boxplot(column='diff', by='group', ax=ax1, color = 'black', \n",
        "                   showmeans=True,\n",
        "                   medianprops={'linewidth':2},\n",
        "                   whiskerprops={'color': '#ff0000'},\n",
        "                   boxprops={'linewidth':3},\n",
        "                   capprops={\"color\": \"#ff9b43\"})\n",
        "\n",
        "ax.set_ylim(-345,45)\n",
        "ax1.set_ylim(-345,45)\n",
        "\n",
        "ax.set_title('after')\n",
        "ax1.set_title('before')\n",
        "\n",
        "plt.suptitle('Lag before labs deadlines. After and before the Newsfeed', fontsize=15)\n",
        "plt.show()"
      ],
      "metadata": {
        "colab": {
          "base_uri": "https://localhost:8080/",
          "height": 628
        },
        "id": "63DZlCJj3X8h",
        "outputId": "d6d330ba-ed8f-4f20-ffb4-156050502404"
      },
      "execution_count": null,
      "outputs": [
        {
          "output_type": "stream",
          "name": "stderr",
          "text": [
            "/usr/local/lib/python3.7/dist-packages/matplotlib/cbook/__init__.py:1376: VisibleDeprecationWarning: Creating an ndarray from ragged nested sequences (which is a list-or-tuple of lists-or-tuples-or ndarrays with different lengths or shapes) is deprecated. If you meant to do this, you must specify 'dtype=object' when creating the ndarray.\n",
            "  X = np.atleast_1d(X.T if isinstance(X, np.ndarray) else np.asarray(X))\n",
            "/usr/local/lib/python3.7/dist-packages/matplotlib/cbook/__init__.py:1376: VisibleDeprecationWarning: Creating an ndarray from ragged nested sequences (which is a list-or-tuple of lists-or-tuples-or ndarrays with different lengths or shapes) is deprecated. If you meant to do this, you must specify 'dtype=object' when creating the ndarray.\n",
            "  X = np.atleast_1d(X.T if isinstance(X, np.ndarray) else np.asarray(X))\n"
          ]
        },
        {
          "output_type": "display_data",
          "data": {
            "text/plain": [
              "<Figure size 1080x576 with 2 Axes>"
            ],
            "image/png": "[encoded data removed]"
          },
          "metadata": {
            "needs_background": "light"
          }
        }
      ]
    },
    {
      "cell_type": "markdown",
      "source": [
        "**- Закрытие соединение с базой данных**"
      ],
      "metadata": {
        "id": "DkGX0ywWBJLx"
      }
    },
    {
      "cell_type": "code",
      "source": [
        "con.close()"
      ],
      "metadata": {
        "id": "BY7Vc350BISC"
      },
      "execution_count": null,
      "outputs": []
    },
    {
      "cell_type": "markdown",
      "source": [
        "## 6. В конце Jupyter Notebook создайте markdown-ячейку и вставьте вопрос: "
      ],
      "metadata": {
        "id": "-hdiRramAl3H"
      }
    },
    {
      "cell_type": "markdown",
      "source": [
        "- [Ящик с усами_ВикипедиЯ](https://ru.wikipedia.org/wiki/Ящик_с_усами)"
      ],
      "metadata": {
        "id": "u3uymAqFCPtT"
      }
    },
    {
      "cell_type": "markdown",
      "source": [
        "«Каким было значение IQR контрольной группы до посещения новостной ленты?». В своем ответе укажите приблизительное значение, которое можно получить, просто посмотрев на график, и округлите его до ближайшего целого, кратного 10.\n",
        "\n",
        "**ОТВЕТ:**\n",
        "        \n",
        "        ~150"
      ],
      "metadata": {
        "id": "gEpM8iBoAtYE"
      }
    }
  ]
}