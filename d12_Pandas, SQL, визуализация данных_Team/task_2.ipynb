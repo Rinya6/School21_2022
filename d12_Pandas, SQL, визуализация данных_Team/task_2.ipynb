{
 "cells": [
  {
   "cell_type": "markdown",
   "id": "14cad836",
   "metadata": {},
   "source": [
    "## TASK 2"
   ]
  },
  {
   "cell_type": "code",
   "execution_count": 1,
   "id": "94fd9a03",
   "metadata": {},
   "outputs": [],
   "source": [
    "import sqlite3\n",
    "import pandas as pd\n",
    "import seaborn as sns\n",
    "import matplotlib.pyplot as plt\n",
    "%matplotlib inline\n",
    "import datetime as dt"
   ]
  },
  {
   "cell_type": "code",
   "execution_count": 2,
   "id": "7ad938fc",
   "metadata": {},
   "outputs": [],
   "source": [
    "##  если в коллабе\n",
    "\n",
    "# from google.colab import drive\n",
    "# drive.mount('/content/drive')"
   ]
  },
  {
   "cell_type": "code",
   "execution_count": 3,
   "id": "702adda8",
   "metadata": {},
   "outputs": [],
   "source": [
    "data = sqlite3.connect(\"checking-logs.sqlite\")"
   ]
  },
  {
   "cell_type": "code",
   "execution_count": 4,
   "id": "68bad636",
   "metadata": {},
   "outputs": [
    {
     "data": {
      "text/html": [
       "<div>\n",
       "<style scoped>\n",
       "    .dataframe tbody tr th:only-of-type {\n",
       "        vertical-align: middle;\n",
       "    }\n",
       "\n",
       "    .dataframe tbody tr th {\n",
       "        vertical-align: top;\n",
       "    }\n",
       "\n",
       "    .dataframe thead th {\n",
       "        text-align: right;\n",
       "    }\n",
       "</style>\n",
       "<table border=\"1\" class=\"dataframe\">\n",
       "  <thead>\n",
       "    <tr style=\"text-align: right;\">\n",
       "      <th></th>\n",
       "      <th>index</th>\n",
       "      <th>status</th>\n",
       "      <th>success</th>\n",
       "      <th>timestamp</th>\n",
       "      <th>numTrials</th>\n",
       "      <th>labname</th>\n",
       "      <th>uid</th>\n",
       "    </tr>\n",
       "  </thead>\n",
       "  <tbody>\n",
       "    <tr>\n",
       "      <th>0</th>\n",
       "      <td>0</td>\n",
       "      <td>checking</td>\n",
       "      <td>0</td>\n",
       "      <td>2020-04-16 21:12:50.740474</td>\n",
       "      <td>5</td>\n",
       "      <td>None</td>\n",
       "      <td>admin_1</td>\n",
       "    </tr>\n",
       "    <tr>\n",
       "      <th>1</th>\n",
       "      <td>1</td>\n",
       "      <td>ready</td>\n",
       "      <td>0</td>\n",
       "      <td>2020-04-16 21:12:54.708365</td>\n",
       "      <td>5</td>\n",
       "      <td>code_rvw</td>\n",
       "      <td>admin_1</td>\n",
       "    </tr>\n",
       "    <tr>\n",
       "      <th>2</th>\n",
       "      <td>2</td>\n",
       "      <td>checking</td>\n",
       "      <td>0</td>\n",
       "      <td>2020-04-16 21:46:47.769088</td>\n",
       "      <td>7</td>\n",
       "      <td>None</td>\n",
       "      <td>admin_1</td>\n",
       "    </tr>\n",
       "    <tr>\n",
       "      <th>3</th>\n",
       "      <td>3</td>\n",
       "      <td>ready</td>\n",
       "      <td>0</td>\n",
       "      <td>2020-04-16 21:46:48.121217</td>\n",
       "      <td>7</td>\n",
       "      <td>lab02</td>\n",
       "      <td>admin_1</td>\n",
       "    </tr>\n",
       "    <tr>\n",
       "      <th>4</th>\n",
       "      <td>4</td>\n",
       "      <td>checking</td>\n",
       "      <td>0</td>\n",
       "      <td>2020-04-16 21:53:01.862637</td>\n",
       "      <td>6</td>\n",
       "      <td>code_rvw</td>\n",
       "      <td>admin_1</td>\n",
       "    </tr>\n",
       "    <tr>\n",
       "      <th>...</th>\n",
       "      <td>...</td>\n",
       "      <td>...</td>\n",
       "      <td>...</td>\n",
       "      <td>...</td>\n",
       "      <td>...</td>\n",
       "      <td>...</td>\n",
       "      <td>...</td>\n",
       "    </tr>\n",
       "    <tr>\n",
       "      <th>3397</th>\n",
       "      <td>3397</td>\n",
       "      <td>ready</td>\n",
       "      <td>0</td>\n",
       "      <td>2020-05-21 20:19:06.872761</td>\n",
       "      <td>7</td>\n",
       "      <td>laba06s</td>\n",
       "      <td>user_1</td>\n",
       "    </tr>\n",
       "    <tr>\n",
       "      <th>3398</th>\n",
       "      <td>3398</td>\n",
       "      <td>checking</td>\n",
       "      <td>0</td>\n",
       "      <td>2020-05-21 20:22:41.785725</td>\n",
       "      <td>8</td>\n",
       "      <td>laba06s</td>\n",
       "      <td>user_1</td>\n",
       "    </tr>\n",
       "    <tr>\n",
       "      <th>3399</th>\n",
       "      <td>3399</td>\n",
       "      <td>ready</td>\n",
       "      <td>0</td>\n",
       "      <td>2020-05-21 20:22:41.877806</td>\n",
       "      <td>8</td>\n",
       "      <td>laba06s</td>\n",
       "      <td>user_1</td>\n",
       "    </tr>\n",
       "    <tr>\n",
       "      <th>3400</th>\n",
       "      <td>3400</td>\n",
       "      <td>checking</td>\n",
       "      <td>0</td>\n",
       "      <td>2020-05-21 20:37:00.129678</td>\n",
       "      <td>9</td>\n",
       "      <td>laba06s</td>\n",
       "      <td>user_1</td>\n",
       "    </tr>\n",
       "    <tr>\n",
       "      <th>3401</th>\n",
       "      <td>3401</td>\n",
       "      <td>ready</td>\n",
       "      <td>0</td>\n",
       "      <td>2020-05-21 20:37:00.290491</td>\n",
       "      <td>9</td>\n",
       "      <td>laba06s</td>\n",
       "      <td>user_1</td>\n",
       "    </tr>\n",
       "  </tbody>\n",
       "</table>\n",
       "<p>3402 rows × 7 columns</p>\n",
       "</div>"
      ],
      "text/plain": [
       "      index    status  success                   timestamp  numTrials  \\\n",
       "0         0  checking        0  2020-04-16 21:12:50.740474          5   \n",
       "1         1     ready        0  2020-04-16 21:12:54.708365          5   \n",
       "2         2  checking        0  2020-04-16 21:46:47.769088          7   \n",
       "3         3     ready        0  2020-04-16 21:46:48.121217          7   \n",
       "4         4  checking        0  2020-04-16 21:53:01.862637          6   \n",
       "...     ...       ...      ...                         ...        ...   \n",
       "3397   3397     ready        0  2020-05-21 20:19:06.872761          7   \n",
       "3398   3398  checking        0  2020-05-21 20:22:41.785725          8   \n",
       "3399   3399     ready        0  2020-05-21 20:22:41.877806          8   \n",
       "3400   3400  checking        0  2020-05-21 20:37:00.129678          9   \n",
       "3401   3401     ready        0  2020-05-21 20:37:00.290491          9   \n",
       "\n",
       "       labname      uid  \n",
       "0         None  admin_1  \n",
       "1     code_rvw  admin_1  \n",
       "2         None  admin_1  \n",
       "3        lab02  admin_1  \n",
       "4     code_rvw  admin_1  \n",
       "...        ...      ...  \n",
       "3397   laba06s   user_1  \n",
       "3398   laba06s   user_1  \n",
       "3399   laba06s   user_1  \n",
       "3400   laba06s   user_1  \n",
       "3401   laba06s   user_1  \n",
       "\n",
       "[3402 rows x 7 columns]"
      ]
     },
     "execution_count": 4,
     "metadata": {},
     "output_type": "execute_result"
    }
   ],
   "source": [
    "c  = pd.io.sql.read_sql(\"SELECT * FROM checker\",\n",
    "                                    data,\n",
    "                                    parse_dates= True\n",
    "                                     )\n",
    "c"
   ]
  },
  {
   "cell_type": "code",
   "execution_count": 5,
   "id": "ab45f2e4",
   "metadata": {},
   "outputs": [
    {
     "data": {
      "text/html": [
       "<div>\n",
       "<style scoped>\n",
       "    .dataframe tbody tr th:only-of-type {\n",
       "        vertical-align: middle;\n",
       "    }\n",
       "\n",
       "    .dataframe tbody tr th {\n",
       "        vertical-align: top;\n",
       "    }\n",
       "\n",
       "    .dataframe thead th {\n",
       "        text-align: right;\n",
       "    }\n",
       "</style>\n",
       "<table border=\"1\" class=\"dataframe\">\n",
       "  <thead>\n",
       "    <tr style=\"text-align: right;\">\n",
       "      <th></th>\n",
       "      <th>timestamp</th>\n",
       "    </tr>\n",
       "  </thead>\n",
       "  <tbody>\n",
       "    <tr>\n",
       "      <th>0</th>\n",
       "      <td>2020-04-17 05:19:02.744528</td>\n",
       "    </tr>\n",
       "    <tr>\n",
       "      <th>1</th>\n",
       "      <td>2020-04-17 05:22:45.549397</td>\n",
       "    </tr>\n",
       "    <tr>\n",
       "      <th>2</th>\n",
       "      <td>2020-04-17 05:34:24.422370</td>\n",
       "    </tr>\n",
       "    <tr>\n",
       "      <th>3</th>\n",
       "      <td>2020-04-17 05:43:27.773992</td>\n",
       "    </tr>\n",
       "    <tr>\n",
       "      <th>4</th>\n",
       "      <td>2020-04-17 05:46:32.275104</td>\n",
       "    </tr>\n",
       "    <tr>\n",
       "      <th>...</th>\n",
       "      <td>...</td>\n",
       "    </tr>\n",
       "    <tr>\n",
       "      <th>1681</th>\n",
       "      <td>2020-05-21 20:01:48.959966</td>\n",
       "    </tr>\n",
       "    <tr>\n",
       "      <th>1682</th>\n",
       "      <td>2020-05-21 20:18:54.487900</td>\n",
       "    </tr>\n",
       "    <tr>\n",
       "      <th>1683</th>\n",
       "      <td>2020-05-21 20:19:06.872761</td>\n",
       "    </tr>\n",
       "    <tr>\n",
       "      <th>1684</th>\n",
       "      <td>2020-05-21 20:22:41.877806</td>\n",
       "    </tr>\n",
       "    <tr>\n",
       "      <th>1685</th>\n",
       "      <td>2020-05-21 20:37:00.290491</td>\n",
       "    </tr>\n",
       "  </tbody>\n",
       "</table>\n",
       "<p>1686 rows × 1 columns</p>\n",
       "</div>"
      ],
      "text/plain": [
       "                       timestamp\n",
       "0     2020-04-17 05:19:02.744528\n",
       "1     2020-04-17 05:22:45.549397\n",
       "2     2020-04-17 05:34:24.422370\n",
       "3     2020-04-17 05:43:27.773992\n",
       "4     2020-04-17 05:46:32.275104\n",
       "...                          ...\n",
       "1681  2020-05-21 20:01:48.959966\n",
       "1682  2020-05-21 20:18:54.487900\n",
       "1683  2020-05-21 20:19:06.872761\n",
       "1684  2020-05-21 20:22:41.877806\n",
       "1685  2020-05-21 20:37:00.290491\n",
       "\n",
       "[1686 rows x 1 columns]"
      ]
     },
     "execution_count": 5,
     "metadata": {},
     "output_type": "execute_result"
    }
   ],
   "source": [
    "commits = pd.io.sql.read_sql('''\n",
    "SELECT timestamp\n",
    "FROM checker \n",
    "WHERE uid LIKE 'user_%' and status='ready'\n",
    "    ''',\n",
    "data)\n",
    "commits"
   ]
  },
  {
   "cell_type": "code",
   "execution_count": 6,
   "id": "4eade5ea",
   "metadata": {},
   "outputs": [],
   "source": [
    "dt = pd.io.sql.read_sql('''\n",
    "SELECT datetime\n",
    "FROM pageviews \n",
    "WHERE uid LIKE \"user%\" AND DATE(datetime) IN(SELECT DATE(timestamp)\n",
    "FROM checker \n",
    "WHERE uid LIKE 'user_%' and status='ready'\n",
    ");\n",
    "''',\n",
    "data)"
   ]
  },
  {
   "cell_type": "code",
   "execution_count": 7,
   "id": "8874f607",
   "metadata": {
    "scrolled": true
   },
   "outputs": [],
   "source": [
    "commits_df = pd.DataFrame(data=commits)\n",
    "commits_df['timestamp'] = pd.to_datetime(commits_df['timestamp'])\n",
    "commits_df.rename(columns={'timestamp':'commits'}, inplace=True)\n"
   ]
  },
  {
   "cell_type": "code",
   "execution_count": 8,
   "id": "3fbe4aaf",
   "metadata": {},
   "outputs": [],
   "source": [
    "df = pd.DataFrame(data=dt)\n",
    "df['datetime'] = pd.to_datetime(df['datetime'])\n",
    "df.rename(columns={'datetime':'views'}, inplace=True)\n"
   ]
  },
  {
   "cell_type": "code",
   "execution_count": 9,
   "id": "e635b26e",
   "metadata": {},
   "outputs": [],
   "source": [
    "grouped = df.groupby([df[\"views\"].dt.date])[\"views\"].count()"
   ]
  },
  {
   "cell_type": "code",
   "execution_count": 10,
   "id": "017c8a9c",
   "metadata": {},
   "outputs": [],
   "source": [
    "com_gr = commits_df.groupby([commits_df['commits'].dt.date])['commits'].count()"
   ]
  },
  {
   "cell_type": "code",
   "execution_count": 11,
   "id": "903f2501",
   "metadata": {},
   "outputs": [
    {
     "data": {
      "image/png": "[encoded data removed]",
      "text/plain": [
       "<Figure size 1080x576 with 1 Axes>"
      ]
     },
     "metadata": {
      "needs_background": "light"
     },
     "output_type": "display_data"
    }
   ],
   "source": [
    "grouped.plot.line(xlabel='date',\n",
    "                marker='o',\n",
    "                legend = ['views'],\n",
    "                color=['r'],\n",
    "                linestyle='-.',\n",
    "                fontsize=8, \n",
    "                figsize= (15, 8),\n",
    "                rot=90)\n",
    "com_gr.plot.line(xlabel='date',\n",
    "                 legend = ['commits'],\n",
    "                 linestyle='--',\n",
    "                 color=['#00bfbf'],\n",
    "                rot=90)\n",
    "plt.grid(axis='x')"
   ]
  },
  {
   "cell_type": "markdown",
   "id": "1267de8c",
   "metadata": {},
   "source": [
    "Сколько раз количество просмотров превышало 150?"
   ]
  },
  {
   "cell_type": "markdown",
   "id": "00cc47a3",
   "metadata": {},
   "source": [
    "Ответ:2"
   ]
  },
  {
   "cell_type": "code",
   "execution_count": 12,
   "id": "b31ce48e",
   "metadata": {
    "scrolled": false
   },
   "outputs": [
    {
     "data": {
      "text/plain": [
       "views\n",
       "2020-05-11    200\n",
       "2020-05-14    187\n",
       "2020-05-10    110\n",
       "2020-05-13    102\n",
       "2020-05-12     85\n",
       "Name: views, dtype: int64"
      ]
     },
     "execution_count": 12,
     "metadata": {},
     "output_type": "execute_result"
    }
   ],
   "source": [
    "grouped.sort_values(ascending=False).head(5)"
   ]
  },
  {
   "cell_type": "code",
   "execution_count": 13,
   "id": "ca0153df",
   "metadata": {},
   "outputs": [],
   "source": [
    "data.close()"
   ]
  },
  {
   "cell_type": "code",
   "execution_count": null,
   "id": "0e6ff872",
   "metadata": {},
   "outputs": [],
   "source": []
  }
 ],
 "metadata": {
  "kernelspec": {
   "display_name": "Python 3 (ipykernel)",
   "language": "python",
   "name": "python3"
  },
  "language_info": {
   "codemirror_mode": {
    "name": "ipython",
    "version": 3
   },
   "file_extension": ".py",
   "mimetype": "text/x-python",
   "name": "python",
   "nbconvert_exporter": "python",
   "pygments_lexer": "ipython3",
   "version": "3.9.12"
  },
  "toc": {
   "base_numbering": 1,
   "nav_menu": {},
   "number_sections": false,
   "sideBar": true,
   "skip_h1_title": false,
   "title_cell": "Table of Contents",
   "title_sidebar": "Contents",
   "toc_cell": false,
   "toc_position": {},
   "toc_section_display": true,
   "toc_window_display": false
  }
 },
 "nbformat": 4,
 "nbformat_minor": 5
}
