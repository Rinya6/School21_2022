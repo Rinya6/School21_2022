{
  "cells": [
    {
      "cell_type": "markdown",
      "metadata": {
        "id": "KG7eqRl0TQJX"
      },
      "source": [
        "# День 03 – Предиктивный анализ II"
      ]
    },
    {
      "cell_type": "markdown",
      "metadata": {
        "id": "BePjp625TQJc"
      },
      "source": [
        "Дерево классификации, случайный лес, XGBoost, логрегрессия. \n",
        "\n",
        "Дополнительные метрики качества: precision, recall, F1, ROC_AUC. \n",
        "\n",
        "Кросс-валидация."
      ]
    },
    {
      "cell_type": "markdown",
      "metadata": {
        "id": "E8HL84r0TQJd"
      },
      "source": [
        "## 0. Импорт библиотек"
      ]
    },
    {
      "cell_type": "code",
      "execution_count": null,
      "metadata": {
        "id": "7ziTle9QTQJe"
      },
      "outputs": [],
      "source": [
        "import pandas as pd\n",
        "import numpy as np\n",
        "import matplotlib.pyplot as plt\n",
        "import seaborn as sns\n",
        "%matplotlib inline"
      ]
    },
    {
      "cell_type": "code",
      "execution_count": null,
      "metadata": {
        "id": "ao3YepQxTQJj"
      },
      "outputs": [],
      "source": [
        "sns.set_style(\"darkgrid\") #у графиков будет красивая серая подложка"
      ]
    },
    {
      "cell_type": "markdown",
      "metadata": {
        "id": "_8Z8Oe8YTQJk"
      },
      "source": [
        "## 1. Загрузка данных"
      ]
    },
    {
      "cell_type": "markdown",
      "metadata": {
        "id": "CldqOnCBTQJl"
      },
      "source": [
        "Загрузить датасет bank_data_train_d02.csv – со стандартизированными признаками и one-hot-encoding."
      ]
    },
    {
      "cell_type": "code",
      "execution_count": null,
      "metadata": {
        "id": "woaFcQ4OTR7a"
      },
      "outputs": [],
      "source": [
        "from google.colab import drive\n",
        "drive.mount('/content/drive')"
      ]
    },
    {
      "cell_type": "code",
      "execution_count": null,
      "metadata": {
        "id": "QOp99KEwTQJl"
      },
      "outputs": [],
      "source": [
        "df = pd.read_csv('/content/drive/MyDrive/School21/day03/bank_data_train_d02.csv', index_col='ID')"
      ]
    },
    {
      "cell_type": "code",
      "execution_count": null,
      "metadata": {
        "id": "TDp3FjTuTQJw"
      },
      "outputs": [],
      "source": [
        "df.head(2)"
      ]
    },
    {
      "cell_type": "code",
      "execution_count": null,
      "metadata": {
        "id": "5KUApzOakBR_"
      },
      "outputs": [],
      "source": [
        "df.shape"
      ]
    },
    {
      "cell_type": "markdown",
      "metadata": {
        "id": "As0tMzuFgGKA"
      },
      "source": [
        "## 2. Формирование выборок: обучающая, тестовая"
      ]
    },
    {
      "cell_type": "markdown",
      "metadata": {
        "id": "KDmVTcmhgmqy"
      },
      "source": [
        "**Разбить датасет** на train и test \n",
        "\n",
        "с параметрами: test_size=0.2, random_state=21"
      ]
    },
    {
      "cell_type": "code",
      "execution_count": null,
      "metadata": {
        "id": "590xkZCnMxjq"
      },
      "outputs": [],
      "source": [
        "from sklearn.model_selection import train_test_split"
      ]
    },
    {
      "cell_type": "code",
      "execution_count": null,
      "metadata": {
        "id": "UDMhF1QNMxm1"
      },
      "outputs": [],
      "source": [
        "X_train, X_test, y_train, y_test = train_test_split(df.drop('TARGET', axis=1), df.TARGET, #разделим на признаки и целевой признак\n",
        "                                                    test_size=0.2, \n",
        "                                                    random_state=21)"
      ]
    },
    {
      "cell_type": "code",
      "execution_count": null,
      "metadata": {
        "id": "36gKhTZQMxs4"
      },
      "outputs": [],
      "source": [
        "print('Признаки обучающей выборки:',X_train.shape, y_train.shape,\n",
        "      'Тестовая выборка', X_test.shape, y_test.shape)"
      ]
    },
    {
      "cell_type": "markdown",
      "metadata": {
        "id": "ywC3O35KpMmA"
      },
      "source": [
        "## 3. Исследование"
      ]
    },
    {
      "cell_type": "markdown",
      "metadata": {
        "id": "HLT89xadkxrd"
      },
      "source": [
        "**Кросс-валидиция**\n",
        "\n",
        "с параметрами cv=5 и метрикой качества ROC-AUC "
      ]
    },
    {
      "cell_type": "markdown",
      "metadata": {
        "id": "BEnPTjSgoGLw"
      },
      "source": [
        "Обучить модели с **random_state=21**:\n",
        "- логрегрессия\n",
        "- дерево классификации\n",
        "- случайный лес\n",
        "- XGBoost\n",
        "\n",
        "Для каждой из моделей сделать как минимум **3 итерации**, пробуя разные гиперпараметры, пытаясь найти ту комбинацию, которая дает максимальное значение метрики на кросс-валидации."
      ]
    },
    {
      "cell_type": "markdown",
      "metadata": {
        "id": "tPmVF4UnpUpX"
      },
      "source": [
        "3.1 Обучение моделей"
      ]
    },
    {
      "cell_type": "code",
      "execution_count": null,
      "metadata": {
        "id": "KCkmt_6zMxwO"
      },
      "outputs": [],
      "source": [
        "#импорт библиотек четырех моделей\n",
        "\n",
        "#Логистическая регрессия\n",
        "from sklearn.linear_model import LogisticRegression\n",
        "\n",
        "#Дерево классификации\n",
        "from sklearn.tree import DecisionTreeClassifier\n",
        "\n",
        "#Случайный лес \n",
        "from sklearn.ensemble import RandomForestClassifier\n",
        "\n",
        "#XGBoost\n",
        "\n",
        "#from xgboost import XGBClassifier\n",
        "\n",
        "from xgboost.sklearn import XGBClassifier"
      ]
    },
    {
      "cell_type": "code",
      "execution_count": null,
      "metadata": {
        "id": "vSjYpmzqzhFj"
      },
      "outputs": [],
      "source": [
        "# библиотека для кросс-валидации\n",
        "\n",
        "from sklearn.model_selection import cross_val_score"
      ]
    },
    {
      "cell_type": "markdown",
      "metadata": {
        "id": "3PT5HmGztDk2"
      },
      "source": [
        "**Логистическая регрессия**"
      ]
    },
    {
      "cell_type": "markdown",
      "metadata": {
        "id": "UNKsatiX2Uzh"
      },
      "source": [
        "**1 итерация** с гиперпараметрами solver='liblinear', fit_intercept=False, random_state=21"
      ]
    },
    {
      "cell_type": "code",
      "execution_count": null,
      "metadata": {
        "id": "TfS00GsqSleJ"
      },
      "outputs": [],
      "source": [
        "clf1 = LogisticRegression(solver='liblinear', fit_intercept=False, random_state=21)\n",
        "LgR_1 = cross_val_score(clf1, X_train, y_train, cv=5, scoring = 'roc_auc')\n",
        "#print(\"Логистическая регрессия, ROC-AUC_1:\", LgR_1.mean())"
      ]
    },
    {
      "cell_type": "markdown",
      "metadata": {
        "id": "j5o0lTKm2hNk"
      },
      "source": [
        "**2 итерация** с гиперпараметрами solver='liblinear', fit_intercept=False, penalty='l1', random_state=21"
      ]
    },
    {
      "cell_type": "code",
      "execution_count": null,
      "metadata": {
        "id": "jLC-nAue2OD0"
      },
      "outputs": [],
      "source": [
        "clf2 = LogisticRegression(solver='liblinear', fit_intercept=False, penalty='l1', random_state=21)\n",
        "LgR_2 = cross_val_score(clf2, X_train, y_train, cv=5, scoring = 'roc_auc')\n",
        "#print(\"Логистическая регрессия, ROC-AUC_2:\", LgR_2.mean())"
      ]
    },
    {
      "cell_type": "markdown",
      "metadata": {
        "id": "tUrI67Tq3Y_G"
      },
      "source": [
        "**3 итерация** с гиперпараметрами solver='newton-cg', fit_intercept=False, penalty='l2', random_state=21"
      ]
    },
    {
      "cell_type": "code",
      "execution_count": null,
      "metadata": {
        "id": "jiDlqhqf3kGA"
      },
      "outputs": [],
      "source": [
        "clf3 = LogisticRegression(solver='newton-cg', fit_intercept=False, penalty='l2', random_state=21)\n",
        "LgR_3 = cross_val_score(clf3, X_train, y_train, cv=5, scoring = 'roc_auc')\n",
        "#print(\"Логистическая регрессия, ROC-AUC_2:\", LgR_3.mean())"
      ]
    },
    {
      "cell_type": "markdown",
      "metadata": {
        "id": "98Dr6hG32FVf"
      },
      "source": [
        "**Дерево классификации**"
      ]
    },
    {
      "cell_type": "markdown",
      "metadata": {
        "id": "_IOOonQ97HMK"
      },
      "source": [
        "1 итерация с гиперпараметрами max_depth=2, random_state=21"
      ]
    },
    {
      "cell_type": "code",
      "execution_count": null,
      "metadata": {
        "id": "-egxbSs92OTF"
      },
      "outputs": [],
      "source": [
        "d_clf1 = DecisionTreeClassifier(max_depth=2, random_state=21)\n",
        "Dtc_1 = cross_val_score(d_clf1, X_train, y_train, cv=5, scoring = 'roc_auc')\n",
        "#print(\"Дерево классификации, ROC-AUC_1:\", Dtc_1.mean())"
      ]
    },
    {
      "cell_type": "markdown",
      "metadata": {
        "id": "7t0jZ1pW7Tng"
      },
      "source": [
        "2 итерация с гиперпараметрами splitter='best', max_depth=2, random_state=21"
      ]
    },
    {
      "cell_type": "code",
      "execution_count": null,
      "metadata": {
        "id": "xB32KKwmHU8y"
      },
      "outputs": [],
      "source": [
        "d_clf2 = DecisionTreeClassifier(splitter='best', max_depth=3, random_state=21)\n",
        "Dtc_2 = cross_val_score(d_clf2, X_train, y_train, cv=5, scoring = 'roc_auc')\n",
        "#print(\"Дерево классификации, ROC-AUC_2:\", Dtc_2.mean())"
      ]
    },
    {
      "cell_type": "markdown",
      "metadata": {
        "id": "Ssp-eObQ7W-T"
      },
      "source": [
        "3 итерация с гиперпараметрами splitter = 'random', max_depth=3, random_state=21)"
      ]
    },
    {
      "cell_type": "code",
      "execution_count": null,
      "metadata": {
        "id": "LaS1kGYP7XLk"
      },
      "outputs": [],
      "source": [
        "d_clf3 = DecisionTreeClassifier(splitter = 'random', max_depth=3, random_state=21)\n",
        "Dtc_3 = cross_val_score(d_clf3, X_train, y_train, cv=5, scoring = 'roc_auc')\n",
        "#print(\"Дерево классификации, ROC-AUC_3:\", Dtc_3.mean())"
      ]
    },
    {
      "cell_type": "markdown",
      "metadata": {
        "id": "1Stup_Cb7gWm"
      },
      "source": [
        "**Случайный лес**"
      ]
    },
    {
      "cell_type": "markdown",
      "metadata": {
        "id": "ZPYqMXI47kux"
      },
      "source": [
        "1 итерация с гиперпараметрами random_state=21, n_estimators = 100)"
      ]
    },
    {
      "cell_type": "code",
      "execution_count": null,
      "metadata": {
        "id": "dT4NRw1u7dOW"
      },
      "outputs": [],
      "source": [
        "f_clf1 = RandomForestClassifier(random_state=21, n_estimators = 100)\n",
        "Rfc_1 = cross_val_score(f_clf1, X_train, y_train, cv=5, scoring = 'roc_auc')\n",
        "#print(\"Случайный лес, ROC-AUC_1:\", Rfc_1.mean())"
      ]
    },
    {
      "cell_type": "markdown",
      "metadata": {
        "id": "IBnpCQw77pXs"
      },
      "source": [
        "2 итерация с гиперпараметрами random_state=21, max_features = 'log2'"
      ]
    },
    {
      "cell_type": "code",
      "execution_count": null,
      "metadata": {
        "id": "7QpkvsQN7dQq"
      },
      "outputs": [],
      "source": [
        "f_clf2 = RandomForestClassifier(random_state=21, max_features = 'log2')\n",
        "Rfc_2 = cross_val_score(f_clf2, X_train, y_train, cv=5, scoring = 'roc_auc')\n",
        "#print(\"Случайный лес, ROC-AUC_2:\", Rfc_2.mean())"
      ]
    },
    {
      "cell_type": "markdown",
      "metadata": {
        "id": "o4Useh5e7rT2"
      },
      "source": [
        "3 итерация с гиперпараметрами random_state=21, n_estimators = 10, max_features = 'log2'"
      ]
    },
    {
      "cell_type": "code",
      "execution_count": null,
      "metadata": {
        "id": "5zQRCSfA7dV2"
      },
      "outputs": [],
      "source": [
        "f_clf3 = RandomForestClassifier(random_state=21, n_estimators = 10, max_features = 'log2')\n",
        "Rfc_3 = cross_val_score(f_clf3, X_train, y_train, cv=5, scoring = 'roc_auc')\n",
        "#print(\"Случайный лес, ROC-AUC_3:\", Rfc_3.mean())"
      ]
    },
    {
      "cell_type": "markdown",
      "metadata": {
        "id": "txCOiP2jo3_3"
      },
      "source": [
        "**XGBoost**"
      ]
    },
    {
      "cell_type": "markdown",
      "metadata": {
        "id": "UeUByNc_o4Sj"
      },
      "source": [
        "1 итерация с гиперпараметрами random_state=21, n_estimators=10, max_depth=5, objective= 'binary:logistic'\n"
      ]
    },
    {
      "cell_type": "code",
      "execution_count": null,
      "metadata": {
        "id": "7f9bVC6q7dY_"
      },
      "outputs": [],
      "source": [
        "x_clf1 = XGBClassifier(random_state=21, n_estimators=10, max_depth=5, objective= 'binary:logistic')\n",
        "Xgb_1 = cross_val_score(x_clf1, X_train, y_train, cv=5, scoring = 'roc_auc')\n",
        "#print(\"XGBoost, ROC-AUC_1:\", Xgb_1.mean())"
      ]
    },
    {
      "cell_type": "markdown",
      "metadata": {
        "id": "3dveBH4BpLgh"
      },
      "source": [
        "2 итерация с гиперпараметрами random_state=21, n_estimators=100, max_depth=5, objective= 'binary:logistic'"
      ]
    },
    {
      "cell_type": "code",
      "execution_count": null,
      "metadata": {
        "id": "mp3lGsufpIvr"
      },
      "outputs": [],
      "source": [
        "x_clf2 = XGBClassifier(random_state=21, n_estimators=100, max_depth=5, objective= 'binary:logistic')\n",
        "Xgb_2 = cross_val_score(x_clf2, X_train, y_train, cv=5, scoring = 'roc_auc')\n",
        "#print(\"XGBoost, ROC-AUC_2:\", Xgb_2.mean())"
      ]
    },
    {
      "cell_type": "markdown",
      "metadata": {
        "id": "67q6XYCxpNig"
      },
      "source": [
        "3 итерация с гиперпараметрами random_state=21, n_estimators=140, max_depth=5, objective= 'binary:logistic'"
      ]
    },
    {
      "cell_type": "code",
      "execution_count": null,
      "metadata": {
        "id": "f2eHqBFs7dbm"
      },
      "outputs": [],
      "source": [
        "x_clf3 = XGBClassifier(random_state=21, n_estimators=140, max_depth=5, objective= 'binary:logistic')\n",
        "Xgb_3 = cross_val_score(x_clf3, X_train, y_train, cv=5, scoring = 'roc_auc')\n",
        "#print(\"XGBoost, ROC-AUC_3:\", Xgb_3.mean())"
      ]
    },
    {
      "cell_type": "code",
      "execution_count": 42,
      "metadata": {
        "colab": {
          "base_uri": "https://localhost:8080/"
        },
        "id": "iTJza7SwAu6b",
        "outputId": "22ad4bc5-ade8-411e-bef0-1070f2fb826a"
      },
      "outputs": [
        {
          "output_type": "stream",
          "name": "stdout",
          "text": [
            "Логистическая регрессия, ROC-AUC_1: 0.745585542008787\n",
            "Логистическая регрессия, ROC-AUC_2: 0.7456829258148101\n",
            "Логистическая регрессия, ROC-AUC_3: 0.7455934924494304\n",
            "Дерево классификации, ROC-AUC_1: 0.7051058480723981\n",
            "Дерево классификации, ROC-AUC_2: 0.7501257564644227\n",
            "Дерево классификации, ROC-AUC_3: 0.6331189966005129\n",
            "Случайный лес, ROC-AUC_1: 0.8149233258961273\n",
            "Случайный лес, ROC-AUC_2: 0.7963723695542178\n",
            "Случайный лес, ROC-AUC_3: 0.699874317477261\n",
            "XGBoost, ROC-AUC_1: 0.8075008522102947\n",
            "XGBoost, ROC-AUC_2: 0.8412148006486996\n",
            "XGBoost, ROC-AUC_3: 0.8441800980787468\n"
          ]
        }
      ],
      "source": [
        "print(\"Логистическая регрессия, ROC-AUC_1:\", LgR_1.mean())\n",
        "print(\"Логистическая регрессия, ROC-AUC_2:\", LgR_2.mean())\n",
        "print(\"Логистическая регрессия, ROC-AUC_3:\", LgR_3.mean())\n",
        "\n",
        "print(\"Дерево классификации, ROC-AUC_1:\", Dtc_1.mean())\n",
        "print(\"Дерево классификации, ROC-AUC_2:\", Dtc_2.mean())\n",
        "print(\"Дерево классификации, ROC-AUC_3:\", Dtc_3.mean())\n",
        "\n",
        "print(\"Случайный лес, ROC-AUC_1:\", Rfc_1.mean())\n",
        "print(\"Случайный лес, ROC-AUC_2:\", Rfc_2.mean())\n",
        "print(\"Случайный лес, ROC-AUC_3:\", Rfc_3.mean())\n",
        "\n",
        "print(\"XGBoost, ROC-AUC_1:\", Xgb_1.mean())\n",
        "print(\"XGBoost, ROC-AUC_2:\", Xgb_2.mean())\n",
        "print(\"XGBoost, ROC-AUC_3:\", Xgb_3.mean())"
      ]
    },
    {
      "cell_type": "markdown",
      "metadata": {
        "id": "LG14gjYbch5A"
      },
      "source": [
        "Выбрать из четырех алгоритмов, два с параметрами, обеспечивающими максимальное качество на кросс-валидации (п.5 задания) \n",
        "\n",
        "Для них:\n",
        "\n",
        "ещё раз отдельно обучить на тренировочной выборке;\n",
        "\n",
        "посчитать ROC-AUC на тестовой выборке;\n",
        "\n",
        "построить график с топ-10 самыми важными признаками."
      ]
    },
    {
      "cell_type": "markdown",
      "metadata": {
        "id": "c3uHVjRrczgz"
      },
      "source": [
        " Как видно выше два алгоритм, обеспечивающий максимальное качество на кросс-валидации это:\n",
        "\n",
        "1. **Случайный лес** с гиперпараметрами random_state=21, n_estimators = 100)\n",
        "\n",
        "2. **XGBoost** с гиперпараметрами random_state=21, n_estimators=140, max_depth=5, objective= 'binary:logistic'"
      ]
    },
    {
      "cell_type": "code",
      "execution_count": null,
      "metadata": {
        "colab": {
          "base_uri": "https://localhost:8080/"
        },
        "id": "7oV7grk0cyJW",
        "outputId": "e7fc99a0-481e-40e3-9e73-84cdb7d2c6ac"
      },
      "outputs": [
        {
          "name": "stdout",
          "output_type": "stream",
          "text": [
            "Случайный лес, ROC-AUC на тестовой выборке: 0.8040402777478519\n"
          ]
        }
      ],
      "source": [
        "f_clf_test = RandomForestClassifier(random_state=21, n_estimators = 100).fit(X_train, y_train)\n",
        "Rfc_test = cross_val_score(f_clf_test, X_test, y_test, cv=5, scoring = 'roc_auc')\n",
        "print(\"Случайный лес, ROC-AUC на тестовой выборке:\", Rfc_test.mean())"
      ]
    },
    {
      "cell_type": "code",
      "execution_count": null,
      "metadata": {
        "colab": {
          "background_save": true
        },
        "id": "LqSlnB2GAu8x",
        "outputId": "d2bf4dab-8a47-4a49-8bdc-e99a622de4fe"
      },
      "outputs": [
        {
          "name": "stdout",
          "output_type": "stream",
          "text": [
            "XGBoost, ROC-AUC на тестовый выборке: 0.8416561291359409\n"
          ]
        }
      ],
      "source": [
        "x_clf_test = XGBClassifier(random_state=21, n_estimators=140, max_depth=5, objective= 'binary:logistic').fit(X_train, y_train)\n",
        "Xgb_test = cross_val_score(x_clf_test, X_test, y_test, cv=5, scoring = 'roc_auc')\n",
        "print(\"XGBoost, ROC-AUC на тестовый выборке:\", Xgb_test.mean())"
      ]
    },
    {
      "cell_type": "markdown",
      "metadata": {
        "id": "K50D_Xd2g2x8"
      },
      "source": [
        "*Построим график с топ-10 самыми важными признаками*"
      ]
    },
    {
      "cell_type": "code",
      "execution_count": 29,
      "metadata": {
        "id": "grrJahYqAvB9"
      },
      "outputs": [],
      "source": [
        "def f_importances(coef, names, top=-1):\n",
        "    imp = coef\n",
        "    imp, names = zip(*sorted(list(zip(imp, names))))\n",
        "\n",
        "    # Show all features\n",
        "    if top == -1:\n",
        "        top = len(names)\n",
        "    plt.figure(figsize=(12,5))\n",
        "    plt.barh(range(top), imp[::-1][0:top], align='center')\n",
        "    plt.yticks(range(top), names[::-1][0:top])\n",
        "    plt.show()"
      ]
    },
    {
      "cell_type": "code",
      "execution_count": 30,
      "metadata": {
        "id": "O0GYjXBehKV6",
        "colab": {
          "base_uri": "https://localhost:8080/",
          "height": 320
        },
        "outputId": "9cb0e7d8-22df-4215-db53-61b319baa5f0"
      },
      "outputs": [
        {
          "output_type": "display_data",
          "data": {
            "text/plain": [
              "<Figure size 864x360 with 1 Axes>"
            ],
            "image/png": "[encoded data removed]"
          },
          "metadata": {}
        }
      ],
      "source": [
        "f_importances(abs(f_clf_test.feature_importances_), X_train.columns, top=10)"
      ]
    },
    {
      "cell_type": "code",
      "execution_count": 31,
      "metadata": {
        "id": "wWbQH6wEhKYf",
        "colab": {
          "base_uri": "https://localhost:8080/",
          "height": 320
        },
        "outputId": "21a32e52-6743-4859-ee9b-57b8e3fcae88"
      },
      "outputs": [
        {
          "output_type": "display_data",
          "data": {
            "text/plain": [
              "<Figure size 864x360 with 1 Axes>"
            ],
            "image/png": "[encoded data removed]"
          },
          "metadata": {}
        }
      ],
      "source": [
        "f_importances(abs(x_clf_test.feature_importances_), X_train.columns, top=10)"
      ]
    },
    {
      "cell_type": "markdown",
      "metadata": {
        "id": "59nwgCj_f3gu"
      },
      "source": [
        "Сохранить обе модели на диск (п.6 задаания)"
      ]
    },
    {
      "cell_type": "code",
      "execution_count": 32,
      "metadata": {
        "id": "o4bxAzfItec1"
      },
      "outputs": [],
      "source": [
        "import pickle"
      ]
    },
    {
      "cell_type": "code",
      "execution_count": 46,
      "metadata": {
        "id": "n1UO94k1TQKT"
      },
      "outputs": [],
      "source": [
        "RFC_best = 'best_model_RFC.sav'\n",
        "pickle.dump(f_clf_test, open(RFC_best, 'wb'))"
      ]
    },
    {
      "cell_type": "code",
      "execution_count": 47,
      "metadata": {
        "id": "pZhjGB0XTQKT"
      },
      "outputs": [],
      "source": [
        "XGB_best = 'best_model.sav'\n",
        "pickle.dump(x_clf_test, open(XGB_best, 'wb'))"
      ]
    },
    {
      "cell_type": "markdown",
      "metadata": {
        "id": "nqU7iy4ahS9-"
      },
      "source": [
        "Загрузить сохранённые модели и снова проверить ROC-AUC на тестовой выборке: они должны показывать те же значения."
      ]
    },
    {
      "cell_type": "code",
      "execution_count": 39,
      "metadata": {
        "id": "4eqa3bSQTQKU",
        "colab": {
          "base_uri": "https://localhost:8080/"
        },
        "outputId": "15a201e6-01b8-4e35-a8e0-1fd05c369a63"
      },
      "outputs": [
        {
          "output_type": "stream",
          "name": "stdout",
          "text": [
            "Случайный лес, ROC-AUC на тестовой выборке (загрузка сохраненной модели): 0.8040402777478519\n",
            "Случайный лес, ROC-AUC на тестовой выборке: 0.8040402777478519\n"
          ]
        }
      ],
      "source": [
        "loaded_RFC = pickle.load(open(RFC_best, 'rb'))\n",
        "best_RFC = loaded_RFC.fit(X_train, y_train)\n",
        "best_RАС_test = cross_val_score(best_RFC, X_test, y_test, cv=5, scoring = 'roc_auc')\n",
        "print(\"Случайный лес, ROC-AUC на тестовой выборке (загрузка сохраненной модели):\", best_RАС_test.mean())\n",
        "print(\"Случайный лес, ROC-AUC на тестовой выборке:\", Rfc_test.mean())"
      ]
    },
    {
      "cell_type": "code",
      "execution_count": 40,
      "metadata": {
        "id": "VSk_OksfTQKU",
        "colab": {
          "base_uri": "https://localhost:8080/"
        },
        "outputId": "dd6c007f-b771-4a0e-aaa7-6c0251b64218"
      },
      "outputs": [
        {
          "output_type": "stream",
          "name": "stdout",
          "text": [
            "XGBoost, ROC-AUC на тестовый выборке (загрузка сохраненной модели): 0.8416561291359409\n",
            "XGBoost, ROC-AUC на тестовый выборке: 0.8416561291359409\n"
          ]
        }
      ],
      "source": [
        "loaded_XGB = pickle.load(open(XGB_best, 'rb'))\n",
        "best_XGB = loaded_XGB.fit(X_train, y_train)\n",
        "best_XGB_test = cross_val_score(best_XGB, X_test, y_test, cv=5, scoring = 'roc_auc')\n",
        "print(\"XGBoost, ROC-AUC на тестовый выборке (загрузка сохраненной модели):\", best_XGB_test.mean())\n",
        "print(\"XGBoost, ROC-AUC на тестовый выборке:\", Xgb_test.mean())"
      ]
    }
  ],
  "metadata": {
    "colab": {
      "collapsed_sections": [],
      "name": "d03_results.ipynb\"",
      "provenance": []
    },
    "kernelspec": {
      "display_name": "Python 3",
      "language": "python",
      "name": "python3"
    },
    "language_info": {
      "codemirror_mode": {
        "name": "ipython",
        "version": 3
      },
      "file_extension": ".py",
      "mimetype": "text/x-python",
      "name": "python",
      "nbconvert_exporter": "python",
      "pygments_lexer": "ipython3",
      "version": "3.7.7"
    }
  },
  "nbformat": 4,
  "nbformat_minor": 0
}