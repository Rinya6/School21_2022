{
  "nbformat": 4,
  "nbformat_minor": 0,
  "metadata": {
    "colab": {
      "name": "d06_algorithmic complexity",
      "provenance": []
    },
    "kernelspec": {
      "name": "python3",
      "display_name": "Python 3"
    },
    "language_info": {
      "name": "python"
    }
  },
  "cells": [
    {
      "cell_type": "code",
      "source": [
        "import math"
      ],
      "metadata": {
        "id": "bUGlXoI13hLh"
      },
      "execution_count": null,
      "outputs": []
    },
    {
      "cell_type": "markdown",
      "source": [
        "Напишите функцию, которая будет переводить секунды в более подходящие величины времени:\n",
        "\n",
        "- если больше 60 секунд, то выдавать в минутах;\n",
        "- если больше 60 минут, то выдавать в часах;\n",
        "- если больше 24 часов, то выдавать в днях;\n",
        "- функция возвращает число и наименование величины времени: «6.767229629629629 дней»;\n",
        "- используйте функцию в каждом из упражнений этого проекта."
      ],
      "metadata": {
        "id": "uYIAMIbSFfMw"
      }
    },
    {
      "cell_type": "code",
      "source": [
        "def conversion(sec):\n",
        "  if sec <= 60:\n",
        "    print('Время обработки = {} секунд(а, ы)'.format(sec))\n",
        "  elif 60 < sec <= 3600:\n",
        "    sec = sec / 60\n",
        "    print('Время обработки = {} минут(а)'.format(sec))\n",
        "  elif 3600 < sec <= 86400:\n",
        "    sec = sec / 3600\n",
        "    print('Время обработки = {} час(ов)'.format(sec))\n",
        "  elif sec > 86400:\n",
        "    sec = sec / 86400\n",
        "    print('Время обработки = {} ден(ь, ей)'.format(sec))"
      ],
      "metadata": {
        "id": "_WZKSxzlF_jK"
      },
      "execution_count": null,
      "outputs": []
    },
    {
      "cell_type": "markdown",
      "source": [
        "**Task 1**"
      ],
      "metadata": {
        "id": "rdBFVi2sxFoR"
      }
    },
    {
      "cell_type": "markdown",
      "source": [
        "1. Оцените алгоритмическую сложность следующего кода в терминах О-нотации:"
      ],
      "metadata": {
        "id": "J20MZt06xQgK"
      }
    },
    {
      "cell_type": "code",
      "execution_count": null,
      "metadata": {
        "id": "u9haLOwOxFNl"
      },
      "outputs": [],
      "source": [
        "def get_first(data):\n",
        "    return data[0]\n",
        "\n",
        "if __name__ == '__main__':\n",
        "    data = [1, 5, 3, 7, 2, 4, 9, 6, 5]\n",
        "    print(get_first(data))"
      ]
    },
    {
      "cell_type": "markdown",
      "source": [
        "Получение элемента из списка (data[0]):\n",
        "\n",
        "Константная сложность = **O(1)** "
      ],
      "metadata": {
        "id": "f0g8Yd4J7px6"
      }
    },
    {
      "cell_type": "markdown",
      "source": [
        "2. Сколько по времени займёт обработка списка из 1 000 записей, если обработка из 20 записей занимает 0,02 секунд?"
      ],
      "metadata": {
        "id": "QcYJU8e4xXiu"
      }
    },
    {
      "cell_type": "code",
      "source": [
        "''' \n",
        "функция работает за констатное время, вне зависимости от количества данных в списке \n",
        "время обработки фунции будет одинаковой, как для списка с 20 записями, так и в списке с 1000 записями\n",
        "делаем вывод: время на обработку списка с 1000 записями займет 0,02 секунды\n",
        "используем нашу функцию conversion(sec) к данному упражнению \n",
        "'''\n",
        "\n",
        "sec = 0.02\n",
        "conversion(sec)"
      ],
      "metadata": {
        "colab": {
          "base_uri": "https://localhost:8080/"
        },
        "id": "HMEQlEZ9OX89",
        "outputId": "b5af9985-9c8b-4504-c423-5fd6f726e754"
      },
      "execution_count": null,
      "outputs": [
        {
          "output_type": "stream",
          "name": "stdout",
          "text": [
            "Время обработки = 0.02 секунд(а, ы)\n"
          ]
        }
      ]
    },
    {
      "cell_type": "markdown",
      "source": [
        "**Task 2**"
      ],
      "metadata": {
        "id": "DbtBRdkzWOi1"
      }
    },
    {
      "cell_type": "markdown",
      "source": [
        "1. Оцените алгоритмическую сложность следующего кода в терминах О-нотации:"
      ],
      "metadata": {
        "id": "O0EQhfS0WUtY"
      }
    },
    {
      "cell_type": "code",
      "source": [
        "def search(data, value):\n",
        "    n = len(data)\n",
        "    left = 0\n",
        "    right = n - 1\n",
        "    while left <= right:\n",
        "        middle = (left + right) // 2\n",
        "        if value < data[middle]:\n",
        "            right = middle - 1\n",
        "        elif value > data[middle]:\n",
        "            left = middle + 1\n",
        "        else:\n",
        "            return middle\n",
        "    raise ValueError('Value is not in the list')\n",
        "    \n",
        "if __name__ == '__main__':\n",
        "    data = [1, 5, 3, 7, 2, 4, 9, 6, 5]\n",
        "    print(search(data, 4))"
      ],
      "metadata": {
        "id": "9l5ifXkgMQ46"
      },
      "execution_count": null,
      "outputs": []
    },
    {
      "cell_type": "markdown",
      "source": [
        "Уменьшаем объем данных на каждой итерации в двое (// 2):\n",
        "\n",
        "Логарифмическая сложность = **O(log n)**"
      ],
      "metadata": {
        "id": "s-Z6qHnhfHn_"
      }
    },
    {
      "cell_type": "markdown",
      "source": [
        "2. Сколько по времени займёт обработка списка из 1 000 записей, если обработка из 20 записей занимает 0,02 секунд?"
      ],
      "metadata": {
        "id": "jAA6pIjbWlg5"
      }
    },
    {
      "cell_type": "code",
      "source": [
        "sec = math.log(1000,2) * (0.02 / math.log(20, 2))\n",
        "conversion(sec)"
      ],
      "metadata": {
        "colab": {
          "base_uri": "https://localhost:8080/"
        },
        "id": "3llL9pBWWi9u",
        "outputId": "755da78c-6bdd-4bc0-a7ab-2f83d47e3a0e"
      },
      "execution_count": null,
      "outputs": [
        {
          "output_type": "stream",
          "name": "stdout",
          "text": [
            "Время обработки = 0.046117307210414446 секунд(а, ы)\n"
          ]
        }
      ]
    },
    {
      "cell_type": "markdown",
      "source": [
        "**Task 3**"
      ],
      "metadata": {
        "id": "9Mkbz1J2reOA"
      }
    },
    {
      "cell_type": "markdown",
      "source": [
        "1. Оцените алгоритмическую сложность следующего кода в терминах О-нотации:"
      ],
      "metadata": {
        "id": "l5_H4SQbriJE"
      }
    },
    {
      "cell_type": "code",
      "source": [
        "def search(data, value):\n",
        "    for index in range(len(data)):\n",
        "        if value == data[index]:\n",
        "            return index\n",
        "    raise ValueError('Value not found in the list')\n",
        "    \n",
        "if __name__ == '__main__':\n",
        "    data = [1, 5, 3, 7, 2, 4, 9, 6, 5]\n",
        "    print(search(data, 9))"
      ],
      "metadata": {
        "id": "kOFP8rjsrOvr"
      },
      "execution_count": null,
      "outputs": []
    },
    {
      "cell_type": "markdown",
      "source": [
        "Внутри функции - цикл, который перебирает каждый элемент массива (Перебор:\tfor v in l:):\n",
        "\n",
        "Линейная сложность = **O(n)**"
      ],
      "metadata": {
        "id": "5i4iR0zprsnp"
      }
    },
    {
      "cell_type": "markdown",
      "source": [
        "2. Сколько по времени займёт обработка списка из 1 000 записей, если обработка из 20 записей занимает 0,02 секунд?"
      ],
      "metadata": {
        "id": "mGRtSWrruyjZ"
      }
    },
    {
      "cell_type": "code",
      "source": [
        "sec = 0.02 * 1000 / 20\n",
        "conversion(sec)"
      ],
      "metadata": {
        "colab": {
          "base_uri": "https://localhost:8080/"
        },
        "id": "sEOWeP_KrrPL",
        "outputId": "244d6712-dd26-4e9b-c318-bf87acde8c75"
      },
      "execution_count": null,
      "outputs": [
        {
          "output_type": "stream",
          "name": "stdout",
          "text": [
            "Время обработки = 1.0 секунд(а, ы)\n"
          ]
        }
      ]
    },
    {
      "cell_type": "markdown",
      "source": [
        "**Task 4**"
      ],
      "metadata": {
        "id": "XGTuMeBfub3G"
      }
    },
    {
      "cell_type": "markdown",
      "source": [
        "1. Оцените алгоритмическую сложность следующего кода в терминах О-нотации:"
      ],
      "metadata": {
        "id": "oG3od5UEuuIH"
      }
    },
    {
      "cell_type": "code",
      "source": [
        "def sorter(data):\n",
        "    if len(data) <= 1:\n",
        "        return\n",
        "    \n",
        "    mid = len(data) // 2\n",
        "    left_data = data[:mid]\n",
        "    right_data = data[mid:]\n",
        "    \n",
        "    merge_sort(left_data)\n",
        "    merge_sort(right_data)\n",
        "    \n",
        "    left_index = 0\n",
        "    right_index = 0\n",
        "    data_index = 0\n",
        "    \n",
        "    while left_index < len(left_data) and right_index < len(right_data):\n",
        "        if left_data[left_index] < right_data[right_index]:\n",
        "            data[data_index] = left_data[left_index]\n",
        "            left_index += 1\n",
        "        else:\n",
        "            data[data_index] = right_data[right_index]\n",
        "            right_index += 1\n",
        "        data_index += 1\n",
        "    \n",
        "    if left_index < len(left_data):\n",
        "        del data[data_index:]\n",
        "        data += left_data[left_index:]\n",
        "    elif right_index < len(right_data):\n",
        "        del data[data_index:]\n",
        "        data += right_data[right_index:]\n",
        "    \n",
        "if __name__ == '__main__':\n",
        "    data = [9, 1, 7, 6, 2, 8, 5, 3, 4, 0]\n",
        "    sorter(data)\n",
        "    print(data)"
      ],
      "metadata": {
        "id": "JQynPE2zxXYG"
      },
      "execution_count": null,
      "outputs": []
    },
    {
      "cell_type": "markdown",
      "source": [
        "Сортировка слиянием (merge_sort):\n",
        "\n",
        "Линейная логарифмическая сложность = **O(n log n)**"
      ],
      "metadata": {
        "id": "2A3Xdf0c01Xa"
      }
    },
    {
      "cell_type": "markdown",
      "source": [
        "2. Сколько по времени займёт обработка списка из 1 000 записей, если обработка из 20 записей занимает 0,02 секунд?"
      ],
      "metadata": {
        "id": "sGv0xevy1RfI"
      }
    },
    {
      "cell_type": "code",
      "source": [
        "sec = math.log(1000,2) * 1000 * (0.02 / (math.log(20, 2) * 20))\n",
        "conversion(sec)"
      ],
      "metadata": {
        "colab": {
          "base_uri": "https://localhost:8080/"
        },
        "id": "jZcyYSdqvH6I",
        "outputId": "e0e066a0-893c-46b0-dc8c-9cb1c1864b56"
      },
      "execution_count": null,
      "outputs": [
        {
          "output_type": "stream",
          "name": "stdout",
          "text": [
            "Время обработки = 2.305865360520723 секунд(а, ы)\n"
          ]
        }
      ]
    },
    {
      "cell_type": "markdown",
      "source": [
        "**Task 5**"
      ],
      "metadata": {
        "id": "NHCWTioy4JGG"
      }
    },
    {
      "cell_type": "markdown",
      "source": [
        "1. Оцените алгоритмическую сложность следующего кода в терминах О-нотации:"
      ],
      "metadata": {
        "id": "MJSPyNz3A9pk"
      }
    },
    {
      "cell_type": "code",
      "source": [
        "def sorter(data):\n",
        "    swapped = True\n",
        "    while swapped:\n",
        "        swapped = False\n",
        "        for i in range(len(data)-1):\n",
        "            if data[i] > data[i+1]:\n",
        "                data[i], data[i+1] = data[i+1], data[i]\n",
        "                swapped = True\n",
        "    \n",
        "if __name__ == '__main__':\n",
        "    data = [9, 1, 7, 6, 2, 8, 5, 3, 4, 0]\n",
        "    sorter(data)\n",
        "    print(data)"
      ],
      "metadata": {
        "id": "-3hNVjQG1eHy"
      },
      "execution_count": null,
      "outputs": []
    },
    {
      "cell_type": "markdown",
      "source": [
        "Функция делает два цикла (while и for, может быть for и for), вложенный один в другой. \n",
        "\n",
        "Квадратичная сложность - **O(n^2)**"
      ],
      "metadata": {
        "id": "PZOvS08FDahI"
      }
    },
    {
      "cell_type": "markdown",
      "source": [
        "Сколько по времени займёт обработка списка из 1 000 записей, если обработка из 20 записей занимает 0,02 секунд?"
      ],
      "metadata": {
        "id": "VhXDhfyXE7WC"
      }
    },
    {
      "cell_type": "code",
      "source": [
        "sec = (1000**2) * (0.02 / 20**2)\n",
        "conversion(sec)"
      ],
      "metadata": {
        "colab": {
          "base_uri": "https://localhost:8080/"
        },
        "id": "ELr9gn1CDT20",
        "outputId": "eec85483-05a9-41e3-f759-d83c3d680a19"
      },
      "execution_count": null,
      "outputs": [
        {
          "output_type": "stream",
          "name": "stdout",
          "text": [
            "Время обработки = 50.0 секунд(а, ы)\n"
          ]
        }
      ]
    },
    {
      "cell_type": "markdown",
      "source": [
        "**Task 6**"
      ],
      "metadata": {
        "id": "BjE8bIDEFTRS"
      }
    },
    {
      "cell_type": "markdown",
      "source": [
        "1. Оцените алгоритмическую сложность следующего кода в терминах О-нотации:"
      ],
      "metadata": {
        "id": "GfUR_aOnFTjx"
      }
    },
    {
      "cell_type": "code",
      "source": [
        "def macaronni(n):\n",
        "    if n <= 1:\n",
        "        return n\n",
        "    return macaronni(n-1) + macaronni(n-2)"
      ],
      "metadata": {
        "id": "SrV3dooHFSSc"
      },
      "execution_count": null,
      "outputs": []
    },
    {
      "cell_type": "markdown",
      "source": [
        "Данная функция - рекурсивное вычисление чисел Фибоначчи является хорошим примером алгоритма, рост которого удваивается с каждым дополнительным элементом во входном наборе данных\n",
        "\n",
        "Экспоненциальная сложность - **O(2^n)**"
      ],
      "metadata": {
        "id": "-B4tcJGiG1Iz"
      }
    },
    {
      "cell_type": "markdown",
      "source": [
        "2. Сколько по времени займёт обработка списка из 30 записей, если обработка из 5 записей занимает 0,02 секунд?"
      ],
      "metadata": {
        "id": "JMmElJaSJFgt"
      }
    },
    {
      "cell_type": "code",
      "source": [
        "sec = 2**30 * 0.02 / 2**5\n",
        "conversion(sec)"
      ],
      "metadata": {
        "colab": {
          "base_uri": "https://localhost:8080/"
        },
        "id": "pvLey7r6FPc-",
        "outputId": "2e570e87-5fbc-4de4-e127-78b8444b9d8f"
      },
      "execution_count": null,
      "outputs": [
        {
          "output_type": "stream",
          "name": "stdout",
          "text": [
            "Время обработки = 7.76722962962963 ден(ь, ей)\n"
          ]
        }
      ]
    },
    {
      "cell_type": "markdown",
      "source": [
        "**Task 7**"
      ],
      "metadata": {
        "id": "Gnz0_rLZJhJB"
      }
    },
    {
      "cell_type": "markdown",
      "source": [
        "1. Оцените алгоритмическую сложность следующего кода в терминах О-нотации:"
      ],
      "metadata": {
        "id": "UNqiJMsKJkml"
      }
    },
    {
      "cell_type": "code",
      "source": [
        "def permutation(data, n):\n",
        "    if n == 1:\n",
        "        print(data)\n",
        "        return\n",
        "    \n",
        "    for i in range(n):\n",
        "        permutation(data, n - 1)\n",
        "        if n % 2 == 0:\n",
        "            data[i], data[n-1] = data[n-1], data[i]\n",
        "        else:\n",
        "            data[0], data[n-1] = data[n-1], data[0]\n",
        "    \n",
        "if __name__ == '__main__':\n",
        "    data = [1, 2, 3]\n",
        "    permutation(data, len(data))"
      ],
      "metadata": {
        "id": "TJureDRpJdhL"
      },
      "execution_count": null,
      "outputs": []
    },
    {
      "cell_type": "markdown",
      "source": [
        "Простая рекурсивная функция служит алгоритмом с факториальной временной сложностью. Эта функция принимает число в качестве входных данных и меньшего на единицу.\n",
        "\n",
        "Факториальная сложность - **O(n!)**"
      ],
      "metadata": {
        "id": "3O-D6XSuJvJK"
      }
    },
    {
      "cell_type": "markdown",
      "source": [
        "2. Сколько по времени займёт обработка списка из 30 записей, если обработка из 5 записей занимает 0,02 секунд?"
      ],
      "metadata": {
        "id": "ljnLOJuXRIMm"
      }
    },
    {
      "cell_type": "code",
      "source": [
        "sec = math.factorial(30) * (0.02 / math.factorial(5))\n",
        "conversion(sec)"
      ],
      "metadata": {
        "colab": {
          "base_uri": "https://localhost:8080/"
        },
        "id": "tdkVH1zvJuBs",
        "outputId": "b454e6f5-a64a-48dd-a976-962cd158fe0b"
      },
      "execution_count": null,
      "outputs": [
        {
          "output_type": "stream",
          "name": "stdout",
          "text": [
            "Время обработки = 5.1167604130438096e+23 ден(ь, ей)\n"
          ]
        }
      ]
    },
    {
      "cell_type": "markdown",
      "source": [
        "**Task 8**"
      ],
      "metadata": {
        "id": "wn1vOY5vRh70"
      }
    },
    {
      "cell_type": "markdown",
      "source": [
        "1. Оцените алгоритмическую сложность следующего кода в терминах О-нотации:"
      ],
      "metadata": {
        "id": "NDqODg0VRlmJ"
      }
    },
    {
      "cell_type": "code",
      "source": [
        "def my_func(data):\n",
        "    first_element = data[0]\n",
        "    \n",
        "    for value in data:\n",
        "        print(value)\n",
        "    \n",
        "    for x in data:\n",
        "        for y in data:\n",
        "            print(x, y)"
      ],
      "metadata": {
        "id": "ltW46PIERac8"
      },
      "execution_count": null,
      "outputs": []
    },
    {
      "cell_type": "markdown",
      "source": [
        "Функция делает цикл (O(n)) и два цикла (for и for), вложенный один в другой (O(n^2)).\n",
        "\n",
        "При сложении двух классов сложности складываются функции этих классов. В конечном счете, O(f(n) + g(n)) приводит нас к большему из двух исходных классов – так как *меньший член выражения просто отбрасывается*.\n",
        "\n",
        "В нашем случает отбрасывается O(n) и остается:\n",
        "\n",
        "\n",
        "Квадратичная сложность - **O(n^2)**"
      ],
      "metadata": {
        "id": "-J3JuoEOR8Wb"
      }
    },
    {
      "cell_type": "markdown",
      "source": [
        "2. Сколько по времени займёт обработка списка из 30 записей, если обработка из 5 записей занимает 0,02 секунд?"
      ],
      "metadata": {
        "id": "eE2zSZm9V8K7"
      }
    },
    {
      "cell_type": "code",
      "source": [
        "sec = (30**2) * (0.02 / 5**2)\n",
        "conversion(sec)"
      ],
      "metadata": {
        "colab": {
          "base_uri": "https://localhost:8080/"
        },
        "id": "F-3qi6BMR4Oq",
        "outputId": "42cf0756-9e24-4926-b1e3-69cf442b4647"
      },
      "execution_count": null,
      "outputs": [
        {
          "output_type": "stream",
          "name": "stdout",
          "text": [
            "Время обработки = 0.7200000000000001 секунд(а, ы)\n"
          ]
        }
      ]
    },
    {
      "cell_type": "markdown",
      "source": [
        "**Task 9**"
      ],
      "metadata": {
        "id": "EzATZu7mYVPQ"
      }
    },
    {
      "cell_type": "markdown",
      "source": [
        "1. Перепишите код ниже так, чтобы его алгоритмическая сложность была ниже, но при этом так, чтобы он по-прежнему выполнял ту же задачу."
      ],
      "metadata": {
        "id": "e1ntiCCrYZ1g"
      }
    },
    {
      "cell_type": "code",
      "source": [
        "def my_func(data):\n",
        "    i = 0\n",
        "    j = 0\n",
        "    m = 0\n",
        "    c = 0\n",
        "    while i < len(data):\n",
        "        if data[i] == data[j]:\n",
        "            c = c + 1\n",
        "        j = j + 1\n",
        "        if j >= len(data):\n",
        "            if c > m:\n",
        "                m = c\n",
        "            c = 0\n",
        "            i = i + 1\n",
        "            j = i\n",
        "    return m"
      ],
      "metadata": {
        "id": "BC5ZMvW9Rsf-"
      },
      "execution_count": null,
      "outputs": []
    },
    {
      "cell_type": "code",
      "source": [
        "data = [100, 50, 30, 9, 5, 1, 9, 1, 100, 55, 16, 30, 1, 1, 30, 1]\n",
        "print(data)\n",
        "my_func(data)"
      ],
      "metadata": {
        "colab": {
          "base_uri": "https://localhost:8080/"
        },
        "id": "HkGDVl8tYjRF",
        "outputId": "79da8d61-bc93-49ee-a3ed-15cbbc1e41c4"
      },
      "execution_count": null,
      "outputs": [
        {
          "output_type": "stream",
          "name": "stdout",
          "text": [
            "[100, 50, 30, 9, 5, 1, 9, 1, 100, 55, 16, 30, 1, 1, 30, 1]\n"
          ]
        },
        {
          "output_type": "execute_result",
          "data": {
            "text/plain": [
              "5"
            ]
          },
          "metadata": {},
          "execution_count": 194
        }
      ]
    },
    {
      "cell_type": "markdown",
      "source": [
        "Функция считает максимальное количество повторений элемента в списке. \n",
        "\n",
        "То есть каждая итерация нашей функции, будет делать дополнительные n операции вторым условием (if j >= len(data)) - делать два прохода по длине списка .\n",
        "\n",
        "Получается, что это:\n",
        "\n",
        "Квадратичная сложность - **O(n^2)**"
      ],
      "metadata": {
        "id": "jbH32TfAbh_g"
      }
    },
    {
      "cell_type": "code",
      "source": [
        "#from collections import Counter\n",
        "def My_func(data):\n",
        "  data = Counter(data)\n",
        "  values_max = max(data.values())\n",
        "  return values_max"
      ],
      "metadata": {
        "id": "VSlFoMR-m6Or"
      },
      "execution_count": null,
      "outputs": []
    },
    {
      "cell_type": "code",
      "source": [
        "data = [100, 50, 30, 9, 5, 1, 9, 1, 100, 55, 16, 30, 1, 1, 30, 1]\n",
        "print(data)\n",
        "My_func(data)"
      ],
      "metadata": {
        "colab": {
          "base_uri": "https://localhost:8080/"
        },
        "id": "7bV7ckut0OrF",
        "outputId": "f417fed3-da11-4209-f5f0-b70d8f5a372f"
      },
      "execution_count": null,
      "outputs": [
        {
          "output_type": "stream",
          "name": "stdout",
          "text": [
            "[100, 50, 30, 9, 5, 1, 9, 1, 100, 55, 16, 30, 1, 1, 30, 1]\n"
          ]
        },
        {
          "output_type": "execute_result",
          "data": {
            "text/plain": [
              "5"
            ]
          },
          "metadata": {},
          "execution_count": 196
        }
      ]
    },
    {
      "cell_type": "markdown",
      "source": [
        "Функция считает количество элементов которые повторяются в списке. \n",
        "\n",
        "Внутри функции: создание словаря O(n) + перебор элементов O(n) + получение максимального значения O(1) = O(n)\n",
        "\n",
        "Линейная сложность = **O(n)** (*что ниже чем O(n^2)*)"
      ],
      "metadata": {
        "id": "FDsglhpQ1PnA"
      }
    }
  ]
}