{
 "cells": [
  {
   "cell_type": "code",
   "execution_count": 42,
   "metadata": {
    "colab": {
     "base_uri": "https://localhost:8080/",
     "height": 368
    },
    "executionInfo": {
     "elapsed": 321,
     "status": "error",
     "timestamp": 1665227536728,
     "user": {
      "displayName": "Ирина Исайкина",
      "userId": "07624164943752334843"
     },
     "user_tz": -180
    },
    "id": "Y0tnyOAaHPIP",
    "outputId": "6efcf0b4-ace2-4196-938a-43947a549dc9"
   },
   "outputs": [],
   "source": [
    "import pandas as pd\n",
    "import seaborn as sns\n",
    "from sklearn.linear_model import LogisticRegression\n",
    "from sklearn.inspection import DecisionBoundaryDisplay\n",
    "import matplotlib.pyplot as plt"
   ]
  },
  {
   "cell_type": "code",
   "execution_count": 43,
   "metadata": {
    "colab": {
     "base_uri": "https://localhost:8080/"
    },
    "executionInfo": {
     "elapsed": 2200,
     "status": "ok",
     "timestamp": 1665227568256,
     "user": {
      "displayName": "Ирина Исайкина",
      "userId": "07624164943752334843"
     },
     "user_tz": -180
    },
    "id": "65of7CyXRTBZ",
    "outputId": "bac160c6-80c3-4a7f-c737-f7a776478118"
   },
   "outputs": [],
   "source": [
    "#!pip install sklearn"
   ]
  },
  {
   "cell_type": "code",
   "execution_count": 44,
   "metadata": {},
   "outputs": [],
   "source": [
    "#!pip install -U scikit-learn==1.1.0"
   ]
  },
  {
   "cell_type": "code",
   "execution_count": 45,
   "metadata": {},
   "outputs": [],
   "source": [
    "#!pip uninstall numpy"
   ]
  },
  {
   "cell_type": "markdown",
   "metadata": {
    "id": "Av5joGFQHIkH"
   },
   "source": [
    "# Day 13. Task 02\n",
    "# Бинарный классификатор. SVM. Дерево классификаций"
   ]
  },
  {
   "cell_type": "markdown",
   "metadata": {
    "id": "9Ih1wUrdHIkK"
   },
   "source": [
    "## 0. Импорты"
   ]
  },
  {
   "cell_type": "code",
   "execution_count": 81,
   "metadata": {
    "id": "-pRjjJ8lHIkK"
   },
   "outputs": [],
   "source": [
    "df = pd.read_csv('../data/am_pm.csv')"
   ]
  },
  {
   "cell_type": "markdown",
   "metadata": {
    "id": "wQTPLkxzHIkL"
   },
   "source": [
    "## 1. Препроцессинг данных и визуализация работы логрегрессии"
   ]
  },
  {
   "cell_type": "markdown",
   "metadata": {},
   "source": [
    "[sklearn.inspection. DecisionBoundaryDisplay](https://scikit-learn.org/stable/modules/generated/sklearn.inspection.DecisionBoundaryDisplay.html)"
   ]
  },
  {
   "cell_type": "markdown",
   "metadata": {
    "id": "lWjxClY-HIkL"
   },
   "source": [
    "Прочитайте файл `am_pm.csv` с прошлого задания в датафрейм."
   ]
  },
  {
   "cell_type": "code",
   "execution_count": 47,
   "metadata": {},
   "outputs": [
    {
     "data": {
      "text/html": [
       "<div>\n",
       "<style scoped>\n",
       "    .dataframe tbody tr th:only-of-type {\n",
       "        vertical-align: middle;\n",
       "    }\n",
       "\n",
       "    .dataframe tbody tr th {\n",
       "        vertical-align: top;\n",
       "    }\n",
       "\n",
       "    .dataframe thead th {\n",
       "        text-align: right;\n",
       "    }\n",
       "</style>\n",
       "<table border=\"1\" class=\"dataframe\">\n",
       "  <thead>\n",
       "    <tr style=\"text-align: right;\">\n",
       "      <th></th>\n",
       "      <th>date</th>\n",
       "      <th>target</th>\n",
       "      <th>am</th>\n",
       "      <th>pm</th>\n",
       "      <th>predict</th>\n",
       "    </tr>\n",
       "  </thead>\n",
       "  <tbody>\n",
       "    <tr>\n",
       "      <th>0</th>\n",
       "      <td>2020-04-17</td>\n",
       "      <td>working_day</td>\n",
       "      <td>21</td>\n",
       "      <td>2</td>\n",
       "      <td>weekend</td>\n",
       "    </tr>\n",
       "    <tr>\n",
       "      <th>1</th>\n",
       "      <td>2020-04-18</td>\n",
       "      <td>weekend</td>\n",
       "      <td>1</td>\n",
       "      <td>68</td>\n",
       "      <td>working_day</td>\n",
       "    </tr>\n",
       "    <tr>\n",
       "      <th>2</th>\n",
       "      <td>2020-04-19</td>\n",
       "      <td>weekend</td>\n",
       "      <td>18</td>\n",
       "      <td>15</td>\n",
       "      <td>working_day</td>\n",
       "    </tr>\n",
       "    <tr>\n",
       "      <th>3</th>\n",
       "      <td>2020-04-20</td>\n",
       "      <td>working_day</td>\n",
       "      <td>2</td>\n",
       "      <td>23</td>\n",
       "      <td>working_day</td>\n",
       "    </tr>\n",
       "    <tr>\n",
       "      <th>4</th>\n",
       "      <td>2020-04-21</td>\n",
       "      <td>working_day</td>\n",
       "      <td>0</td>\n",
       "      <td>25</td>\n",
       "      <td>working_day</td>\n",
       "    </tr>\n",
       "    <tr>\n",
       "      <th>5</th>\n",
       "      <td>2020-04-22</td>\n",
       "      <td>working_day</td>\n",
       "      <td>0</td>\n",
       "      <td>28</td>\n",
       "      <td>working_day</td>\n",
       "    </tr>\n",
       "    <tr>\n",
       "      <th>6</th>\n",
       "      <td>2020-04-23</td>\n",
       "      <td>working_day</td>\n",
       "      <td>10</td>\n",
       "      <td>33</td>\n",
       "      <td>working_day</td>\n",
       "    </tr>\n",
       "    <tr>\n",
       "      <th>7</th>\n",
       "      <td>2020-04-24</td>\n",
       "      <td>working_day</td>\n",
       "      <td>2</td>\n",
       "      <td>14</td>\n",
       "      <td>working_day</td>\n",
       "    </tr>\n",
       "    <tr>\n",
       "      <th>8</th>\n",
       "      <td>2020-04-25</td>\n",
       "      <td>weekend</td>\n",
       "      <td>30</td>\n",
       "      <td>74</td>\n",
       "      <td>working_day</td>\n",
       "    </tr>\n",
       "    <tr>\n",
       "      <th>9</th>\n",
       "      <td>2020-04-26</td>\n",
       "      <td>weekend</td>\n",
       "      <td>28</td>\n",
       "      <td>233</td>\n",
       "      <td>working_day</td>\n",
       "    </tr>\n",
       "    <tr>\n",
       "      <th>10</th>\n",
       "      <td>2020-04-27</td>\n",
       "      <td>working_day</td>\n",
       "      <td>4</td>\n",
       "      <td>2</td>\n",
       "      <td>working_day</td>\n",
       "    </tr>\n",
       "    <tr>\n",
       "      <th>11</th>\n",
       "      <td>2020-04-28</td>\n",
       "      <td>working_day</td>\n",
       "      <td>4</td>\n",
       "      <td>1</td>\n",
       "      <td>working_day</td>\n",
       "    </tr>\n",
       "    <tr>\n",
       "      <th>12</th>\n",
       "      <td>2020-04-29</td>\n",
       "      <td>working_day</td>\n",
       "      <td>0</td>\n",
       "      <td>17</td>\n",
       "      <td>working_day</td>\n",
       "    </tr>\n",
       "    <tr>\n",
       "      <th>13</th>\n",
       "      <td>2020-04-30</td>\n",
       "      <td>working_day</td>\n",
       "      <td>13</td>\n",
       "      <td>40</td>\n",
       "      <td>working_day</td>\n",
       "    </tr>\n",
       "    <tr>\n",
       "      <th>14</th>\n",
       "      <td>2020-05-01</td>\n",
       "      <td>working_day</td>\n",
       "      <td>8</td>\n",
       "      <td>52</td>\n",
       "      <td>working_day</td>\n",
       "    </tr>\n",
       "    <tr>\n",
       "      <th>15</th>\n",
       "      <td>2020-05-02</td>\n",
       "      <td>weekend</td>\n",
       "      <td>91</td>\n",
       "      <td>151</td>\n",
       "      <td>working_day</td>\n",
       "    </tr>\n",
       "    <tr>\n",
       "      <th>16</th>\n",
       "      <td>2020-05-03</td>\n",
       "      <td>weekend</td>\n",
       "      <td>47</td>\n",
       "      <td>133</td>\n",
       "      <td>working_day</td>\n",
       "    </tr>\n",
       "    <tr>\n",
       "      <th>17</th>\n",
       "      <td>2020-05-04</td>\n",
       "      <td>working_day</td>\n",
       "      <td>11</td>\n",
       "      <td>26</td>\n",
       "      <td>working_day</td>\n",
       "    </tr>\n",
       "    <tr>\n",
       "      <th>18</th>\n",
       "      <td>2020-05-05</td>\n",
       "      <td>working_day</td>\n",
       "      <td>81</td>\n",
       "      <td>58</td>\n",
       "      <td>working_day</td>\n",
       "    </tr>\n",
       "    <tr>\n",
       "      <th>19</th>\n",
       "      <td>2020-05-06</td>\n",
       "      <td>working_day</td>\n",
       "      <td>2</td>\n",
       "      <td>0</td>\n",
       "      <td>weekend</td>\n",
       "    </tr>\n",
       "    <tr>\n",
       "      <th>20</th>\n",
       "      <td>2020-05-07</td>\n",
       "      <td>working_day</td>\n",
       "      <td>14</td>\n",
       "      <td>38</td>\n",
       "      <td>working_day</td>\n",
       "    </tr>\n",
       "    <tr>\n",
       "      <th>21</th>\n",
       "      <td>2020-05-08</td>\n",
       "      <td>working_day</td>\n",
       "      <td>3</td>\n",
       "      <td>84</td>\n",
       "      <td>working_day</td>\n",
       "    </tr>\n",
       "    <tr>\n",
       "      <th>22</th>\n",
       "      <td>2020-05-09</td>\n",
       "      <td>weekend</td>\n",
       "      <td>0</td>\n",
       "      <td>86</td>\n",
       "      <td>working_day</td>\n",
       "    </tr>\n",
       "    <tr>\n",
       "      <th>23</th>\n",
       "      <td>2020-05-10</td>\n",
       "      <td>weekend</td>\n",
       "      <td>10</td>\n",
       "      <td>133</td>\n",
       "      <td>working_day</td>\n",
       "    </tr>\n",
       "    <tr>\n",
       "      <th>24</th>\n",
       "      <td>2020-05-11</td>\n",
       "      <td>working_day</td>\n",
       "      <td>3</td>\n",
       "      <td>183</td>\n",
       "      <td>working_day</td>\n",
       "    </tr>\n",
       "    <tr>\n",
       "      <th>25</th>\n",
       "      <td>2020-05-12</td>\n",
       "      <td>working_day</td>\n",
       "      <td>56</td>\n",
       "      <td>267</td>\n",
       "      <td>working_day</td>\n",
       "    </tr>\n",
       "    <tr>\n",
       "      <th>26</th>\n",
       "      <td>2020-05-13</td>\n",
       "      <td>working_day</td>\n",
       "      <td>6</td>\n",
       "      <td>205</td>\n",
       "      <td>working_day</td>\n",
       "    </tr>\n",
       "    <tr>\n",
       "      <th>27</th>\n",
       "      <td>2020-05-14</td>\n",
       "      <td>working_day</td>\n",
       "      <td>66</td>\n",
       "      <td>509</td>\n",
       "      <td>working_day</td>\n",
       "    </tr>\n",
       "    <tr>\n",
       "      <th>28</th>\n",
       "      <td>2020-05-15</td>\n",
       "      <td>working_day</td>\n",
       "      <td>10</td>\n",
       "      <td>0</td>\n",
       "      <td>weekend</td>\n",
       "    </tr>\n",
       "    <tr>\n",
       "      <th>29</th>\n",
       "      <td>2020-05-16</td>\n",
       "      <td>weekend</td>\n",
       "      <td>0</td>\n",
       "      <td>4</td>\n",
       "      <td>working_day</td>\n",
       "    </tr>\n",
       "    <tr>\n",
       "      <th>30</th>\n",
       "      <td>2020-05-17</td>\n",
       "      <td>weekend</td>\n",
       "      <td>2</td>\n",
       "      <td>46</td>\n",
       "      <td>working_day</td>\n",
       "    </tr>\n",
       "    <tr>\n",
       "      <th>31</th>\n",
       "      <td>2020-05-18</td>\n",
       "      <td>working_day</td>\n",
       "      <td>0</td>\n",
       "      <td>3</td>\n",
       "      <td>working_day</td>\n",
       "    </tr>\n",
       "    <tr>\n",
       "      <th>32</th>\n",
       "      <td>2020-05-19</td>\n",
       "      <td>working_day</td>\n",
       "      <td>20</td>\n",
       "      <td>14</td>\n",
       "      <td>working_day</td>\n",
       "    </tr>\n",
       "    <tr>\n",
       "      <th>33</th>\n",
       "      <td>2020-05-20</td>\n",
       "      <td>working_day</td>\n",
       "      <td>7</td>\n",
       "      <td>21</td>\n",
       "      <td>working_day</td>\n",
       "    </tr>\n",
       "    <tr>\n",
       "      <th>34</th>\n",
       "      <td>2020-05-21</td>\n",
       "      <td>working_day</td>\n",
       "      <td>1</td>\n",
       "      <td>48</td>\n",
       "      <td>working_day</td>\n",
       "    </tr>\n",
       "  </tbody>\n",
       "</table>\n",
       "</div>"
      ],
      "text/plain": [
       "          date       target  am   pm      predict\n",
       "0   2020-04-17  working_day  21    2      weekend\n",
       "1   2020-04-18      weekend   1   68  working_day\n",
       "2   2020-04-19      weekend  18   15  working_day\n",
       "3   2020-04-20  working_day   2   23  working_day\n",
       "4   2020-04-21  working_day   0   25  working_day\n",
       "5   2020-04-22  working_day   0   28  working_day\n",
       "6   2020-04-23  working_day  10   33  working_day\n",
       "7   2020-04-24  working_day   2   14  working_day\n",
       "8   2020-04-25      weekend  30   74  working_day\n",
       "9   2020-04-26      weekend  28  233  working_day\n",
       "10  2020-04-27  working_day   4    2  working_day\n",
       "11  2020-04-28  working_day   4    1  working_day\n",
       "12  2020-04-29  working_day   0   17  working_day\n",
       "13  2020-04-30  working_day  13   40  working_day\n",
       "14  2020-05-01  working_day   8   52  working_day\n",
       "15  2020-05-02      weekend  91  151  working_day\n",
       "16  2020-05-03      weekend  47  133  working_day\n",
       "17  2020-05-04  working_day  11   26  working_day\n",
       "18  2020-05-05  working_day  81   58  working_day\n",
       "19  2020-05-06  working_day   2    0      weekend\n",
       "20  2020-05-07  working_day  14   38  working_day\n",
       "21  2020-05-08  working_day   3   84  working_day\n",
       "22  2020-05-09      weekend   0   86  working_day\n",
       "23  2020-05-10      weekend  10  133  working_day\n",
       "24  2020-05-11  working_day   3  183  working_day\n",
       "25  2020-05-12  working_day  56  267  working_day\n",
       "26  2020-05-13  working_day   6  205  working_day\n",
       "27  2020-05-14  working_day  66  509  working_day\n",
       "28  2020-05-15  working_day  10    0      weekend\n",
       "29  2020-05-16      weekend   0    4  working_day\n",
       "30  2020-05-17      weekend   2   46  working_day\n",
       "31  2020-05-18  working_day   0    3  working_day\n",
       "32  2020-05-19  working_day  20   14  working_day\n",
       "33  2020-05-20  working_day   7   21  working_day\n",
       "34  2020-05-21  working_day   1   48  working_day"
      ]
     },
     "execution_count": 47,
     "metadata": {},
     "output_type": "execute_result"
    }
   ],
   "source": [
    "df"
   ]
  },
  {
   "cell_type": "markdown",
   "metadata": {
    "id": "iC6B_Ku-HIkL"
   },
   "source": [
    "**1. Нарисуйте график, где ось икс – это am, а ось игрек – это pm. Каждая точка – это конкретный день. Рабочие дни и выходные должны иметь разные цвета на графике.**\n"
   ]
  },
  {
   "cell_type": "code",
   "execution_count": 48,
   "metadata": {
    "colab": {
     "base_uri": "https://localhost:8080/",
     "height": 296
    },
    "executionInfo": {
     "elapsed": 6,
     "status": "ok",
     "timestamp": 1665226434715,
     "user": {
      "displayName": "Ирина Исайкина",
      "userId": "07624164943752334843"
     },
     "user_tz": -180
    },
    "id": "m8gIITFuHIkL",
    "outputId": "ba7e97bf-3b82-40b1-9d8c-f5abfb6fc6bf"
   },
   "outputs": [
    {
     "data": {
      "text/plain": [
       "<AxesSubplot:xlabel='am', ylabel='pm'>"
      ]
     },
     "execution_count": 48,
     "metadata": {},
     "output_type": "execute_result"
    },
    {
     "data": {
      "image/png": "[encoded data removed]",
      "text/plain": [
       "<Figure size 432x288 with 1 Axes>"
      ]
     },
     "metadata": {
      "needs_background": "light"
     },
     "output_type": "display_data"
    }
   ],
   "source": [
    "sns.scatterplot(data=df, x='am', y='pm', hue='target')"
   ]
  },
  {
   "cell_type": "markdown",
   "metadata": {
    "id": "TLINeoXGIBOK"
   },
   "source": [
    "**2. Добавьте разделяющие границы (decision boundaries) логрегрессии на график.**"
   ]
  },
  {
   "cell_type": "code",
   "execution_count": 49,
   "metadata": {
    "colab": {
     "base_uri": "https://localhost:8080/",
     "height": 164
    },
    "executionInfo": {
     "elapsed": 428,
     "status": "error",
     "timestamp": 1665226435140,
     "user": {
      "displayName": "Ирина Исайкина",
      "userId": "07624164943752334843"
     },
     "user_tz": -180
    },
    "id": "X359ntEtHIkM",
    "outputId": "6a1759fa-d1ad-4cd2-f3b2-d6052d012f71"
   },
   "outputs": [],
   "source": [
    "logreg = LogisticRegression(random_state=21, fit_intercept=False).fit(df[['am', 'pm']], df.target)"
   ]
  },
  {
   "cell_type": "code",
   "execution_count": 50,
   "metadata": {
    "id": "AuUW-velHIkM"
   },
   "outputs": [
    {
     "data": {
      "text/plain": [
       "<AxesSubplot:xlabel='am', ylabel='pm'>"
      ]
     },
     "execution_count": 50,
     "metadata": {},
     "output_type": "execute_result"
    },
    {
     "data": {
      "image/png": "[encoded data removed]",
      "text/plain": [
       "<Figure size 432x288 with 1 Axes>"
      ]
     },
     "metadata": {
      "needs_background": "light"
     },
     "output_type": "display_data"
    }
   ],
   "source": [
    "DecisionBoundaryDisplay.from_estimator(\n",
    "        logreg,\n",
    "        X=df[['am', 'pm']],\n",
    "        response_method=\"predict\",\n",
    "        cmap=\"RdBu\")\n",
    "sns.scatterplot(data=df, x='am', y='pm', hue='target')"
   ]
  },
  {
   "cell_type": "markdown",
   "metadata": {},
   "source": [
    "**3. Нарисуйте точно такой же график, но теперь цвет зависит от значения столбца с прогнозом.**"
   ]
  },
  {
   "cell_type": "code",
   "execution_count": 51,
   "metadata": {},
   "outputs": [
    {
     "data": {
      "text/plain": [
       "<AxesSubplot:xlabel='am', ylabel='pm'>"
      ]
     },
     "execution_count": 51,
     "metadata": {},
     "output_type": "execute_result"
    },
    {
     "data": {
      "image/png": "[encoded data removed]",
      "text/plain": [
       "<Figure size 432x288 with 1 Axes>"
      ]
     },
     "metadata": {
      "needs_background": "light"
     },
     "output_type": "display_data"
    }
   ],
   "source": [
    "DecisionBoundaryDisplay.from_estimator(\n",
    "        logreg,\n",
    "        X=df[['am', 'pm']],\n",
    "        response_method=\"predict\")\n",
    "sns.scatterplot(data=df, x='am', y='pm', hue='predict')"
   ]
  },
  {
   "cell_type": "markdown",
   "metadata": {},
   "source": [
    "\n",
    "Теперь вам должно стать понятно, как работает логистическая регрессия."
   ]
  },
  {
   "cell_type": "markdown",
   "metadata": {
    "id": "Fh_c3SZ_HIkN"
   },
   "source": [
    "## 2. Стандартизация и логрегрессия"
   ]
  },
  {
   "cell_type": "markdown",
   "metadata": {
    "id": "F7DnF_6yHIkN"
   },
   "source": [
    "Линейные модели могут быть чувствительны к шкалам ваших признаков. Чтобы снизить эту чувствительность и повысить вероятность более точного прогноза, как вы уже знаете, лучше шкалы ваших признаков стандартизировать.\n",
    "\n",
    "**1. Примените `StandardScaler` к признакам и заново обучите логистическую регрессию, используя те же самые параметры.**"
   ]
  },
  {
   "cell_type": "markdown",
   "metadata": {},
   "source": [
    "[sklearn.preprocessing.StandardScaler](https://scikit-learn.org/stable/modules/generated/sklearn.preprocessing.StandardScaler.html)"
   ]
  },
  {
   "cell_type": "code",
   "execution_count": 52,
   "metadata": {},
   "outputs": [],
   "source": [
    "from sklearn.preprocessing import StandardScaler"
   ]
  },
  {
   "cell_type": "code",
   "execution_count": 53,
   "metadata": {
    "id": "_qyJvdoIHIkN"
   },
   "outputs": [
    {
     "data": {
      "text/html": [
       "<div>\n",
       "<style scoped>\n",
       "    .dataframe tbody tr th:only-of-type {\n",
       "        vertical-align: middle;\n",
       "    }\n",
       "\n",
       "    .dataframe tbody tr th {\n",
       "        vertical-align: top;\n",
       "    }\n",
       "\n",
       "    .dataframe thead th {\n",
       "        text-align: right;\n",
       "    }\n",
       "</style>\n",
       "<table border=\"1\" class=\"dataframe\">\n",
       "  <thead>\n",
       "    <tr style=\"text-align: right;\">\n",
       "      <th></th>\n",
       "      <th>date</th>\n",
       "      <th>target</th>\n",
       "      <th>am</th>\n",
       "      <th>pm</th>\n",
       "      <th>predict</th>\n",
       "    </tr>\n",
       "  </thead>\n",
       "  <tbody>\n",
       "    <tr>\n",
       "      <th>0</th>\n",
       "      <td>2020-04-17</td>\n",
       "      <td>working_day</td>\n",
       "      <td>0.200690</td>\n",
       "      <td>-0.719904</td>\n",
       "      <td>weekend</td>\n",
       "    </tr>\n",
       "    <tr>\n",
       "      <th>1</th>\n",
       "      <td>2020-04-18</td>\n",
       "      <td>weekend</td>\n",
       "      <td>-0.655914</td>\n",
       "      <td>-0.071822</td>\n",
       "      <td>working_day</td>\n",
       "    </tr>\n",
       "    <tr>\n",
       "      <th>2</th>\n",
       "      <td>2020-04-19</td>\n",
       "      <td>weekend</td>\n",
       "      <td>0.072199</td>\n",
       "      <td>-0.592251</td>\n",
       "      <td>working_day</td>\n",
       "    </tr>\n",
       "    <tr>\n",
       "      <th>3</th>\n",
       "      <td>2020-04-20</td>\n",
       "      <td>working_day</td>\n",
       "      <td>-0.613084</td>\n",
       "      <td>-0.513696</td>\n",
       "      <td>working_day</td>\n",
       "    </tr>\n",
       "    <tr>\n",
       "      <th>4</th>\n",
       "      <td>2020-04-21</td>\n",
       "      <td>working_day</td>\n",
       "      <td>-0.698744</td>\n",
       "      <td>-0.494057</td>\n",
       "      <td>working_day</td>\n",
       "    </tr>\n",
       "    <tr>\n",
       "      <th>5</th>\n",
       "      <td>2020-04-22</td>\n",
       "      <td>working_day</td>\n",
       "      <td>-0.698744</td>\n",
       "      <td>-0.464599</td>\n",
       "      <td>working_day</td>\n",
       "    </tr>\n",
       "    <tr>\n",
       "      <th>6</th>\n",
       "      <td>2020-04-23</td>\n",
       "      <td>working_day</td>\n",
       "      <td>-0.270442</td>\n",
       "      <td>-0.415502</td>\n",
       "      <td>working_day</td>\n",
       "    </tr>\n",
       "    <tr>\n",
       "      <th>7</th>\n",
       "      <td>2020-04-24</td>\n",
       "      <td>working_day</td>\n",
       "      <td>-0.613084</td>\n",
       "      <td>-0.602071</td>\n",
       "      <td>working_day</td>\n",
       "    </tr>\n",
       "    <tr>\n",
       "      <th>8</th>\n",
       "      <td>2020-04-25</td>\n",
       "      <td>weekend</td>\n",
       "      <td>0.586162</td>\n",
       "      <td>-0.012906</td>\n",
       "      <td>working_day</td>\n",
       "    </tr>\n",
       "    <tr>\n",
       "      <th>9</th>\n",
       "      <td>2020-04-26</td>\n",
       "      <td>weekend</td>\n",
       "      <td>0.500501</td>\n",
       "      <td>1.548382</td>\n",
       "      <td>working_day</td>\n",
       "    </tr>\n",
       "    <tr>\n",
       "      <th>10</th>\n",
       "      <td>2020-04-27</td>\n",
       "      <td>working_day</td>\n",
       "      <td>-0.527423</td>\n",
       "      <td>-0.719904</td>\n",
       "      <td>working_day</td>\n",
       "    </tr>\n",
       "    <tr>\n",
       "      <th>11</th>\n",
       "      <td>2020-04-28</td>\n",
       "      <td>working_day</td>\n",
       "      <td>-0.527423</td>\n",
       "      <td>-0.729723</td>\n",
       "      <td>working_day</td>\n",
       "    </tr>\n",
       "    <tr>\n",
       "      <th>12</th>\n",
       "      <td>2020-04-29</td>\n",
       "      <td>working_day</td>\n",
       "      <td>-0.698744</td>\n",
       "      <td>-0.572612</td>\n",
       "      <td>working_day</td>\n",
       "    </tr>\n",
       "    <tr>\n",
       "      <th>13</th>\n",
       "      <td>2020-04-30</td>\n",
       "      <td>working_day</td>\n",
       "      <td>-0.141951</td>\n",
       "      <td>-0.346766</td>\n",
       "      <td>working_day</td>\n",
       "    </tr>\n",
       "    <tr>\n",
       "      <th>14</th>\n",
       "      <td>2020-05-01</td>\n",
       "      <td>working_day</td>\n",
       "      <td>-0.356102</td>\n",
       "      <td>-0.228933</td>\n",
       "      <td>working_day</td>\n",
       "    </tr>\n",
       "    <tr>\n",
       "      <th>15</th>\n",
       "      <td>2020-05-02</td>\n",
       "      <td>weekend</td>\n",
       "      <td>3.198804</td>\n",
       "      <td>0.743190</td>\n",
       "      <td>working_day</td>\n",
       "    </tr>\n",
       "    <tr>\n",
       "      <th>16</th>\n",
       "      <td>2020-05-03</td>\n",
       "      <td>weekend</td>\n",
       "      <td>1.314275</td>\n",
       "      <td>0.566440</td>\n",
       "      <td>working_day</td>\n",
       "    </tr>\n",
       "    <tr>\n",
       "      <th>17</th>\n",
       "      <td>2020-05-04</td>\n",
       "      <td>working_day</td>\n",
       "      <td>-0.227612</td>\n",
       "      <td>-0.484238</td>\n",
       "      <td>working_day</td>\n",
       "    </tr>\n",
       "    <tr>\n",
       "      <th>18</th>\n",
       "      <td>2020-05-05</td>\n",
       "      <td>working_day</td>\n",
       "      <td>2.770502</td>\n",
       "      <td>-0.170016</td>\n",
       "      <td>working_day</td>\n",
       "    </tr>\n",
       "    <tr>\n",
       "      <th>19</th>\n",
       "      <td>2020-05-06</td>\n",
       "      <td>working_day</td>\n",
       "      <td>-0.613084</td>\n",
       "      <td>-0.739542</td>\n",
       "      <td>weekend</td>\n",
       "    </tr>\n",
       "    <tr>\n",
       "      <th>20</th>\n",
       "      <td>2020-05-07</td>\n",
       "      <td>working_day</td>\n",
       "      <td>-0.099121</td>\n",
       "      <td>-0.366405</td>\n",
       "      <td>working_day</td>\n",
       "    </tr>\n",
       "    <tr>\n",
       "      <th>21</th>\n",
       "      <td>2020-05-08</td>\n",
       "      <td>working_day</td>\n",
       "      <td>-0.570253</td>\n",
       "      <td>0.085289</td>\n",
       "      <td>working_day</td>\n",
       "    </tr>\n",
       "    <tr>\n",
       "      <th>22</th>\n",
       "      <td>2020-05-09</td>\n",
       "      <td>weekend</td>\n",
       "      <td>-0.698744</td>\n",
       "      <td>0.104928</td>\n",
       "      <td>working_day</td>\n",
       "    </tr>\n",
       "    <tr>\n",
       "      <th>23</th>\n",
       "      <td>2020-05-10</td>\n",
       "      <td>weekend</td>\n",
       "      <td>-0.270442</td>\n",
       "      <td>0.566440</td>\n",
       "      <td>working_day</td>\n",
       "    </tr>\n",
       "    <tr>\n",
       "      <th>24</th>\n",
       "      <td>2020-05-11</td>\n",
       "      <td>working_day</td>\n",
       "      <td>-0.570253</td>\n",
       "      <td>1.057411</td>\n",
       "      <td>working_day</td>\n",
       "    </tr>\n",
       "    <tr>\n",
       "      <th>25</th>\n",
       "      <td>2020-05-12</td>\n",
       "      <td>working_day</td>\n",
       "      <td>1.699747</td>\n",
       "      <td>1.882242</td>\n",
       "      <td>working_day</td>\n",
       "    </tr>\n",
       "    <tr>\n",
       "      <th>26</th>\n",
       "      <td>2020-05-13</td>\n",
       "      <td>working_day</td>\n",
       "      <td>-0.441763</td>\n",
       "      <td>1.273438</td>\n",
       "      <td>working_day</td>\n",
       "    </tr>\n",
       "    <tr>\n",
       "      <th>27</th>\n",
       "      <td>2020-05-14</td>\n",
       "      <td>working_day</td>\n",
       "      <td>2.128049</td>\n",
       "      <td>4.258542</td>\n",
       "      <td>working_day</td>\n",
       "    </tr>\n",
       "    <tr>\n",
       "      <th>28</th>\n",
       "      <td>2020-05-15</td>\n",
       "      <td>working_day</td>\n",
       "      <td>-0.270442</td>\n",
       "      <td>-0.739542</td>\n",
       "      <td>weekend</td>\n",
       "    </tr>\n",
       "    <tr>\n",
       "      <th>29</th>\n",
       "      <td>2020-05-16</td>\n",
       "      <td>weekend</td>\n",
       "      <td>-0.698744</td>\n",
       "      <td>-0.700265</td>\n",
       "      <td>working_day</td>\n",
       "    </tr>\n",
       "    <tr>\n",
       "      <th>30</th>\n",
       "      <td>2020-05-17</td>\n",
       "      <td>weekend</td>\n",
       "      <td>-0.613084</td>\n",
       "      <td>-0.287849</td>\n",
       "      <td>working_day</td>\n",
       "    </tr>\n",
       "    <tr>\n",
       "      <th>31</th>\n",
       "      <td>2020-05-18</td>\n",
       "      <td>working_day</td>\n",
       "      <td>-0.698744</td>\n",
       "      <td>-0.710084</td>\n",
       "      <td>working_day</td>\n",
       "    </tr>\n",
       "    <tr>\n",
       "      <th>32</th>\n",
       "      <td>2020-05-19</td>\n",
       "      <td>working_day</td>\n",
       "      <td>0.157860</td>\n",
       "      <td>-0.602071</td>\n",
       "      <td>working_day</td>\n",
       "    </tr>\n",
       "    <tr>\n",
       "      <th>33</th>\n",
       "      <td>2020-05-20</td>\n",
       "      <td>working_day</td>\n",
       "      <td>-0.398933</td>\n",
       "      <td>-0.533335</td>\n",
       "      <td>working_day</td>\n",
       "    </tr>\n",
       "    <tr>\n",
       "      <th>34</th>\n",
       "      <td>2020-05-21</td>\n",
       "      <td>working_day</td>\n",
       "      <td>-0.655914</td>\n",
       "      <td>-0.268210</td>\n",
       "      <td>working_day</td>\n",
       "    </tr>\n",
       "  </tbody>\n",
       "</table>\n",
       "</div>"
      ],
      "text/plain": [
       "          date       target        am        pm      predict\n",
       "0   2020-04-17  working_day  0.200690 -0.719904      weekend\n",
       "1   2020-04-18      weekend -0.655914 -0.071822  working_day\n",
       "2   2020-04-19      weekend  0.072199 -0.592251  working_day\n",
       "3   2020-04-20  working_day -0.613084 -0.513696  working_day\n",
       "4   2020-04-21  working_day -0.698744 -0.494057  working_day\n",
       "5   2020-04-22  working_day -0.698744 -0.464599  working_day\n",
       "6   2020-04-23  working_day -0.270442 -0.415502  working_day\n",
       "7   2020-04-24  working_day -0.613084 -0.602071  working_day\n",
       "8   2020-04-25      weekend  0.586162 -0.012906  working_day\n",
       "9   2020-04-26      weekend  0.500501  1.548382  working_day\n",
       "10  2020-04-27  working_day -0.527423 -0.719904  working_day\n",
       "11  2020-04-28  working_day -0.527423 -0.729723  working_day\n",
       "12  2020-04-29  working_day -0.698744 -0.572612  working_day\n",
       "13  2020-04-30  working_day -0.141951 -0.346766  working_day\n",
       "14  2020-05-01  working_day -0.356102 -0.228933  working_day\n",
       "15  2020-05-02      weekend  3.198804  0.743190  working_day\n",
       "16  2020-05-03      weekend  1.314275  0.566440  working_day\n",
       "17  2020-05-04  working_day -0.227612 -0.484238  working_day\n",
       "18  2020-05-05  working_day  2.770502 -0.170016  working_day\n",
       "19  2020-05-06  working_day -0.613084 -0.739542      weekend\n",
       "20  2020-05-07  working_day -0.099121 -0.366405  working_day\n",
       "21  2020-05-08  working_day -0.570253  0.085289  working_day\n",
       "22  2020-05-09      weekend -0.698744  0.104928  working_day\n",
       "23  2020-05-10      weekend -0.270442  0.566440  working_day\n",
       "24  2020-05-11  working_day -0.570253  1.057411  working_day\n",
       "25  2020-05-12  working_day  1.699747  1.882242  working_day\n",
       "26  2020-05-13  working_day -0.441763  1.273438  working_day\n",
       "27  2020-05-14  working_day  2.128049  4.258542  working_day\n",
       "28  2020-05-15  working_day -0.270442 -0.739542      weekend\n",
       "29  2020-05-16      weekend -0.698744 -0.700265  working_day\n",
       "30  2020-05-17      weekend -0.613084 -0.287849  working_day\n",
       "31  2020-05-18  working_day -0.698744 -0.710084  working_day\n",
       "32  2020-05-19  working_day  0.157860 -0.602071  working_day\n",
       "33  2020-05-20  working_day -0.398933 -0.533335  working_day\n",
       "34  2020-05-21  working_day -0.655914 -0.268210  working_day"
      ]
     },
     "execution_count": 53,
     "metadata": {},
     "output_type": "execute_result"
    }
   ],
   "source": [
    "df[['am', 'pm']] = StandardScaler().fit_transform(df[['am', 'pm']])\n",
    "df"
   ]
  },
  {
   "cell_type": "code",
   "execution_count": 54,
   "metadata": {},
   "outputs": [],
   "source": [
    "logreg_scaler = LogisticRegression(random_state=21, fit_intercept=False).fit(df[['am', 'pm']], df.target)"
   ]
  },
  {
   "cell_type": "code",
   "execution_count": 55,
   "metadata": {},
   "outputs": [
    {
     "data": {
      "text/html": [
       "<div>\n",
       "<style scoped>\n",
       "    .dataframe tbody tr th:only-of-type {\n",
       "        vertical-align: middle;\n",
       "    }\n",
       "\n",
       "    .dataframe tbody tr th {\n",
       "        vertical-align: top;\n",
       "    }\n",
       "\n",
       "    .dataframe thead th {\n",
       "        text-align: right;\n",
       "    }\n",
       "</style>\n",
       "<table border=\"1\" class=\"dataframe\">\n",
       "  <thead>\n",
       "    <tr style=\"text-align: right;\">\n",
       "      <th></th>\n",
       "      <th>date</th>\n",
       "      <th>target</th>\n",
       "      <th>am</th>\n",
       "      <th>pm</th>\n",
       "      <th>predict</th>\n",
       "    </tr>\n",
       "  </thead>\n",
       "  <tbody>\n",
       "    <tr>\n",
       "      <th>0</th>\n",
       "      <td>2020-04-17</td>\n",
       "      <td>working_day</td>\n",
       "      <td>0.200690</td>\n",
       "      <td>-0.719904</td>\n",
       "      <td>working_day</td>\n",
       "    </tr>\n",
       "    <tr>\n",
       "      <th>1</th>\n",
       "      <td>2020-04-18</td>\n",
       "      <td>weekend</td>\n",
       "      <td>-0.655914</td>\n",
       "      <td>-0.071822</td>\n",
       "      <td>working_day</td>\n",
       "    </tr>\n",
       "    <tr>\n",
       "      <th>2</th>\n",
       "      <td>2020-04-19</td>\n",
       "      <td>weekend</td>\n",
       "      <td>0.072199</td>\n",
       "      <td>-0.592251</td>\n",
       "      <td>working_day</td>\n",
       "    </tr>\n",
       "    <tr>\n",
       "      <th>3</th>\n",
       "      <td>2020-04-20</td>\n",
       "      <td>working_day</td>\n",
       "      <td>-0.613084</td>\n",
       "      <td>-0.513696</td>\n",
       "      <td>working_day</td>\n",
       "    </tr>\n",
       "    <tr>\n",
       "      <th>4</th>\n",
       "      <td>2020-04-21</td>\n",
       "      <td>working_day</td>\n",
       "      <td>-0.698744</td>\n",
       "      <td>-0.494057</td>\n",
       "      <td>working_day</td>\n",
       "    </tr>\n",
       "    <tr>\n",
       "      <th>5</th>\n",
       "      <td>2020-04-22</td>\n",
       "      <td>working_day</td>\n",
       "      <td>-0.698744</td>\n",
       "      <td>-0.464599</td>\n",
       "      <td>working_day</td>\n",
       "    </tr>\n",
       "    <tr>\n",
       "      <th>6</th>\n",
       "      <td>2020-04-23</td>\n",
       "      <td>working_day</td>\n",
       "      <td>-0.270442</td>\n",
       "      <td>-0.415502</td>\n",
       "      <td>working_day</td>\n",
       "    </tr>\n",
       "    <tr>\n",
       "      <th>7</th>\n",
       "      <td>2020-04-24</td>\n",
       "      <td>working_day</td>\n",
       "      <td>-0.613084</td>\n",
       "      <td>-0.602071</td>\n",
       "      <td>working_day</td>\n",
       "    </tr>\n",
       "    <tr>\n",
       "      <th>8</th>\n",
       "      <td>2020-04-25</td>\n",
       "      <td>weekend</td>\n",
       "      <td>0.586162</td>\n",
       "      <td>-0.012906</td>\n",
       "      <td>weekend</td>\n",
       "    </tr>\n",
       "    <tr>\n",
       "      <th>9</th>\n",
       "      <td>2020-04-26</td>\n",
       "      <td>weekend</td>\n",
       "      <td>0.500501</td>\n",
       "      <td>1.548382</td>\n",
       "      <td>weekend</td>\n",
       "    </tr>\n",
       "    <tr>\n",
       "      <th>10</th>\n",
       "      <td>2020-04-27</td>\n",
       "      <td>working_day</td>\n",
       "      <td>-0.527423</td>\n",
       "      <td>-0.719904</td>\n",
       "      <td>working_day</td>\n",
       "    </tr>\n",
       "    <tr>\n",
       "      <th>11</th>\n",
       "      <td>2020-04-28</td>\n",
       "      <td>working_day</td>\n",
       "      <td>-0.527423</td>\n",
       "      <td>-0.729723</td>\n",
       "      <td>working_day</td>\n",
       "    </tr>\n",
       "    <tr>\n",
       "      <th>12</th>\n",
       "      <td>2020-04-29</td>\n",
       "      <td>working_day</td>\n",
       "      <td>-0.698744</td>\n",
       "      <td>-0.572612</td>\n",
       "      <td>working_day</td>\n",
       "    </tr>\n",
       "    <tr>\n",
       "      <th>13</th>\n",
       "      <td>2020-04-30</td>\n",
       "      <td>working_day</td>\n",
       "      <td>-0.141951</td>\n",
       "      <td>-0.346766</td>\n",
       "      <td>working_day</td>\n",
       "    </tr>\n",
       "    <tr>\n",
       "      <th>14</th>\n",
       "      <td>2020-05-01</td>\n",
       "      <td>working_day</td>\n",
       "      <td>-0.356102</td>\n",
       "      <td>-0.228933</td>\n",
       "      <td>working_day</td>\n",
       "    </tr>\n",
       "    <tr>\n",
       "      <th>15</th>\n",
       "      <td>2020-05-02</td>\n",
       "      <td>weekend</td>\n",
       "      <td>3.198804</td>\n",
       "      <td>0.743190</td>\n",
       "      <td>weekend</td>\n",
       "    </tr>\n",
       "    <tr>\n",
       "      <th>16</th>\n",
       "      <td>2020-05-03</td>\n",
       "      <td>weekend</td>\n",
       "      <td>1.314275</td>\n",
       "      <td>0.566440</td>\n",
       "      <td>weekend</td>\n",
       "    </tr>\n",
       "    <tr>\n",
       "      <th>17</th>\n",
       "      <td>2020-05-04</td>\n",
       "      <td>working_day</td>\n",
       "      <td>-0.227612</td>\n",
       "      <td>-0.484238</td>\n",
       "      <td>working_day</td>\n",
       "    </tr>\n",
       "    <tr>\n",
       "      <th>18</th>\n",
       "      <td>2020-05-05</td>\n",
       "      <td>working_day</td>\n",
       "      <td>2.770502</td>\n",
       "      <td>-0.170016</td>\n",
       "      <td>weekend</td>\n",
       "    </tr>\n",
       "    <tr>\n",
       "      <th>19</th>\n",
       "      <td>2020-05-06</td>\n",
       "      <td>working_day</td>\n",
       "      <td>-0.613084</td>\n",
       "      <td>-0.739542</td>\n",
       "      <td>working_day</td>\n",
       "    </tr>\n",
       "    <tr>\n",
       "      <th>20</th>\n",
       "      <td>2020-05-07</td>\n",
       "      <td>working_day</td>\n",
       "      <td>-0.099121</td>\n",
       "      <td>-0.366405</td>\n",
       "      <td>working_day</td>\n",
       "    </tr>\n",
       "    <tr>\n",
       "      <th>21</th>\n",
       "      <td>2020-05-08</td>\n",
       "      <td>working_day</td>\n",
       "      <td>-0.570253</td>\n",
       "      <td>0.085289</td>\n",
       "      <td>working_day</td>\n",
       "    </tr>\n",
       "    <tr>\n",
       "      <th>22</th>\n",
       "      <td>2020-05-09</td>\n",
       "      <td>weekend</td>\n",
       "      <td>-0.698744</td>\n",
       "      <td>0.104928</td>\n",
       "      <td>working_day</td>\n",
       "    </tr>\n",
       "    <tr>\n",
       "      <th>23</th>\n",
       "      <td>2020-05-10</td>\n",
       "      <td>weekend</td>\n",
       "      <td>-0.270442</td>\n",
       "      <td>0.566440</td>\n",
       "      <td>working_day</td>\n",
       "    </tr>\n",
       "    <tr>\n",
       "      <th>24</th>\n",
       "      <td>2020-05-11</td>\n",
       "      <td>working_day</td>\n",
       "      <td>-0.570253</td>\n",
       "      <td>1.057411</td>\n",
       "      <td>working_day</td>\n",
       "    </tr>\n",
       "    <tr>\n",
       "      <th>25</th>\n",
       "      <td>2020-05-12</td>\n",
       "      <td>working_day</td>\n",
       "      <td>1.699747</td>\n",
       "      <td>1.882242</td>\n",
       "      <td>weekend</td>\n",
       "    </tr>\n",
       "    <tr>\n",
       "      <th>26</th>\n",
       "      <td>2020-05-13</td>\n",
       "      <td>working_day</td>\n",
       "      <td>-0.441763</td>\n",
       "      <td>1.273438</td>\n",
       "      <td>working_day</td>\n",
       "    </tr>\n",
       "    <tr>\n",
       "      <th>27</th>\n",
       "      <td>2020-05-14</td>\n",
       "      <td>working_day</td>\n",
       "      <td>2.128049</td>\n",
       "      <td>4.258542</td>\n",
       "      <td>weekend</td>\n",
       "    </tr>\n",
       "    <tr>\n",
       "      <th>28</th>\n",
       "      <td>2020-05-15</td>\n",
       "      <td>working_day</td>\n",
       "      <td>-0.270442</td>\n",
       "      <td>-0.739542</td>\n",
       "      <td>working_day</td>\n",
       "    </tr>\n",
       "    <tr>\n",
       "      <th>29</th>\n",
       "      <td>2020-05-16</td>\n",
       "      <td>weekend</td>\n",
       "      <td>-0.698744</td>\n",
       "      <td>-0.700265</td>\n",
       "      <td>working_day</td>\n",
       "    </tr>\n",
       "    <tr>\n",
       "      <th>30</th>\n",
       "      <td>2020-05-17</td>\n",
       "      <td>weekend</td>\n",
       "      <td>-0.613084</td>\n",
       "      <td>-0.287849</td>\n",
       "      <td>working_day</td>\n",
       "    </tr>\n",
       "    <tr>\n",
       "      <th>31</th>\n",
       "      <td>2020-05-18</td>\n",
       "      <td>working_day</td>\n",
       "      <td>-0.698744</td>\n",
       "      <td>-0.710084</td>\n",
       "      <td>working_day</td>\n",
       "    </tr>\n",
       "    <tr>\n",
       "      <th>32</th>\n",
       "      <td>2020-05-19</td>\n",
       "      <td>working_day</td>\n",
       "      <td>0.157860</td>\n",
       "      <td>-0.602071</td>\n",
       "      <td>working_day</td>\n",
       "    </tr>\n",
       "    <tr>\n",
       "      <th>33</th>\n",
       "      <td>2020-05-20</td>\n",
       "      <td>working_day</td>\n",
       "      <td>-0.398933</td>\n",
       "      <td>-0.533335</td>\n",
       "      <td>working_day</td>\n",
       "    </tr>\n",
       "    <tr>\n",
       "      <th>34</th>\n",
       "      <td>2020-05-21</td>\n",
       "      <td>working_day</td>\n",
       "      <td>-0.655914</td>\n",
       "      <td>-0.268210</td>\n",
       "      <td>working_day</td>\n",
       "    </tr>\n",
       "  </tbody>\n",
       "</table>\n",
       "</div>"
      ],
      "text/plain": [
       "          date       target        am        pm      predict\n",
       "0   2020-04-17  working_day  0.200690 -0.719904  working_day\n",
       "1   2020-04-18      weekend -0.655914 -0.071822  working_day\n",
       "2   2020-04-19      weekend  0.072199 -0.592251  working_day\n",
       "3   2020-04-20  working_day -0.613084 -0.513696  working_day\n",
       "4   2020-04-21  working_day -0.698744 -0.494057  working_day\n",
       "5   2020-04-22  working_day -0.698744 -0.464599  working_day\n",
       "6   2020-04-23  working_day -0.270442 -0.415502  working_day\n",
       "7   2020-04-24  working_day -0.613084 -0.602071  working_day\n",
       "8   2020-04-25      weekend  0.586162 -0.012906      weekend\n",
       "9   2020-04-26      weekend  0.500501  1.548382      weekend\n",
       "10  2020-04-27  working_day -0.527423 -0.719904  working_day\n",
       "11  2020-04-28  working_day -0.527423 -0.729723  working_day\n",
       "12  2020-04-29  working_day -0.698744 -0.572612  working_day\n",
       "13  2020-04-30  working_day -0.141951 -0.346766  working_day\n",
       "14  2020-05-01  working_day -0.356102 -0.228933  working_day\n",
       "15  2020-05-02      weekend  3.198804  0.743190      weekend\n",
       "16  2020-05-03      weekend  1.314275  0.566440      weekend\n",
       "17  2020-05-04  working_day -0.227612 -0.484238  working_day\n",
       "18  2020-05-05  working_day  2.770502 -0.170016      weekend\n",
       "19  2020-05-06  working_day -0.613084 -0.739542  working_day\n",
       "20  2020-05-07  working_day -0.099121 -0.366405  working_day\n",
       "21  2020-05-08  working_day -0.570253  0.085289  working_day\n",
       "22  2020-05-09      weekend -0.698744  0.104928  working_day\n",
       "23  2020-05-10      weekend -0.270442  0.566440  working_day\n",
       "24  2020-05-11  working_day -0.570253  1.057411  working_day\n",
       "25  2020-05-12  working_day  1.699747  1.882242      weekend\n",
       "26  2020-05-13  working_day -0.441763  1.273438  working_day\n",
       "27  2020-05-14  working_day  2.128049  4.258542      weekend\n",
       "28  2020-05-15  working_day -0.270442 -0.739542  working_day\n",
       "29  2020-05-16      weekend -0.698744 -0.700265  working_day\n",
       "30  2020-05-17      weekend -0.613084 -0.287849  working_day\n",
       "31  2020-05-18  working_day -0.698744 -0.710084  working_day\n",
       "32  2020-05-19  working_day  0.157860 -0.602071  working_day\n",
       "33  2020-05-20  working_day -0.398933 -0.533335  working_day\n",
       "34  2020-05-21  working_day -0.655914 -0.268210  working_day"
      ]
     },
     "execution_count": 55,
     "metadata": {},
     "output_type": "execute_result"
    }
   ],
   "source": [
    "df['predict'] = logreg_scaler.predict(df[['am', 'pm']])\n",
    "df"
   ]
  },
  {
   "cell_type": "markdown",
   "metadata": {},
   "source": [
    "**2. Посчитайте `accuracy` для новой модели. Теперь модель стала лучше наивного прогноза с самым популярным классом в качестве значения?**"
   ]
  },
  {
   "cell_type": "code",
   "execution_count": 56,
   "metadata": {
    "id": "HjjEVC2JHIkO"
   },
   "outputs": [],
   "source": [
    "from sklearn.metrics import accuracy_score"
   ]
  },
  {
   "cell_type": "code",
   "execution_count": 57,
   "metadata": {
    "id": "TuNnceRvHIkO"
   },
   "outputs": [
    {
     "data": {
      "text/plain": [
       "0.7428571428571429"
      ]
     },
     "execution_count": 57,
     "metadata": {},
     "output_type": "execute_result"
    }
   ],
   "source": [
    "accuracy_score(df.target, df.predict)"
   ]
  },
  {
   "cell_type": "markdown",
   "metadata": {},
   "source": [
    "**3. Нарисуйте снова графики, как выше, но только для новой модели.**"
   ]
  },
  {
   "cell_type": "code",
   "execution_count": 58,
   "metadata": {
    "id": "L0YPqt29HIkO"
   },
   "outputs": [
    {
     "data": {
      "text/plain": [
       "<AxesSubplot:xlabel='am', ylabel='pm'>"
      ]
     },
     "execution_count": 58,
     "metadata": {},
     "output_type": "execute_result"
    },
    {
     "data": {
      "image/png": "[encoded data removed]",
      "text/plain": [
       "<Figure size 432x288 with 1 Axes>"
      ]
     },
     "metadata": {
      "needs_background": "light"
     },
     "output_type": "display_data"
    }
   ],
   "source": [
    "DecisionBoundaryDisplay.from_estimator(\n",
    "        logreg_scaler,\n",
    "        X=df[['am', 'pm']],\n",
    "        response_method=\"predict\",\n",
    "        cmap=\"RdBu\")\n",
    "sns.scatterplot(data=df, x='am', y='pm', hue='target')"
   ]
  },
  {
   "cell_type": "code",
   "execution_count": 59,
   "metadata": {
    "id": "CFrgq2j1HIkO"
   },
   "outputs": [
    {
     "data": {
      "text/plain": [
       "<AxesSubplot:xlabel='am', ylabel='pm'>"
      ]
     },
     "execution_count": 59,
     "metadata": {},
     "output_type": "execute_result"
    },
    {
     "data": {
      "image/png": "[encoded data removed]",
      "text/plain": [
       "<Figure size 432x288 with 1 Axes>"
      ]
     },
     "metadata": {
      "needs_background": "light"
     },
     "output_type": "display_data"
    }
   ],
   "source": [
    "DecisionBoundaryDisplay.from_estimator(\n",
    "        logreg_scaler,\n",
    "        X=df[['am', 'pm']],\n",
    "        response_method=\"predict\")\n",
    "sns.scatterplot(data=df, x='am', y='pm', hue='predict')"
   ]
  },
  {
   "cell_type": "markdown",
   "metadata": {
    "id": "ZGrmh18NHIkP"
   },
   "source": [
    "## 3. SVM"
   ]
  },
  {
   "cell_type": "code",
   "execution_count": 60,
   "metadata": {},
   "outputs": [],
   "source": [
    " from sklearn.svm import SVC"
   ]
  },
  {
   "cell_type": "markdown",
   "metadata": {
    "id": "21zM-ugYHIkP"
   },
   "source": [
    "**1. Обучите модель `SVC`, используя стандартизированные признаки, и принимая во внимание параметры `probability=True`, `random_state=21`.**"
   ]
  },
  {
   "cell_type": "code",
   "execution_count": 61,
   "metadata": {
    "id": "dNdLjRSdHIkQ"
   },
   "outputs": [],
   "source": [
    "svc = SVC(probability=True, random_state=21).fit(df[['am', 'pm']], df.target)"
   ]
  },
  {
   "cell_type": "code",
   "execution_count": 62,
   "metadata": {},
   "outputs": [
    {
     "data": {
      "text/html": [
       "<div>\n",
       "<style scoped>\n",
       "    .dataframe tbody tr th:only-of-type {\n",
       "        vertical-align: middle;\n",
       "    }\n",
       "\n",
       "    .dataframe tbody tr th {\n",
       "        vertical-align: top;\n",
       "    }\n",
       "\n",
       "    .dataframe thead th {\n",
       "        text-align: right;\n",
       "    }\n",
       "</style>\n",
       "<table border=\"1\" class=\"dataframe\">\n",
       "  <thead>\n",
       "    <tr style=\"text-align: right;\">\n",
       "      <th></th>\n",
       "      <th>date</th>\n",
       "      <th>target</th>\n",
       "      <th>am</th>\n",
       "      <th>pm</th>\n",
       "      <th>predict</th>\n",
       "    </tr>\n",
       "  </thead>\n",
       "  <tbody>\n",
       "    <tr>\n",
       "      <th>0</th>\n",
       "      <td>2020-04-17</td>\n",
       "      <td>working_day</td>\n",
       "      <td>0.200690</td>\n",
       "      <td>-0.719904</td>\n",
       "      <td>working_day</td>\n",
       "    </tr>\n",
       "    <tr>\n",
       "      <th>1</th>\n",
       "      <td>2020-04-18</td>\n",
       "      <td>weekend</td>\n",
       "      <td>-0.655914</td>\n",
       "      <td>-0.071822</td>\n",
       "      <td>working_day</td>\n",
       "    </tr>\n",
       "    <tr>\n",
       "      <th>2</th>\n",
       "      <td>2020-04-19</td>\n",
       "      <td>weekend</td>\n",
       "      <td>0.072199</td>\n",
       "      <td>-0.592251</td>\n",
       "      <td>working_day</td>\n",
       "    </tr>\n",
       "    <tr>\n",
       "      <th>3</th>\n",
       "      <td>2020-04-20</td>\n",
       "      <td>working_day</td>\n",
       "      <td>-0.613084</td>\n",
       "      <td>-0.513696</td>\n",
       "      <td>working_day</td>\n",
       "    </tr>\n",
       "    <tr>\n",
       "      <th>4</th>\n",
       "      <td>2020-04-21</td>\n",
       "      <td>working_day</td>\n",
       "      <td>-0.698744</td>\n",
       "      <td>-0.494057</td>\n",
       "      <td>working_day</td>\n",
       "    </tr>\n",
       "    <tr>\n",
       "      <th>5</th>\n",
       "      <td>2020-04-22</td>\n",
       "      <td>working_day</td>\n",
       "      <td>-0.698744</td>\n",
       "      <td>-0.464599</td>\n",
       "      <td>working_day</td>\n",
       "    </tr>\n",
       "    <tr>\n",
       "      <th>6</th>\n",
       "      <td>2020-04-23</td>\n",
       "      <td>working_day</td>\n",
       "      <td>-0.270442</td>\n",
       "      <td>-0.415502</td>\n",
       "      <td>working_day</td>\n",
       "    </tr>\n",
       "    <tr>\n",
       "      <th>7</th>\n",
       "      <td>2020-04-24</td>\n",
       "      <td>working_day</td>\n",
       "      <td>-0.613084</td>\n",
       "      <td>-0.602071</td>\n",
       "      <td>working_day</td>\n",
       "    </tr>\n",
       "    <tr>\n",
       "      <th>8</th>\n",
       "      <td>2020-04-25</td>\n",
       "      <td>weekend</td>\n",
       "      <td>0.586162</td>\n",
       "      <td>-0.012906</td>\n",
       "      <td>working_day</td>\n",
       "    </tr>\n",
       "    <tr>\n",
       "      <th>9</th>\n",
       "      <td>2020-04-26</td>\n",
       "      <td>weekend</td>\n",
       "      <td>0.500501</td>\n",
       "      <td>1.548382</td>\n",
       "      <td>working_day</td>\n",
       "    </tr>\n",
       "    <tr>\n",
       "      <th>10</th>\n",
       "      <td>2020-04-27</td>\n",
       "      <td>working_day</td>\n",
       "      <td>-0.527423</td>\n",
       "      <td>-0.719904</td>\n",
       "      <td>working_day</td>\n",
       "    </tr>\n",
       "    <tr>\n",
       "      <th>11</th>\n",
       "      <td>2020-04-28</td>\n",
       "      <td>working_day</td>\n",
       "      <td>-0.527423</td>\n",
       "      <td>-0.729723</td>\n",
       "      <td>working_day</td>\n",
       "    </tr>\n",
       "    <tr>\n",
       "      <th>12</th>\n",
       "      <td>2020-04-29</td>\n",
       "      <td>working_day</td>\n",
       "      <td>-0.698744</td>\n",
       "      <td>-0.572612</td>\n",
       "      <td>working_day</td>\n",
       "    </tr>\n",
       "    <tr>\n",
       "      <th>13</th>\n",
       "      <td>2020-04-30</td>\n",
       "      <td>working_day</td>\n",
       "      <td>-0.141951</td>\n",
       "      <td>-0.346766</td>\n",
       "      <td>working_day</td>\n",
       "    </tr>\n",
       "    <tr>\n",
       "      <th>14</th>\n",
       "      <td>2020-05-01</td>\n",
       "      <td>working_day</td>\n",
       "      <td>-0.356102</td>\n",
       "      <td>-0.228933</td>\n",
       "      <td>working_day</td>\n",
       "    </tr>\n",
       "    <tr>\n",
       "      <th>15</th>\n",
       "      <td>2020-05-02</td>\n",
       "      <td>weekend</td>\n",
       "      <td>3.198804</td>\n",
       "      <td>0.743190</td>\n",
       "      <td>working_day</td>\n",
       "    </tr>\n",
       "    <tr>\n",
       "      <th>16</th>\n",
       "      <td>2020-05-03</td>\n",
       "      <td>weekend</td>\n",
       "      <td>1.314275</td>\n",
       "      <td>0.566440</td>\n",
       "      <td>weekend</td>\n",
       "    </tr>\n",
       "    <tr>\n",
       "      <th>17</th>\n",
       "      <td>2020-05-04</td>\n",
       "      <td>working_day</td>\n",
       "      <td>-0.227612</td>\n",
       "      <td>-0.484238</td>\n",
       "      <td>working_day</td>\n",
       "    </tr>\n",
       "    <tr>\n",
       "      <th>18</th>\n",
       "      <td>2020-05-05</td>\n",
       "      <td>working_day</td>\n",
       "      <td>2.770502</td>\n",
       "      <td>-0.170016</td>\n",
       "      <td>working_day</td>\n",
       "    </tr>\n",
       "    <tr>\n",
       "      <th>19</th>\n",
       "      <td>2020-05-06</td>\n",
       "      <td>working_day</td>\n",
       "      <td>-0.613084</td>\n",
       "      <td>-0.739542</td>\n",
       "      <td>working_day</td>\n",
       "    </tr>\n",
       "    <tr>\n",
       "      <th>20</th>\n",
       "      <td>2020-05-07</td>\n",
       "      <td>working_day</td>\n",
       "      <td>-0.099121</td>\n",
       "      <td>-0.366405</td>\n",
       "      <td>working_day</td>\n",
       "    </tr>\n",
       "    <tr>\n",
       "      <th>21</th>\n",
       "      <td>2020-05-08</td>\n",
       "      <td>working_day</td>\n",
       "      <td>-0.570253</td>\n",
       "      <td>0.085289</td>\n",
       "      <td>working_day</td>\n",
       "    </tr>\n",
       "    <tr>\n",
       "      <th>22</th>\n",
       "      <td>2020-05-09</td>\n",
       "      <td>weekend</td>\n",
       "      <td>-0.698744</td>\n",
       "      <td>0.104928</td>\n",
       "      <td>working_day</td>\n",
       "    </tr>\n",
       "    <tr>\n",
       "      <th>23</th>\n",
       "      <td>2020-05-10</td>\n",
       "      <td>weekend</td>\n",
       "      <td>-0.270442</td>\n",
       "      <td>0.566440</td>\n",
       "      <td>working_day</td>\n",
       "    </tr>\n",
       "    <tr>\n",
       "      <th>24</th>\n",
       "      <td>2020-05-11</td>\n",
       "      <td>working_day</td>\n",
       "      <td>-0.570253</td>\n",
       "      <td>1.057411</td>\n",
       "      <td>working_day</td>\n",
       "    </tr>\n",
       "    <tr>\n",
       "      <th>25</th>\n",
       "      <td>2020-05-12</td>\n",
       "      <td>working_day</td>\n",
       "      <td>1.699747</td>\n",
       "      <td>1.882242</td>\n",
       "      <td>working_day</td>\n",
       "    </tr>\n",
       "    <tr>\n",
       "      <th>26</th>\n",
       "      <td>2020-05-13</td>\n",
       "      <td>working_day</td>\n",
       "      <td>-0.441763</td>\n",
       "      <td>1.273438</td>\n",
       "      <td>working_day</td>\n",
       "    </tr>\n",
       "    <tr>\n",
       "      <th>27</th>\n",
       "      <td>2020-05-14</td>\n",
       "      <td>working_day</td>\n",
       "      <td>2.128049</td>\n",
       "      <td>4.258542</td>\n",
       "      <td>working_day</td>\n",
       "    </tr>\n",
       "    <tr>\n",
       "      <th>28</th>\n",
       "      <td>2020-05-15</td>\n",
       "      <td>working_day</td>\n",
       "      <td>-0.270442</td>\n",
       "      <td>-0.739542</td>\n",
       "      <td>working_day</td>\n",
       "    </tr>\n",
       "    <tr>\n",
       "      <th>29</th>\n",
       "      <td>2020-05-16</td>\n",
       "      <td>weekend</td>\n",
       "      <td>-0.698744</td>\n",
       "      <td>-0.700265</td>\n",
       "      <td>working_day</td>\n",
       "    </tr>\n",
       "    <tr>\n",
       "      <th>30</th>\n",
       "      <td>2020-05-17</td>\n",
       "      <td>weekend</td>\n",
       "      <td>-0.613084</td>\n",
       "      <td>-0.287849</td>\n",
       "      <td>working_day</td>\n",
       "    </tr>\n",
       "    <tr>\n",
       "      <th>31</th>\n",
       "      <td>2020-05-18</td>\n",
       "      <td>working_day</td>\n",
       "      <td>-0.698744</td>\n",
       "      <td>-0.710084</td>\n",
       "      <td>working_day</td>\n",
       "    </tr>\n",
       "    <tr>\n",
       "      <th>32</th>\n",
       "      <td>2020-05-19</td>\n",
       "      <td>working_day</td>\n",
       "      <td>0.157860</td>\n",
       "      <td>-0.602071</td>\n",
       "      <td>working_day</td>\n",
       "    </tr>\n",
       "    <tr>\n",
       "      <th>33</th>\n",
       "      <td>2020-05-20</td>\n",
       "      <td>working_day</td>\n",
       "      <td>-0.398933</td>\n",
       "      <td>-0.533335</td>\n",
       "      <td>working_day</td>\n",
       "    </tr>\n",
       "    <tr>\n",
       "      <th>34</th>\n",
       "      <td>2020-05-21</td>\n",
       "      <td>working_day</td>\n",
       "      <td>-0.655914</td>\n",
       "      <td>-0.268210</td>\n",
       "      <td>working_day</td>\n",
       "    </tr>\n",
       "  </tbody>\n",
       "</table>\n",
       "</div>"
      ],
      "text/plain": [
       "          date       target        am        pm      predict\n",
       "0   2020-04-17  working_day  0.200690 -0.719904  working_day\n",
       "1   2020-04-18      weekend -0.655914 -0.071822  working_day\n",
       "2   2020-04-19      weekend  0.072199 -0.592251  working_day\n",
       "3   2020-04-20  working_day -0.613084 -0.513696  working_day\n",
       "4   2020-04-21  working_day -0.698744 -0.494057  working_day\n",
       "5   2020-04-22  working_day -0.698744 -0.464599  working_day\n",
       "6   2020-04-23  working_day -0.270442 -0.415502  working_day\n",
       "7   2020-04-24  working_day -0.613084 -0.602071  working_day\n",
       "8   2020-04-25      weekend  0.586162 -0.012906  working_day\n",
       "9   2020-04-26      weekend  0.500501  1.548382  working_day\n",
       "10  2020-04-27  working_day -0.527423 -0.719904  working_day\n",
       "11  2020-04-28  working_day -0.527423 -0.729723  working_day\n",
       "12  2020-04-29  working_day -0.698744 -0.572612  working_day\n",
       "13  2020-04-30  working_day -0.141951 -0.346766  working_day\n",
       "14  2020-05-01  working_day -0.356102 -0.228933  working_day\n",
       "15  2020-05-02      weekend  3.198804  0.743190  working_day\n",
       "16  2020-05-03      weekend  1.314275  0.566440      weekend\n",
       "17  2020-05-04  working_day -0.227612 -0.484238  working_day\n",
       "18  2020-05-05  working_day  2.770502 -0.170016  working_day\n",
       "19  2020-05-06  working_day -0.613084 -0.739542  working_day\n",
       "20  2020-05-07  working_day -0.099121 -0.366405  working_day\n",
       "21  2020-05-08  working_day -0.570253  0.085289  working_day\n",
       "22  2020-05-09      weekend -0.698744  0.104928  working_day\n",
       "23  2020-05-10      weekend -0.270442  0.566440  working_day\n",
       "24  2020-05-11  working_day -0.570253  1.057411  working_day\n",
       "25  2020-05-12  working_day  1.699747  1.882242  working_day\n",
       "26  2020-05-13  working_day -0.441763  1.273438  working_day\n",
       "27  2020-05-14  working_day  2.128049  4.258542  working_day\n",
       "28  2020-05-15  working_day -0.270442 -0.739542  working_day\n",
       "29  2020-05-16      weekend -0.698744 -0.700265  working_day\n",
       "30  2020-05-17      weekend -0.613084 -0.287849  working_day\n",
       "31  2020-05-18  working_day -0.698744 -0.710084  working_day\n",
       "32  2020-05-19  working_day  0.157860 -0.602071  working_day\n",
       "33  2020-05-20  working_day -0.398933 -0.533335  working_day\n",
       "34  2020-05-21  working_day -0.655914 -0.268210  working_day"
      ]
     },
     "execution_count": 62,
     "metadata": {},
     "output_type": "execute_result"
    }
   ],
   "source": [
    "df['predict'] = svc.predict(df[['am', 'pm']])\n",
    "df"
   ]
  },
  {
   "cell_type": "markdown",
   "metadata": {},
   "source": [
    "**2. Посчитайте `accuracy`.**"
   ]
  },
  {
   "cell_type": "code",
   "execution_count": 63,
   "metadata": {
    "id": "5vON0k_THIkR"
   },
   "outputs": [
    {
     "data": {
      "text/plain": [
       "0.7428571428571429"
      ]
     },
     "execution_count": 63,
     "metadata": {},
     "output_type": "execute_result"
    }
   ],
   "source": [
    "svc.score(df[['am', 'pm']], df.target) # по умолчению kernel='rbf'"
   ]
  },
  {
   "cell_type": "markdown",
   "metadata": {
    "id": "MdEDrplTHIkR"
   },
   "source": [
    "**3. Попробуйте разные кернелы и найдите лучший с точки зрения этой метрики.**"
   ]
  },
  {
   "cell_type": "code",
   "execution_count": 64,
   "metadata": {
    "id": "48-Du9pUHIkS"
   },
   "outputs": [],
   "source": [
    "#kernel{‘linear’, ‘poly’, ‘rbf’, ‘sigmoid’, ‘precomputed’} or callable, default=’rbf’"
   ]
  },
  {
   "cell_type": "code",
   "execution_count": 65,
   "metadata": {},
   "outputs": [
    {
     "data": {
      "text/plain": [
       "0.7142857142857143"
      ]
     },
     "execution_count": 65,
     "metadata": {},
     "output_type": "execute_result"
    }
   ],
   "source": [
    "svc_linear = SVC(probability=True, random_state=21, kernel='linear').fit(df[['am', 'pm']], df.target)\n",
    "svc_linear.score(df[['am', 'pm']], df.target)"
   ]
  },
  {
   "cell_type": "code",
   "execution_count": 66,
   "metadata": {},
   "outputs": [
    {
     "data": {
      "text/plain": [
       "0.7428571428571429"
      ]
     },
     "execution_count": 66,
     "metadata": {},
     "output_type": "execute_result"
    }
   ],
   "source": [
    "svc_poly = SVC(probability=True, random_state=21, kernel='poly').fit(df[['am', 'pm']], df.target)\n",
    "svc_poly.score(df[['am', 'pm']], df.target)"
   ]
  },
  {
   "cell_type": "code",
   "execution_count": 67,
   "metadata": {},
   "outputs": [
    {
     "data": {
      "text/plain": [
       "0.6857142857142857"
      ]
     },
     "execution_count": 67,
     "metadata": {},
     "output_type": "execute_result"
    }
   ],
   "source": [
    "svc_sigmoid = SVC(probability=True, random_state=21, kernel='sigmoid').fit(df[['am', 'pm']], df.target)\n",
    "svc_sigmoid.score(df[['am', 'pm']], df.target)"
   ]
  },
  {
   "cell_type": "markdown",
   "metadata": {},
   "source": [
    "Лучший кернел: **rbf и poly** (одинаковые значения)"
   ]
  },
  {
   "cell_type": "markdown",
   "metadata": {
    "id": "QdzSGjgQHIkS"
   },
   "source": [
    "**4. Нарисуйте снова два графика вместе с разделяющими границами, но уже для этого алгоритма, чтобы увидеть, каким образом работает он.**"
   ]
  },
  {
   "cell_type": "code",
   "execution_count": 68,
   "metadata": {
    "id": "mM_z4AAaHIkS"
   },
   "outputs": [
    {
     "data": {
      "text/plain": [
       "<AxesSubplot:xlabel='am', ylabel='pm'>"
      ]
     },
     "execution_count": 68,
     "metadata": {},
     "output_type": "execute_result"
    },
    {
     "data": {
      "image/png": "[encoded data removed]",
      "text/plain": [
       "<Figure size 432x288 with 1 Axes>"
      ]
     },
     "metadata": {
      "needs_background": "light"
     },
     "output_type": "display_data"
    }
   ],
   "source": [
    "DecisionBoundaryDisplay.from_estimator(\n",
    "        svc,\n",
    "        X=df[['am', 'pm']],\n",
    "        response_method=\"predict\",\n",
    "        cmap=\"RdBu\")\n",
    "sns.scatterplot(data=df, x='am', y='pm', hue='target')"
   ]
  },
  {
   "cell_type": "code",
   "execution_count": 69,
   "metadata": {},
   "outputs": [
    {
     "data": {
      "text/plain": [
       "<AxesSubplot:xlabel='am', ylabel='pm'>"
      ]
     },
     "execution_count": 69,
     "metadata": {},
     "output_type": "execute_result"
    },
    {
     "data": {
      "image/png": "[encoded data removed]",
      "text/plain": [
       "<Figure size 432x288 with 1 Axes>"
      ]
     },
     "metadata": {
      "needs_background": "light"
     },
     "output_type": "display_data"
    }
   ],
   "source": [
    "DecisionBoundaryDisplay.from_estimator(\n",
    "        svc,\n",
    "        X=df[['am', 'pm']],\n",
    "        response_method=\"predict\")\n",
    "sns.scatterplot(data=df, x='am', y='pm', hue='predict')"
   ]
  },
  {
   "cell_type": "markdown",
   "metadata": {
    "id": "hftQjJhWHIkS"
   },
   "source": [
    "## 4. Дерево классификаций"
   ]
  },
  {
   "cell_type": "markdown",
   "metadata": {},
   "source": [
    "- [sklearn.tree.DecisionTreeClassifier](https://scikit-learn.org/stable/modules/generated/sklearn.tree.DecisionTreeClassifier.html)\n"
   ]
  },
  {
   "cell_type": "markdown",
   "metadata": {
    "id": "e70pCTTNHIkT"
   },
   "source": [
    "**1. Обучите `DecisionTreeClassifier` на стандартизированных признаках, используя параметры `max_depth=4`, `random_state=42`.**"
   ]
  },
  {
   "cell_type": "code",
   "execution_count": 70,
   "metadata": {},
   "outputs": [],
   "source": [
    "from sklearn.tree import DecisionTreeClassifier"
   ]
  },
  {
   "cell_type": "code",
   "execution_count": 71,
   "metadata": {
    "id": "ykb7MLabHIkT"
   },
   "outputs": [],
   "source": [
    "dtc = DecisionTreeClassifier(max_depth=4, random_state=42).fit(df[['am', 'pm']], df.target)"
   ]
  },
  {
   "cell_type": "code",
   "execution_count": 72,
   "metadata": {
    "id": "wWpg5Rh4HIkT"
   },
   "outputs": [
    {
     "data": {
      "text/html": [
       "<div>\n",
       "<style scoped>\n",
       "    .dataframe tbody tr th:only-of-type {\n",
       "        vertical-align: middle;\n",
       "    }\n",
       "\n",
       "    .dataframe tbody tr th {\n",
       "        vertical-align: top;\n",
       "    }\n",
       "\n",
       "    .dataframe thead th {\n",
       "        text-align: right;\n",
       "    }\n",
       "</style>\n",
       "<table border=\"1\" class=\"dataframe\">\n",
       "  <thead>\n",
       "    <tr style=\"text-align: right;\">\n",
       "      <th></th>\n",
       "      <th>date</th>\n",
       "      <th>target</th>\n",
       "      <th>am</th>\n",
       "      <th>pm</th>\n",
       "      <th>predict</th>\n",
       "    </tr>\n",
       "  </thead>\n",
       "  <tbody>\n",
       "    <tr>\n",
       "      <th>0</th>\n",
       "      <td>2020-04-17</td>\n",
       "      <td>working_day</td>\n",
       "      <td>0.200690</td>\n",
       "      <td>-0.719904</td>\n",
       "      <td>working_day</td>\n",
       "    </tr>\n",
       "    <tr>\n",
       "      <th>1</th>\n",
       "      <td>2020-04-18</td>\n",
       "      <td>weekend</td>\n",
       "      <td>-0.655914</td>\n",
       "      <td>-0.071822</td>\n",
       "      <td>weekend</td>\n",
       "    </tr>\n",
       "    <tr>\n",
       "      <th>2</th>\n",
       "      <td>2020-04-19</td>\n",
       "      <td>weekend</td>\n",
       "      <td>0.072199</td>\n",
       "      <td>-0.592251</td>\n",
       "      <td>working_day</td>\n",
       "    </tr>\n",
       "    <tr>\n",
       "      <th>3</th>\n",
       "      <td>2020-04-20</td>\n",
       "      <td>working_day</td>\n",
       "      <td>-0.613084</td>\n",
       "      <td>-0.513696</td>\n",
       "      <td>working_day</td>\n",
       "    </tr>\n",
       "    <tr>\n",
       "      <th>4</th>\n",
       "      <td>2020-04-21</td>\n",
       "      <td>working_day</td>\n",
       "      <td>-0.698744</td>\n",
       "      <td>-0.494057</td>\n",
       "      <td>working_day</td>\n",
       "    </tr>\n",
       "    <tr>\n",
       "      <th>5</th>\n",
       "      <td>2020-04-22</td>\n",
       "      <td>working_day</td>\n",
       "      <td>-0.698744</td>\n",
       "      <td>-0.464599</td>\n",
       "      <td>working_day</td>\n",
       "    </tr>\n",
       "    <tr>\n",
       "      <th>6</th>\n",
       "      <td>2020-04-23</td>\n",
       "      <td>working_day</td>\n",
       "      <td>-0.270442</td>\n",
       "      <td>-0.415502</td>\n",
       "      <td>working_day</td>\n",
       "    </tr>\n",
       "    <tr>\n",
       "      <th>7</th>\n",
       "      <td>2020-04-24</td>\n",
       "      <td>working_day</td>\n",
       "      <td>-0.613084</td>\n",
       "      <td>-0.602071</td>\n",
       "      <td>working_day</td>\n",
       "    </tr>\n",
       "    <tr>\n",
       "      <th>8</th>\n",
       "      <td>2020-04-25</td>\n",
       "      <td>weekend</td>\n",
       "      <td>0.586162</td>\n",
       "      <td>-0.012906</td>\n",
       "      <td>weekend</td>\n",
       "    </tr>\n",
       "    <tr>\n",
       "      <th>9</th>\n",
       "      <td>2020-04-26</td>\n",
       "      <td>weekend</td>\n",
       "      <td>0.500501</td>\n",
       "      <td>1.548382</td>\n",
       "      <td>weekend</td>\n",
       "    </tr>\n",
       "    <tr>\n",
       "      <th>10</th>\n",
       "      <td>2020-04-27</td>\n",
       "      <td>working_day</td>\n",
       "      <td>-0.527423</td>\n",
       "      <td>-0.719904</td>\n",
       "      <td>working_day</td>\n",
       "    </tr>\n",
       "    <tr>\n",
       "      <th>11</th>\n",
       "      <td>2020-04-28</td>\n",
       "      <td>working_day</td>\n",
       "      <td>-0.527423</td>\n",
       "      <td>-0.729723</td>\n",
       "      <td>working_day</td>\n",
       "    </tr>\n",
       "    <tr>\n",
       "      <th>12</th>\n",
       "      <td>2020-04-29</td>\n",
       "      <td>working_day</td>\n",
       "      <td>-0.698744</td>\n",
       "      <td>-0.572612</td>\n",
       "      <td>working_day</td>\n",
       "    </tr>\n",
       "    <tr>\n",
       "      <th>13</th>\n",
       "      <td>2020-04-30</td>\n",
       "      <td>working_day</td>\n",
       "      <td>-0.141951</td>\n",
       "      <td>-0.346766</td>\n",
       "      <td>working_day</td>\n",
       "    </tr>\n",
       "    <tr>\n",
       "      <th>14</th>\n",
       "      <td>2020-05-01</td>\n",
       "      <td>working_day</td>\n",
       "      <td>-0.356102</td>\n",
       "      <td>-0.228933</td>\n",
       "      <td>working_day</td>\n",
       "    </tr>\n",
       "    <tr>\n",
       "      <th>15</th>\n",
       "      <td>2020-05-02</td>\n",
       "      <td>weekend</td>\n",
       "      <td>3.198804</td>\n",
       "      <td>0.743190</td>\n",
       "      <td>weekend</td>\n",
       "    </tr>\n",
       "    <tr>\n",
       "      <th>16</th>\n",
       "      <td>2020-05-03</td>\n",
       "      <td>weekend</td>\n",
       "      <td>1.314275</td>\n",
       "      <td>0.566440</td>\n",
       "      <td>weekend</td>\n",
       "    </tr>\n",
       "    <tr>\n",
       "      <th>17</th>\n",
       "      <td>2020-05-04</td>\n",
       "      <td>working_day</td>\n",
       "      <td>-0.227612</td>\n",
       "      <td>-0.484238</td>\n",
       "      <td>working_day</td>\n",
       "    </tr>\n",
       "    <tr>\n",
       "      <th>18</th>\n",
       "      <td>2020-05-05</td>\n",
       "      <td>working_day</td>\n",
       "      <td>2.770502</td>\n",
       "      <td>-0.170016</td>\n",
       "      <td>working_day</td>\n",
       "    </tr>\n",
       "    <tr>\n",
       "      <th>19</th>\n",
       "      <td>2020-05-06</td>\n",
       "      <td>working_day</td>\n",
       "      <td>-0.613084</td>\n",
       "      <td>-0.739542</td>\n",
       "      <td>working_day</td>\n",
       "    </tr>\n",
       "    <tr>\n",
       "      <th>20</th>\n",
       "      <td>2020-05-07</td>\n",
       "      <td>working_day</td>\n",
       "      <td>-0.099121</td>\n",
       "      <td>-0.366405</td>\n",
       "      <td>working_day</td>\n",
       "    </tr>\n",
       "    <tr>\n",
       "      <th>21</th>\n",
       "      <td>2020-05-08</td>\n",
       "      <td>working_day</td>\n",
       "      <td>-0.570253</td>\n",
       "      <td>0.085289</td>\n",
       "      <td>working_day</td>\n",
       "    </tr>\n",
       "    <tr>\n",
       "      <th>22</th>\n",
       "      <td>2020-05-09</td>\n",
       "      <td>weekend</td>\n",
       "      <td>-0.698744</td>\n",
       "      <td>0.104928</td>\n",
       "      <td>weekend</td>\n",
       "    </tr>\n",
       "    <tr>\n",
       "      <th>23</th>\n",
       "      <td>2020-05-10</td>\n",
       "      <td>weekend</td>\n",
       "      <td>-0.270442</td>\n",
       "      <td>0.566440</td>\n",
       "      <td>weekend</td>\n",
       "    </tr>\n",
       "    <tr>\n",
       "      <th>24</th>\n",
       "      <td>2020-05-11</td>\n",
       "      <td>working_day</td>\n",
       "      <td>-0.570253</td>\n",
       "      <td>1.057411</td>\n",
       "      <td>working_day</td>\n",
       "    </tr>\n",
       "    <tr>\n",
       "      <th>25</th>\n",
       "      <td>2020-05-12</td>\n",
       "      <td>working_day</td>\n",
       "      <td>1.699747</td>\n",
       "      <td>1.882242</td>\n",
       "      <td>working_day</td>\n",
       "    </tr>\n",
       "    <tr>\n",
       "      <th>26</th>\n",
       "      <td>2020-05-13</td>\n",
       "      <td>working_day</td>\n",
       "      <td>-0.441763</td>\n",
       "      <td>1.273438</td>\n",
       "      <td>working_day</td>\n",
       "    </tr>\n",
       "    <tr>\n",
       "      <th>27</th>\n",
       "      <td>2020-05-14</td>\n",
       "      <td>working_day</td>\n",
       "      <td>2.128049</td>\n",
       "      <td>4.258542</td>\n",
       "      <td>working_day</td>\n",
       "    </tr>\n",
       "    <tr>\n",
       "      <th>28</th>\n",
       "      <td>2020-05-15</td>\n",
       "      <td>working_day</td>\n",
       "      <td>-0.270442</td>\n",
       "      <td>-0.739542</td>\n",
       "      <td>working_day</td>\n",
       "    </tr>\n",
       "    <tr>\n",
       "      <th>29</th>\n",
       "      <td>2020-05-16</td>\n",
       "      <td>weekend</td>\n",
       "      <td>-0.698744</td>\n",
       "      <td>-0.700265</td>\n",
       "      <td>weekend</td>\n",
       "    </tr>\n",
       "    <tr>\n",
       "      <th>30</th>\n",
       "      <td>2020-05-17</td>\n",
       "      <td>weekend</td>\n",
       "      <td>-0.613084</td>\n",
       "      <td>-0.287849</td>\n",
       "      <td>working_day</td>\n",
       "    </tr>\n",
       "    <tr>\n",
       "      <th>31</th>\n",
       "      <td>2020-05-18</td>\n",
       "      <td>working_day</td>\n",
       "      <td>-0.698744</td>\n",
       "      <td>-0.710084</td>\n",
       "      <td>working_day</td>\n",
       "    </tr>\n",
       "    <tr>\n",
       "      <th>32</th>\n",
       "      <td>2020-05-19</td>\n",
       "      <td>working_day</td>\n",
       "      <td>0.157860</td>\n",
       "      <td>-0.602071</td>\n",
       "      <td>working_day</td>\n",
       "    </tr>\n",
       "    <tr>\n",
       "      <th>33</th>\n",
       "      <td>2020-05-20</td>\n",
       "      <td>working_day</td>\n",
       "      <td>-0.398933</td>\n",
       "      <td>-0.533335</td>\n",
       "      <td>working_day</td>\n",
       "    </tr>\n",
       "    <tr>\n",
       "      <th>34</th>\n",
       "      <td>2020-05-21</td>\n",
       "      <td>working_day</td>\n",
       "      <td>-0.655914</td>\n",
       "      <td>-0.268210</td>\n",
       "      <td>working_day</td>\n",
       "    </tr>\n",
       "  </tbody>\n",
       "</table>\n",
       "</div>"
      ],
      "text/plain": [
       "          date       target        am        pm      predict\n",
       "0   2020-04-17  working_day  0.200690 -0.719904  working_day\n",
       "1   2020-04-18      weekend -0.655914 -0.071822      weekend\n",
       "2   2020-04-19      weekend  0.072199 -0.592251  working_day\n",
       "3   2020-04-20  working_day -0.613084 -0.513696  working_day\n",
       "4   2020-04-21  working_day -0.698744 -0.494057  working_day\n",
       "5   2020-04-22  working_day -0.698744 -0.464599  working_day\n",
       "6   2020-04-23  working_day -0.270442 -0.415502  working_day\n",
       "7   2020-04-24  working_day -0.613084 -0.602071  working_day\n",
       "8   2020-04-25      weekend  0.586162 -0.012906      weekend\n",
       "9   2020-04-26      weekend  0.500501  1.548382      weekend\n",
       "10  2020-04-27  working_day -0.527423 -0.719904  working_day\n",
       "11  2020-04-28  working_day -0.527423 -0.729723  working_day\n",
       "12  2020-04-29  working_day -0.698744 -0.572612  working_day\n",
       "13  2020-04-30  working_day -0.141951 -0.346766  working_day\n",
       "14  2020-05-01  working_day -0.356102 -0.228933  working_day\n",
       "15  2020-05-02      weekend  3.198804  0.743190      weekend\n",
       "16  2020-05-03      weekend  1.314275  0.566440      weekend\n",
       "17  2020-05-04  working_day -0.227612 -0.484238  working_day\n",
       "18  2020-05-05  working_day  2.770502 -0.170016  working_day\n",
       "19  2020-05-06  working_day -0.613084 -0.739542  working_day\n",
       "20  2020-05-07  working_day -0.099121 -0.366405  working_day\n",
       "21  2020-05-08  working_day -0.570253  0.085289  working_day\n",
       "22  2020-05-09      weekend -0.698744  0.104928      weekend\n",
       "23  2020-05-10      weekend -0.270442  0.566440      weekend\n",
       "24  2020-05-11  working_day -0.570253  1.057411  working_day\n",
       "25  2020-05-12  working_day  1.699747  1.882242  working_day\n",
       "26  2020-05-13  working_day -0.441763  1.273438  working_day\n",
       "27  2020-05-14  working_day  2.128049  4.258542  working_day\n",
       "28  2020-05-15  working_day -0.270442 -0.739542  working_day\n",
       "29  2020-05-16      weekend -0.698744 -0.700265      weekend\n",
       "30  2020-05-17      weekend -0.613084 -0.287849  working_day\n",
       "31  2020-05-18  working_day -0.698744 -0.710084  working_day\n",
       "32  2020-05-19  working_day  0.157860 -0.602071  working_day\n",
       "33  2020-05-20  working_day -0.398933 -0.533335  working_day\n",
       "34  2020-05-21  working_day -0.655914 -0.268210  working_day"
      ]
     },
     "execution_count": 72,
     "metadata": {},
     "output_type": "execute_result"
    }
   ],
   "source": [
    "df['predict'] = dtc.predict(df[['am', 'pm']])\n",
    "df"
   ]
  },
  {
   "cell_type": "markdown",
   "metadata": {
    "id": "TJwoYrawHIkT"
   },
   "source": [
    "**2. Посчитайте accuracy.**"
   ]
  },
  {
   "cell_type": "code",
   "execution_count": 73,
   "metadata": {
    "id": "lhQs15BVHIkU"
   },
   "outputs": [
    {
     "data": {
      "text/plain": [
       "0.9428571428571428"
      ]
     },
     "execution_count": 73,
     "metadata": {},
     "output_type": "execute_result"
    }
   ],
   "source": [
    "dtc.score(df[['am', 'pm']], df.target)"
   ]
  },
  {
   "cell_type": "markdown",
   "metadata": {
    "id": "NSY01hF-HIkU"
   },
   "source": [
    "**3. Попробуйте различные значения `max_depth`.**"
   ]
  },
  {
   "cell_type": "code",
   "execution_count": 74,
   "metadata": {},
   "outputs": [
    {
     "data": {
      "text/plain": [
       "0.8857142857142857"
      ]
     },
     "execution_count": 74,
     "metadata": {},
     "output_type": "execute_result"
    }
   ],
   "source": [
    "dtc_3 = DecisionTreeClassifier(max_depth=3, random_state=42).fit(df[['am', 'pm']], df.target)\n",
    "dtc_3.score(df[['am', 'pm']], df.target)"
   ]
  },
  {
   "cell_type": "code",
   "execution_count": 75,
   "metadata": {},
   "outputs": [
    {
     "data": {
      "text/plain": [
       "0.9714285714285714"
      ]
     },
     "execution_count": 75,
     "metadata": {},
     "output_type": "execute_result"
    }
   ],
   "source": [
    "dtc_5 = DecisionTreeClassifier(max_depth=5, random_state=42).fit(df[['am', 'pm']], df.target)\n",
    "dtc_5.score(df[['am', 'pm']], df.target)"
   ]
  },
  {
   "cell_type": "code",
   "execution_count": 76,
   "metadata": {},
   "outputs": [
    {
     "data": {
      "text/plain": [
       "1.0"
      ]
     },
     "execution_count": 76,
     "metadata": {},
     "output_type": "execute_result"
    }
   ],
   "source": [
    "dtc_8 = DecisionTreeClassifier(max_depth=8, random_state=42).fit(df[['am', 'pm']], df.target)\n",
    "dtc_8.score(df[['am', 'pm']], df.target)"
   ]
  },
  {
   "cell_type": "markdown",
   "metadata": {},
   "source": [
    "**4. Нарисуйте снова оба графика с разделяющими границами, чтобы увидеть как работает этот алгоритм.**"
   ]
  },
  {
   "cell_type": "code",
   "execution_count": 77,
   "metadata": {},
   "outputs": [
    {
     "data": {
      "text/plain": [
       "<AxesSubplot:xlabel='am', ylabel='pm'>"
      ]
     },
     "execution_count": 77,
     "metadata": {},
     "output_type": "execute_result"
    },
    {
     "data": {
      "image/png": "[encoded data removed]",
      "text/plain": [
       "<Figure size 432x288 with 1 Axes>"
      ]
     },
     "metadata": {
      "needs_background": "light"
     },
     "output_type": "display_data"
    }
   ],
   "source": [
    "DecisionBoundaryDisplay.from_estimator(\n",
    "        dtc,\n",
    "        X=df[['am', 'pm']],\n",
    "        response_method=\"predict\",\n",
    "        cmap=\"RdBu\")\n",
    "sns.scatterplot(data=df, x='am', y='pm', hue='target')"
   ]
  },
  {
   "cell_type": "code",
   "execution_count": 78,
   "metadata": {},
   "outputs": [
    {
     "data": {
      "text/plain": [
       "<AxesSubplot:xlabel='am', ylabel='pm'>"
      ]
     },
     "execution_count": 78,
     "metadata": {},
     "output_type": "execute_result"
    },
    {
     "data": {
      "image/png": "[encoded data removed]",
      "text/plain": [
       "<Figure size 432x288 with 1 Axes>"
      ]
     },
     "metadata": {
      "needs_background": "light"
     },
     "output_type": "display_data"
    }
   ],
   "source": [
    "DecisionBoundaryDisplay.from_estimator(\n",
    "        dtc,\n",
    "        X=df[['am', 'pm']],\n",
    "        response_method=\"predict\")\n",
    "sns.scatterplot(data=df, x='am', y='pm', hue='predict')"
   ]
  },
  {
   "cell_type": "markdown",
   "metadata": {},
   "source": [
    "**5. Воспользуйтесь методом `.plot_tree()`, чтобы визуализировать само дерево.**\n",
    "**Это еще один способ понять то, как работает этот алгоритм.**\n"
   ]
  },
  {
   "cell_type": "markdown",
   "metadata": {},
   "source": [
    "- [Понимание структуры дерева решений](https://scikit-learn.org/stable/auto_examples/tree/plot_unveil_tree_structure.html#sphx-glr-auto-examples-tree-plot-unveil-tree-structure-py)\n",
    "\n",
    "- [Как настроить размер графика plot_tree в sklearn, чтобы сделать его читаемым?](https://stackoverflow.com/questions/59174665/how-can-i-adjust-the-size-of-the-plot-tree-graph-in-sklearn-to-make-it-readable)\n",
    "\n",
    "- [Постройте поверхность решений деревьев решений, обученных набору данных радужной оболочки глаза](https://scikit-learn.org/stable/auto_examples/tree/plot_iris_dtc.html)\n",
    "\n",
    "- [Решение для упражнения M5.01#](https://inria.github.io/scikit-learn-mooc/python_scripts/trees_sol_01.html)"
   ]
  },
  {
   "cell_type": "code",
   "execution_count": 79,
   "metadata": {},
   "outputs": [],
   "source": [
    "from sklearn import tree\n",
    "import matplotlib.pyplot as plt"
   ]
  },
  {
   "cell_type": "code",
   "execution_count": 80,
   "metadata": {},
   "outputs": [
    {
     "data": {
      "image/png": "[encoded data removed]",
      "text/plain": [
       "<Figure size 1080x576 with 1 Axes>"
      ]
     },
     "metadata": {
      "needs_background": "light"
     },
     "output_type": "display_data"
    }
   ],
   "source": [
    "plt.subplots(figsize = (15, 8))\n",
    "tree.plot_tree(dtc, filled=True)\n",
    "plt.show()"
   ]
  },
  {
   "cell_type": "markdown",
   "metadata": {},
   "source": [
    "**6. Сколько \"листков\" в визуализированном дереве пометили дни как `working_day`?**\n",
    "**Впишите свой ответ в markdown-ячейку в конце этой секции.**"
   ]
  },
  {
   "cell_type": "markdown",
   "metadata": {},
   "source": [
    "**Ответ:** 4 \"листка\" в визуализированном дереве пометили дни как working_day"
   ]
  }
 ],
 "metadata": {
  "colab": {
   "provenance": []
  },
  "kernelspec": {
   "display_name": "Python 3 (ipykernel)",
   "language": "python",
   "name": "python3"
  },
  "language_info": {
   "codemirror_mode": {
    "name": "ipython",
    "version": 3
   },
   "file_extension": ".py",
   "mimetype": "text/x-python",
   "name": "python",
   "nbconvert_exporter": "python",
   "pygments_lexer": "ipython3",
   "version": "3.9.7"
  },
  "toc": {
   "base_numbering": 1,
   "nav_menu": {},
   "number_sections": true,
   "sideBar": true,
   "skip_h1_title": false,
   "title_cell": "Table of Contents",
   "title_sidebar": "Contents",
   "toc_cell": false,
   "toc_position": {},
   "toc_section_display": true,
   "toc_window_display": true
  },
  "vscode": {
   "interpreter": {
    "hash": "aee8b7b246df8f9039afb4144a1f6fd8d2ca17a180786b69acc140d282b71a49"
   }
  }
 },
 "nbformat": 4,
 "nbformat_minor": 1
}
