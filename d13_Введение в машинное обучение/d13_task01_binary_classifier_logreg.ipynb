{
 "cells": [
  {
   "cell_type": "code",
   "execution_count": 1,
   "metadata": {
    "colab": {
     "base_uri": "https://localhost:8080/"
    },
    "executionInfo": {
     "elapsed": 20613,
     "status": "ok",
     "timestamp": 1665082586402,
     "user": {
      "displayName": "Ирина Исайкина",
      "userId": "07624164943752334843"
     },
     "user_tz": -180
    },
    "id": "hiZhccak_2QB",
    "outputId": "925e48fb-e05d-467a-9fb3-05ea08fcefdf"
   },
   "outputs": [],
   "source": [
    "# from google.colab import drive\n",
    "# drive.mount('/content/drive')"
   ]
  },
  {
   "cell_type": "code",
   "execution_count": 2,
   "metadata": {
    "executionInfo": {
     "elapsed": 18,
     "status": "ok",
     "timestamp": 1665082586403,
     "user": {
      "displayName": "Ирина Исайкина",
      "userId": "07624164943752334843"
     },
     "user_tz": -180
    },
    "id": "wyqBTq_1AD0A"
   },
   "outputs": [],
   "source": [
    "import pandas as pd\n",
    "import datetime\n",
    "import seaborn as sns"
   ]
  },
  {
   "cell_type": "markdown",
   "metadata": {
    "id": "W2eSnfDc_0c1"
   },
   "source": [
    "# Day 13. Task 01\n",
    "# Бинарный классификатор. Логистическая регрессия"
   ]
  },
  {
   "cell_type": "markdown",
   "metadata": {
    "id": "jgq6vWoF_0c4"
   },
   "source": [
    "## 0. Импорты"
   ]
  },
  {
   "cell_type": "code",
   "execution_count": 3,
   "metadata": {
    "colab": {
     "base_uri": "https://localhost:8080/",
     "height": 419
    },
    "executionInfo": {
     "elapsed": 1737,
     "status": "ok",
     "timestamp": 1665082588129,
     "user": {
      "displayName": "Ирина Исайкина",
      "userId": "07624164943752334843"
     },
     "user_tz": -180
    },
    "id": "C5904wP4_0c5",
    "outputId": "78baf6db-1582-483f-992c-8a1392ee9c25"
   },
   "outputs": [
    {
     "data": {
      "text/html": [
       "<div>\n",
       "<style scoped>\n",
       "    .dataframe tbody tr th:only-of-type {\n",
       "        vertical-align: middle;\n",
       "    }\n",
       "\n",
       "    .dataframe tbody tr th {\n",
       "        vertical-align: top;\n",
       "    }\n",
       "\n",
       "    .dataframe thead th {\n",
       "        text-align: right;\n",
       "    }\n",
       "</style>\n",
       "<table border=\"1\" class=\"dataframe\">\n",
       "  <thead>\n",
       "    <tr style=\"text-align: right;\">\n",
       "      <th></th>\n",
       "      <th>timestamp</th>\n",
       "    </tr>\n",
       "  </thead>\n",
       "  <tbody>\n",
       "    <tr>\n",
       "      <th>0</th>\n",
       "      <td>2020-04-17 05:19:02.744528</td>\n",
       "    </tr>\n",
       "    <tr>\n",
       "      <th>1</th>\n",
       "      <td>2020-04-17 05:22:35.249331</td>\n",
       "    </tr>\n",
       "    <tr>\n",
       "      <th>2</th>\n",
       "      <td>2020-04-17 05:22:45.549397</td>\n",
       "    </tr>\n",
       "    <tr>\n",
       "      <th>3</th>\n",
       "      <td>2020-04-17 05:34:14.691200</td>\n",
       "    </tr>\n",
       "    <tr>\n",
       "      <th>4</th>\n",
       "      <td>2020-04-17 05:34:24.422370</td>\n",
       "    </tr>\n",
       "    <tr>\n",
       "      <th>...</th>\n",
       "      <td>...</td>\n",
       "    </tr>\n",
       "    <tr>\n",
       "      <th>3202</th>\n",
       "      <td>2020-05-21 20:19:06.872761</td>\n",
       "    </tr>\n",
       "    <tr>\n",
       "      <th>3203</th>\n",
       "      <td>2020-05-21 20:22:41.785725</td>\n",
       "    </tr>\n",
       "    <tr>\n",
       "      <th>3204</th>\n",
       "      <td>2020-05-21 20:22:41.877806</td>\n",
       "    </tr>\n",
       "    <tr>\n",
       "      <th>3205</th>\n",
       "      <td>2020-05-21 20:37:00.129678</td>\n",
       "    </tr>\n",
       "    <tr>\n",
       "      <th>3206</th>\n",
       "      <td>2020-05-21 20:37:00.290491</td>\n",
       "    </tr>\n",
       "  </tbody>\n",
       "</table>\n",
       "<p>3207 rows × 1 columns</p>\n",
       "</div>"
      ],
      "text/plain": [
       "                      timestamp\n",
       "0    2020-04-17 05:19:02.744528\n",
       "1    2020-04-17 05:22:35.249331\n",
       "2    2020-04-17 05:22:45.549397\n",
       "3    2020-04-17 05:34:14.691200\n",
       "4    2020-04-17 05:34:24.422370\n",
       "...                         ...\n",
       "3202 2020-05-21 20:19:06.872761\n",
       "3203 2020-05-21 20:22:41.785725\n",
       "3204 2020-05-21 20:22:41.877806\n",
       "3205 2020-05-21 20:37:00.129678\n",
       "3206 2020-05-21 20:37:00.290491\n",
       "\n",
       "[3207 rows x 1 columns]"
      ]
     },
     "execution_count": 3,
     "metadata": {},
     "output_type": "execute_result"
    }
   ],
   "source": [
    "df = pd.read_csv('../data/checker_timestamp.csv', parse_dates=['timestamp'])\n",
    "df"
   ]
  },
  {
   "cell_type": "markdown",
   "metadata": {
    "id": "nHV65CjF_0c5"
   },
   "source": [
    "## 1. Препроцессинг данных"
   ]
  },
  {
   "cell_type": "markdown",
   "metadata": {
    "id": "LswhJHcu_0c5"
   },
   "source": [
    "- Скачайте данные, расположенные в: datasets/checker_timestamp.csv\n",
    "\n",
    "- Создайте датафрейм `df` со столбцами: `date`, `am`, `pm`, `target`, где `date` – это дата дня, `am` – количество коммитов, совершенных до полудня (целое число), `pm` – количество коммитов, совершенных после полудня (целое число), `target` – принимает значения `weekend`/`working_day`."
   ]
  },
  {
   "cell_type": "code",
   "execution_count": 4,
   "metadata": {
    "executionInfo": {
     "elapsed": 8,
     "status": "ok",
     "timestamp": 1665082588130,
     "user": {
      "displayName": "Ирина Исайкина",
      "userId": "07624164943752334843"
     },
     "user_tz": -180
    },
    "id": "0dZkELMM_0c6"
   },
   "outputs": [],
   "source": [
    "df['date'] = df.timestamp.dt.date\n",
    "df['hour'] = df.timestamp.dt.hour\n",
    "df['am'] = df['hour'] < 12\n",
    "df['pm'] = df['hour'] >= 12\n",
    "df['target'] = ['weekend' if x == 'Saturday' or x == 'Sunday' else 'working_day' for x in df.timestamp.dt.day_name()]"
   ]
  },
  {
   "cell_type": "code",
   "execution_count": 5,
   "metadata": {
    "colab": {
     "base_uri": "https://localhost:8080/",
     "height": 204
    },
    "executionInfo": {
     "elapsed": 19,
     "status": "ok",
     "timestamp": 1665082588510,
     "user": {
      "displayName": "Ирина Исайкина",
      "userId": "07624164943752334843"
     },
     "user_tz": -180
    },
    "id": "GXvYsb0d_0c6",
    "outputId": "b342c3ad-8618-4a4e-c254-524f1fcf3e14"
   },
   "outputs": [
    {
     "data": {
      "text/html": [
       "<div>\n",
       "<style scoped>\n",
       "    .dataframe tbody tr th:only-of-type {\n",
       "        vertical-align: middle;\n",
       "    }\n",
       "\n",
       "    .dataframe tbody tr th {\n",
       "        vertical-align: top;\n",
       "    }\n",
       "\n",
       "    .dataframe thead th {\n",
       "        text-align: right;\n",
       "    }\n",
       "</style>\n",
       "<table border=\"1\" class=\"dataframe\">\n",
       "  <thead>\n",
       "    <tr style=\"text-align: right;\">\n",
       "      <th></th>\n",
       "      <th>timestamp</th>\n",
       "      <th>date</th>\n",
       "      <th>hour</th>\n",
       "      <th>am</th>\n",
       "      <th>pm</th>\n",
       "      <th>target</th>\n",
       "    </tr>\n",
       "  </thead>\n",
       "  <tbody>\n",
       "    <tr>\n",
       "      <th>0</th>\n",
       "      <td>2020-04-17 05:19:02.744528</td>\n",
       "      <td>2020-04-17</td>\n",
       "      <td>5</td>\n",
       "      <td>True</td>\n",
       "      <td>False</td>\n",
       "      <td>working_day</td>\n",
       "    </tr>\n",
       "    <tr>\n",
       "      <th>1</th>\n",
       "      <td>2020-04-17 05:22:35.249331</td>\n",
       "      <td>2020-04-17</td>\n",
       "      <td>5</td>\n",
       "      <td>True</td>\n",
       "      <td>False</td>\n",
       "      <td>working_day</td>\n",
       "    </tr>\n",
       "    <tr>\n",
       "      <th>2</th>\n",
       "      <td>2020-04-17 05:22:45.549397</td>\n",
       "      <td>2020-04-17</td>\n",
       "      <td>5</td>\n",
       "      <td>True</td>\n",
       "      <td>False</td>\n",
       "      <td>working_day</td>\n",
       "    </tr>\n",
       "    <tr>\n",
       "      <th>3</th>\n",
       "      <td>2020-04-17 05:34:14.691200</td>\n",
       "      <td>2020-04-17</td>\n",
       "      <td>5</td>\n",
       "      <td>True</td>\n",
       "      <td>False</td>\n",
       "      <td>working_day</td>\n",
       "    </tr>\n",
       "    <tr>\n",
       "      <th>4</th>\n",
       "      <td>2020-04-17 05:34:24.422370</td>\n",
       "      <td>2020-04-17</td>\n",
       "      <td>5</td>\n",
       "      <td>True</td>\n",
       "      <td>False</td>\n",
       "      <td>working_day</td>\n",
       "    </tr>\n",
       "  </tbody>\n",
       "</table>\n",
       "</div>"
      ],
      "text/plain": [
       "                   timestamp        date  hour    am     pm       target\n",
       "0 2020-04-17 05:19:02.744528  2020-04-17     5  True  False  working_day\n",
       "1 2020-04-17 05:22:35.249331  2020-04-17     5  True  False  working_day\n",
       "2 2020-04-17 05:22:45.549397  2020-04-17     5  True  False  working_day\n",
       "3 2020-04-17 05:34:14.691200  2020-04-17     5  True  False  working_day\n",
       "4 2020-04-17 05:34:24.422370  2020-04-17     5  True  False  working_day"
      ]
     },
     "execution_count": 5,
     "metadata": {},
     "output_type": "execute_result"
    }
   ],
   "source": [
    "df.head()"
   ]
  },
  {
   "cell_type": "code",
   "execution_count": 6,
   "metadata": {
    "colab": {
     "base_uri": "https://localhost:8080/",
     "height": 1000
    },
    "executionInfo": {
     "elapsed": 17,
     "status": "ok",
     "timestamp": 1665082588511,
     "user": {
      "displayName": "Ирина Исайкина",
      "userId": "07624164943752334843"
     },
     "user_tz": -180
    },
    "id": "npkvN8AyJ7AP",
    "outputId": "12c4e466-eca9-475b-97dd-a4eaa814f4db"
   },
   "outputs": [
    {
     "data": {
      "text/html": [
       "<div>\n",
       "<style scoped>\n",
       "    .dataframe tbody tr th:only-of-type {\n",
       "        vertical-align: middle;\n",
       "    }\n",
       "\n",
       "    .dataframe tbody tr th {\n",
       "        vertical-align: top;\n",
       "    }\n",
       "\n",
       "    .dataframe thead th {\n",
       "        text-align: right;\n",
       "    }\n",
       "</style>\n",
       "<table border=\"1\" class=\"dataframe\">\n",
       "  <thead>\n",
       "    <tr style=\"text-align: right;\">\n",
       "      <th></th>\n",
       "      <th>date</th>\n",
       "      <th>target</th>\n",
       "      <th>am</th>\n",
       "      <th>pm</th>\n",
       "    </tr>\n",
       "  </thead>\n",
       "  <tbody>\n",
       "    <tr>\n",
       "      <th>0</th>\n",
       "      <td>2020-04-17</td>\n",
       "      <td>working_day</td>\n",
       "      <td>21</td>\n",
       "      <td>2</td>\n",
       "    </tr>\n",
       "    <tr>\n",
       "      <th>1</th>\n",
       "      <td>2020-04-18</td>\n",
       "      <td>weekend</td>\n",
       "      <td>1</td>\n",
       "      <td>68</td>\n",
       "    </tr>\n",
       "    <tr>\n",
       "      <th>2</th>\n",
       "      <td>2020-04-19</td>\n",
       "      <td>weekend</td>\n",
       "      <td>18</td>\n",
       "      <td>15</td>\n",
       "    </tr>\n",
       "    <tr>\n",
       "      <th>3</th>\n",
       "      <td>2020-04-20</td>\n",
       "      <td>working_day</td>\n",
       "      <td>2</td>\n",
       "      <td>23</td>\n",
       "    </tr>\n",
       "    <tr>\n",
       "      <th>4</th>\n",
       "      <td>2020-04-21</td>\n",
       "      <td>working_day</td>\n",
       "      <td>0</td>\n",
       "      <td>25</td>\n",
       "    </tr>\n",
       "    <tr>\n",
       "      <th>5</th>\n",
       "      <td>2020-04-22</td>\n",
       "      <td>working_day</td>\n",
       "      <td>0</td>\n",
       "      <td>28</td>\n",
       "    </tr>\n",
       "    <tr>\n",
       "      <th>6</th>\n",
       "      <td>2020-04-23</td>\n",
       "      <td>working_day</td>\n",
       "      <td>10</td>\n",
       "      <td>33</td>\n",
       "    </tr>\n",
       "    <tr>\n",
       "      <th>7</th>\n",
       "      <td>2020-04-24</td>\n",
       "      <td>working_day</td>\n",
       "      <td>2</td>\n",
       "      <td>14</td>\n",
       "    </tr>\n",
       "    <tr>\n",
       "      <th>8</th>\n",
       "      <td>2020-04-25</td>\n",
       "      <td>weekend</td>\n",
       "      <td>30</td>\n",
       "      <td>74</td>\n",
       "    </tr>\n",
       "    <tr>\n",
       "      <th>9</th>\n",
       "      <td>2020-04-26</td>\n",
       "      <td>weekend</td>\n",
       "      <td>28</td>\n",
       "      <td>233</td>\n",
       "    </tr>\n",
       "    <tr>\n",
       "      <th>10</th>\n",
       "      <td>2020-04-27</td>\n",
       "      <td>working_day</td>\n",
       "      <td>4</td>\n",
       "      <td>2</td>\n",
       "    </tr>\n",
       "    <tr>\n",
       "      <th>11</th>\n",
       "      <td>2020-04-28</td>\n",
       "      <td>working_day</td>\n",
       "      <td>4</td>\n",
       "      <td>1</td>\n",
       "    </tr>\n",
       "    <tr>\n",
       "      <th>12</th>\n",
       "      <td>2020-04-29</td>\n",
       "      <td>working_day</td>\n",
       "      <td>0</td>\n",
       "      <td>17</td>\n",
       "    </tr>\n",
       "    <tr>\n",
       "      <th>13</th>\n",
       "      <td>2020-04-30</td>\n",
       "      <td>working_day</td>\n",
       "      <td>13</td>\n",
       "      <td>40</td>\n",
       "    </tr>\n",
       "    <tr>\n",
       "      <th>14</th>\n",
       "      <td>2020-05-01</td>\n",
       "      <td>working_day</td>\n",
       "      <td>8</td>\n",
       "      <td>52</td>\n",
       "    </tr>\n",
       "    <tr>\n",
       "      <th>15</th>\n",
       "      <td>2020-05-02</td>\n",
       "      <td>weekend</td>\n",
       "      <td>91</td>\n",
       "      <td>151</td>\n",
       "    </tr>\n",
       "    <tr>\n",
       "      <th>16</th>\n",
       "      <td>2020-05-03</td>\n",
       "      <td>weekend</td>\n",
       "      <td>47</td>\n",
       "      <td>133</td>\n",
       "    </tr>\n",
       "    <tr>\n",
       "      <th>17</th>\n",
       "      <td>2020-05-04</td>\n",
       "      <td>working_day</td>\n",
       "      <td>11</td>\n",
       "      <td>26</td>\n",
       "    </tr>\n",
       "    <tr>\n",
       "      <th>18</th>\n",
       "      <td>2020-05-05</td>\n",
       "      <td>working_day</td>\n",
       "      <td>81</td>\n",
       "      <td>58</td>\n",
       "    </tr>\n",
       "    <tr>\n",
       "      <th>19</th>\n",
       "      <td>2020-05-06</td>\n",
       "      <td>working_day</td>\n",
       "      <td>2</td>\n",
       "      <td>0</td>\n",
       "    </tr>\n",
       "    <tr>\n",
       "      <th>20</th>\n",
       "      <td>2020-05-07</td>\n",
       "      <td>working_day</td>\n",
       "      <td>14</td>\n",
       "      <td>38</td>\n",
       "    </tr>\n",
       "    <tr>\n",
       "      <th>21</th>\n",
       "      <td>2020-05-08</td>\n",
       "      <td>working_day</td>\n",
       "      <td>3</td>\n",
       "      <td>84</td>\n",
       "    </tr>\n",
       "    <tr>\n",
       "      <th>22</th>\n",
       "      <td>2020-05-09</td>\n",
       "      <td>weekend</td>\n",
       "      <td>0</td>\n",
       "      <td>86</td>\n",
       "    </tr>\n",
       "    <tr>\n",
       "      <th>23</th>\n",
       "      <td>2020-05-10</td>\n",
       "      <td>weekend</td>\n",
       "      <td>10</td>\n",
       "      <td>133</td>\n",
       "    </tr>\n",
       "    <tr>\n",
       "      <th>24</th>\n",
       "      <td>2020-05-11</td>\n",
       "      <td>working_day</td>\n",
       "      <td>3</td>\n",
       "      <td>183</td>\n",
       "    </tr>\n",
       "    <tr>\n",
       "      <th>25</th>\n",
       "      <td>2020-05-12</td>\n",
       "      <td>working_day</td>\n",
       "      <td>56</td>\n",
       "      <td>267</td>\n",
       "    </tr>\n",
       "    <tr>\n",
       "      <th>26</th>\n",
       "      <td>2020-05-13</td>\n",
       "      <td>working_day</td>\n",
       "      <td>6</td>\n",
       "      <td>205</td>\n",
       "    </tr>\n",
       "    <tr>\n",
       "      <th>27</th>\n",
       "      <td>2020-05-14</td>\n",
       "      <td>working_day</td>\n",
       "      <td>66</td>\n",
       "      <td>509</td>\n",
       "    </tr>\n",
       "    <tr>\n",
       "      <th>28</th>\n",
       "      <td>2020-05-15</td>\n",
       "      <td>working_day</td>\n",
       "      <td>10</td>\n",
       "      <td>0</td>\n",
       "    </tr>\n",
       "    <tr>\n",
       "      <th>29</th>\n",
       "      <td>2020-05-16</td>\n",
       "      <td>weekend</td>\n",
       "      <td>0</td>\n",
       "      <td>4</td>\n",
       "    </tr>\n",
       "    <tr>\n",
       "      <th>30</th>\n",
       "      <td>2020-05-17</td>\n",
       "      <td>weekend</td>\n",
       "      <td>2</td>\n",
       "      <td>46</td>\n",
       "    </tr>\n",
       "    <tr>\n",
       "      <th>31</th>\n",
       "      <td>2020-05-18</td>\n",
       "      <td>working_day</td>\n",
       "      <td>0</td>\n",
       "      <td>3</td>\n",
       "    </tr>\n",
       "    <tr>\n",
       "      <th>32</th>\n",
       "      <td>2020-05-19</td>\n",
       "      <td>working_day</td>\n",
       "      <td>20</td>\n",
       "      <td>14</td>\n",
       "    </tr>\n",
       "    <tr>\n",
       "      <th>33</th>\n",
       "      <td>2020-05-20</td>\n",
       "      <td>working_day</td>\n",
       "      <td>7</td>\n",
       "      <td>21</td>\n",
       "    </tr>\n",
       "    <tr>\n",
       "      <th>34</th>\n",
       "      <td>2020-05-21</td>\n",
       "      <td>working_day</td>\n",
       "      <td>1</td>\n",
       "      <td>48</td>\n",
       "    </tr>\n",
       "  </tbody>\n",
       "</table>\n",
       "</div>"
      ],
      "text/plain": [
       "          date       target  am   pm\n",
       "0   2020-04-17  working_day  21    2\n",
       "1   2020-04-18      weekend   1   68\n",
       "2   2020-04-19      weekend  18   15\n",
       "3   2020-04-20  working_day   2   23\n",
       "4   2020-04-21  working_day   0   25\n",
       "5   2020-04-22  working_day   0   28\n",
       "6   2020-04-23  working_day  10   33\n",
       "7   2020-04-24  working_day   2   14\n",
       "8   2020-04-25      weekend  30   74\n",
       "9   2020-04-26      weekend  28  233\n",
       "10  2020-04-27  working_day   4    2\n",
       "11  2020-04-28  working_day   4    1\n",
       "12  2020-04-29  working_day   0   17\n",
       "13  2020-04-30  working_day  13   40\n",
       "14  2020-05-01  working_day   8   52\n",
       "15  2020-05-02      weekend  91  151\n",
       "16  2020-05-03      weekend  47  133\n",
       "17  2020-05-04  working_day  11   26\n",
       "18  2020-05-05  working_day  81   58\n",
       "19  2020-05-06  working_day   2    0\n",
       "20  2020-05-07  working_day  14   38\n",
       "21  2020-05-08  working_day   3   84\n",
       "22  2020-05-09      weekend   0   86\n",
       "23  2020-05-10      weekend  10  133\n",
       "24  2020-05-11  working_day   3  183\n",
       "25  2020-05-12  working_day  56  267\n",
       "26  2020-05-13  working_day   6  205\n",
       "27  2020-05-14  working_day  66  509\n",
       "28  2020-05-15  working_day  10    0\n",
       "29  2020-05-16      weekend   0    4\n",
       "30  2020-05-17      weekend   2   46\n",
       "31  2020-05-18  working_day   0    3\n",
       "32  2020-05-19  working_day  20   14\n",
       "33  2020-05-20  working_day   7   21\n",
       "34  2020-05-21  working_day   1   48"
      ]
     },
     "execution_count": 6,
     "metadata": {},
     "output_type": "execute_result"
    }
   ],
   "source": [
    "df = df.groupby(by=['date', 'target'], as_index=False).agg({'am':'sum', 'pm':'sum'})\n",
    "df"
   ]
  },
  {
   "cell_type": "markdown",
   "metadata": {
    "id": "cgS51pjZ_0c9"
   },
   "source": [
    "## 2. Разведочный анализ"
   ]
  },
  {
   "cell_type": "markdown",
   "metadata": {
    "id": "b_-_6o2c_0c9"
   },
   "source": [
    "- Создайте график, где ось икс – это `am`, а ось игрек – это `pm`. Каждая точка – это конкретный день. Рабочие дни и выходные должны иметь разные цвета на графике.\n",
    "\n",
    "- Глядя на график, как вы думаете будет ли просто классифицировать дни, используя только эти два признака? Напишите свой ответ в markdown-ячейке в конце этой секции: \"да, это легко\" или \"нет, это нелегко\"."
   ]
  },
  {
   "cell_type": "markdown",
   "metadata": {
    "id": "Dqp32RDhPVCV"
   },
   "source": [
    "- [seaborn.scatterplot](https://seaborn.pydata.org/generated/seaborn.scatterplot.html)"
   ]
  },
  {
   "cell_type": "code",
   "execution_count": 7,
   "metadata": {
    "colab": {
     "base_uri": "https://localhost:8080/",
     "height": 296
    },
    "executionInfo": {
     "elapsed": 15,
     "status": "ok",
     "timestamp": 1665082588511,
     "user": {
      "displayName": "Ирина Исайкина",
      "userId": "07624164943752334843"
     },
     "user_tz": -180
    },
    "id": "Pg5vnFJd_0c9",
    "outputId": "0714be12-560a-436f-9330-5f53daa4411c"
   },
   "outputs": [
    {
     "data": {
      "text/plain": [
       "<AxesSubplot:xlabel='am', ylabel='pm'>"
      ]
     },
     "execution_count": 7,
     "metadata": {},
     "output_type": "execute_result"
    },
    {
     "data": {
      "image/png": "[encoded data removed]",
      "text/plain": [
       "<Figure size 432x288 with 1 Axes>"
      ]
     },
     "metadata": {
      "needs_background": "light"
     },
     "output_type": "display_data"
    }
   ],
   "source": [
    "sns.scatterplot(data=df, x='am', y='pm', hue='target')"
   ]
  },
  {
   "cell_type": "markdown",
   "metadata": {
    "id": "Y-2GsFxZ_0c-"
   },
   "source": [
    "**Ответ:**\n",
    "\n",
    "      \"нет, это нелегко\""
   ]
  },
  {
   "cell_type": "markdown",
   "metadata": {
    "id": "9hTOCK6t_0c-"
   },
   "source": [
    "## 3. Логистическая регрессия"
   ]
  },
  {
   "cell_type": "code",
   "execution_count": 8,
   "metadata": {
    "executionInfo": {
     "elapsed": 9,
     "status": "ok",
     "timestamp": 1665082588512,
     "user": {
      "displayName": "Ирина Исайкина",
      "userId": "07624164943752334843"
     },
     "user_tz": -180
    },
    "id": "7yTc6N97_0c-"
   },
   "outputs": [],
   "source": [
    "from sklearn.linear_model import LogisticRegression"
   ]
  },
  {
   "cell_type": "markdown",
   "metadata": {
    "id": "r5qx6gZU_0c-"
   },
   "source": [
    "- Обучите логистическую регрессию, используя в качестве признаков `am` и `pm`. Учтите параметры: `random state=21`, `fit_intercept=False`.\n",
    "\n"
   ]
  },
  {
   "cell_type": "code",
   "execution_count": 9,
   "metadata": {
    "executionInfo": {
     "elapsed": 397,
     "status": "ok",
     "timestamp": 1665082863735,
     "user": {
      "displayName": "Ирина Исайкина",
      "userId": "07624164943752334843"
     },
     "user_tz": -180
    },
    "id": "tmJyzy5R_0c_"
   },
   "outputs": [],
   "source": [
    "logreg = LogisticRegression(random_state=21, fit_intercept=False).fit(df[['am', 'pm']], df.target)"
   ]
  },
  {
   "cell_type": "markdown",
   "metadata": {
    "id": "h0fDCl6nrK85"
   },
   "source": [
    "- Сделайте предсказания в отношении каждого дня из вашего датасета и сохраните эти значения в датафрейм, в новый столбец `predict`.\n"
   ]
  },
  {
   "cell_type": "code",
   "execution_count": 10,
   "metadata": {
    "colab": {
     "base_uri": "https://localhost:8080/",
     "height": 1000
    },
    "executionInfo": {
     "elapsed": 362,
     "status": "ok",
     "timestamp": 1665082969572,
     "user": {
      "displayName": "Ирина Исайкина",
      "userId": "07624164943752334843"
     },
     "user_tz": -180
    },
    "id": "PNyHZ46S_0c_",
    "outputId": "7904a0f3-25a7-46fb-9e57-a0634a7a52fa"
   },
   "outputs": [
    {
     "data": {
      "text/html": [
       "<div>\n",
       "<style scoped>\n",
       "    .dataframe tbody tr th:only-of-type {\n",
       "        vertical-align: middle;\n",
       "    }\n",
       "\n",
       "    .dataframe tbody tr th {\n",
       "        vertical-align: top;\n",
       "    }\n",
       "\n",
       "    .dataframe thead th {\n",
       "        text-align: right;\n",
       "    }\n",
       "</style>\n",
       "<table border=\"1\" class=\"dataframe\">\n",
       "  <thead>\n",
       "    <tr style=\"text-align: right;\">\n",
       "      <th></th>\n",
       "      <th>date</th>\n",
       "      <th>target</th>\n",
       "      <th>am</th>\n",
       "      <th>pm</th>\n",
       "      <th>predict</th>\n",
       "    </tr>\n",
       "  </thead>\n",
       "  <tbody>\n",
       "    <tr>\n",
       "      <th>0</th>\n",
       "      <td>2020-04-17</td>\n",
       "      <td>working_day</td>\n",
       "      <td>21</td>\n",
       "      <td>2</td>\n",
       "      <td>weekend</td>\n",
       "    </tr>\n",
       "    <tr>\n",
       "      <th>1</th>\n",
       "      <td>2020-04-18</td>\n",
       "      <td>weekend</td>\n",
       "      <td>1</td>\n",
       "      <td>68</td>\n",
       "      <td>working_day</td>\n",
       "    </tr>\n",
       "    <tr>\n",
       "      <th>2</th>\n",
       "      <td>2020-04-19</td>\n",
       "      <td>weekend</td>\n",
       "      <td>18</td>\n",
       "      <td>15</td>\n",
       "      <td>working_day</td>\n",
       "    </tr>\n",
       "    <tr>\n",
       "      <th>3</th>\n",
       "      <td>2020-04-20</td>\n",
       "      <td>working_day</td>\n",
       "      <td>2</td>\n",
       "      <td>23</td>\n",
       "      <td>working_day</td>\n",
       "    </tr>\n",
       "    <tr>\n",
       "      <th>4</th>\n",
       "      <td>2020-04-21</td>\n",
       "      <td>working_day</td>\n",
       "      <td>0</td>\n",
       "      <td>25</td>\n",
       "      <td>working_day</td>\n",
       "    </tr>\n",
       "    <tr>\n",
       "      <th>5</th>\n",
       "      <td>2020-04-22</td>\n",
       "      <td>working_day</td>\n",
       "      <td>0</td>\n",
       "      <td>28</td>\n",
       "      <td>working_day</td>\n",
       "    </tr>\n",
       "    <tr>\n",
       "      <th>6</th>\n",
       "      <td>2020-04-23</td>\n",
       "      <td>working_day</td>\n",
       "      <td>10</td>\n",
       "      <td>33</td>\n",
       "      <td>working_day</td>\n",
       "    </tr>\n",
       "    <tr>\n",
       "      <th>7</th>\n",
       "      <td>2020-04-24</td>\n",
       "      <td>working_day</td>\n",
       "      <td>2</td>\n",
       "      <td>14</td>\n",
       "      <td>working_day</td>\n",
       "    </tr>\n",
       "    <tr>\n",
       "      <th>8</th>\n",
       "      <td>2020-04-25</td>\n",
       "      <td>weekend</td>\n",
       "      <td>30</td>\n",
       "      <td>74</td>\n",
       "      <td>working_day</td>\n",
       "    </tr>\n",
       "    <tr>\n",
       "      <th>9</th>\n",
       "      <td>2020-04-26</td>\n",
       "      <td>weekend</td>\n",
       "      <td>28</td>\n",
       "      <td>233</td>\n",
       "      <td>working_day</td>\n",
       "    </tr>\n",
       "    <tr>\n",
       "      <th>10</th>\n",
       "      <td>2020-04-27</td>\n",
       "      <td>working_day</td>\n",
       "      <td>4</td>\n",
       "      <td>2</td>\n",
       "      <td>working_day</td>\n",
       "    </tr>\n",
       "    <tr>\n",
       "      <th>11</th>\n",
       "      <td>2020-04-28</td>\n",
       "      <td>working_day</td>\n",
       "      <td>4</td>\n",
       "      <td>1</td>\n",
       "      <td>working_day</td>\n",
       "    </tr>\n",
       "    <tr>\n",
       "      <th>12</th>\n",
       "      <td>2020-04-29</td>\n",
       "      <td>working_day</td>\n",
       "      <td>0</td>\n",
       "      <td>17</td>\n",
       "      <td>working_day</td>\n",
       "    </tr>\n",
       "    <tr>\n",
       "      <th>13</th>\n",
       "      <td>2020-04-30</td>\n",
       "      <td>working_day</td>\n",
       "      <td>13</td>\n",
       "      <td>40</td>\n",
       "      <td>working_day</td>\n",
       "    </tr>\n",
       "    <tr>\n",
       "      <th>14</th>\n",
       "      <td>2020-05-01</td>\n",
       "      <td>working_day</td>\n",
       "      <td>8</td>\n",
       "      <td>52</td>\n",
       "      <td>working_day</td>\n",
       "    </tr>\n",
       "    <tr>\n",
       "      <th>15</th>\n",
       "      <td>2020-05-02</td>\n",
       "      <td>weekend</td>\n",
       "      <td>91</td>\n",
       "      <td>151</td>\n",
       "      <td>working_day</td>\n",
       "    </tr>\n",
       "    <tr>\n",
       "      <th>16</th>\n",
       "      <td>2020-05-03</td>\n",
       "      <td>weekend</td>\n",
       "      <td>47</td>\n",
       "      <td>133</td>\n",
       "      <td>working_day</td>\n",
       "    </tr>\n",
       "    <tr>\n",
       "      <th>17</th>\n",
       "      <td>2020-05-04</td>\n",
       "      <td>working_day</td>\n",
       "      <td>11</td>\n",
       "      <td>26</td>\n",
       "      <td>working_day</td>\n",
       "    </tr>\n",
       "    <tr>\n",
       "      <th>18</th>\n",
       "      <td>2020-05-05</td>\n",
       "      <td>working_day</td>\n",
       "      <td>81</td>\n",
       "      <td>58</td>\n",
       "      <td>working_day</td>\n",
       "    </tr>\n",
       "    <tr>\n",
       "      <th>19</th>\n",
       "      <td>2020-05-06</td>\n",
       "      <td>working_day</td>\n",
       "      <td>2</td>\n",
       "      <td>0</td>\n",
       "      <td>weekend</td>\n",
       "    </tr>\n",
       "    <tr>\n",
       "      <th>20</th>\n",
       "      <td>2020-05-07</td>\n",
       "      <td>working_day</td>\n",
       "      <td>14</td>\n",
       "      <td>38</td>\n",
       "      <td>working_day</td>\n",
       "    </tr>\n",
       "    <tr>\n",
       "      <th>21</th>\n",
       "      <td>2020-05-08</td>\n",
       "      <td>working_day</td>\n",
       "      <td>3</td>\n",
       "      <td>84</td>\n",
       "      <td>working_day</td>\n",
       "    </tr>\n",
       "    <tr>\n",
       "      <th>22</th>\n",
       "      <td>2020-05-09</td>\n",
       "      <td>weekend</td>\n",
       "      <td>0</td>\n",
       "      <td>86</td>\n",
       "      <td>working_day</td>\n",
       "    </tr>\n",
       "    <tr>\n",
       "      <th>23</th>\n",
       "      <td>2020-05-10</td>\n",
       "      <td>weekend</td>\n",
       "      <td>10</td>\n",
       "      <td>133</td>\n",
       "      <td>working_day</td>\n",
       "    </tr>\n",
       "    <tr>\n",
       "      <th>24</th>\n",
       "      <td>2020-05-11</td>\n",
       "      <td>working_day</td>\n",
       "      <td>3</td>\n",
       "      <td>183</td>\n",
       "      <td>working_day</td>\n",
       "    </tr>\n",
       "    <tr>\n",
       "      <th>25</th>\n",
       "      <td>2020-05-12</td>\n",
       "      <td>working_day</td>\n",
       "      <td>56</td>\n",
       "      <td>267</td>\n",
       "      <td>working_day</td>\n",
       "    </tr>\n",
       "    <tr>\n",
       "      <th>26</th>\n",
       "      <td>2020-05-13</td>\n",
       "      <td>working_day</td>\n",
       "      <td>6</td>\n",
       "      <td>205</td>\n",
       "      <td>working_day</td>\n",
       "    </tr>\n",
       "    <tr>\n",
       "      <th>27</th>\n",
       "      <td>2020-05-14</td>\n",
       "      <td>working_day</td>\n",
       "      <td>66</td>\n",
       "      <td>509</td>\n",
       "      <td>working_day</td>\n",
       "    </tr>\n",
       "    <tr>\n",
       "      <th>28</th>\n",
       "      <td>2020-05-15</td>\n",
       "      <td>working_day</td>\n",
       "      <td>10</td>\n",
       "      <td>0</td>\n",
       "      <td>weekend</td>\n",
       "    </tr>\n",
       "    <tr>\n",
       "      <th>29</th>\n",
       "      <td>2020-05-16</td>\n",
       "      <td>weekend</td>\n",
       "      <td>0</td>\n",
       "      <td>4</td>\n",
       "      <td>working_day</td>\n",
       "    </tr>\n",
       "    <tr>\n",
       "      <th>30</th>\n",
       "      <td>2020-05-17</td>\n",
       "      <td>weekend</td>\n",
       "      <td>2</td>\n",
       "      <td>46</td>\n",
       "      <td>working_day</td>\n",
       "    </tr>\n",
       "    <tr>\n",
       "      <th>31</th>\n",
       "      <td>2020-05-18</td>\n",
       "      <td>working_day</td>\n",
       "      <td>0</td>\n",
       "      <td>3</td>\n",
       "      <td>working_day</td>\n",
       "    </tr>\n",
       "    <tr>\n",
       "      <th>32</th>\n",
       "      <td>2020-05-19</td>\n",
       "      <td>working_day</td>\n",
       "      <td>20</td>\n",
       "      <td>14</td>\n",
       "      <td>working_day</td>\n",
       "    </tr>\n",
       "    <tr>\n",
       "      <th>33</th>\n",
       "      <td>2020-05-20</td>\n",
       "      <td>working_day</td>\n",
       "      <td>7</td>\n",
       "      <td>21</td>\n",
       "      <td>working_day</td>\n",
       "    </tr>\n",
       "    <tr>\n",
       "      <th>34</th>\n",
       "      <td>2020-05-21</td>\n",
       "      <td>working_day</td>\n",
       "      <td>1</td>\n",
       "      <td>48</td>\n",
       "      <td>working_day</td>\n",
       "    </tr>\n",
       "  </tbody>\n",
       "</table>\n",
       "</div>"
      ],
      "text/plain": [
       "          date       target  am   pm      predict\n",
       "0   2020-04-17  working_day  21    2      weekend\n",
       "1   2020-04-18      weekend   1   68  working_day\n",
       "2   2020-04-19      weekend  18   15  working_day\n",
       "3   2020-04-20  working_day   2   23  working_day\n",
       "4   2020-04-21  working_day   0   25  working_day\n",
       "5   2020-04-22  working_day   0   28  working_day\n",
       "6   2020-04-23  working_day  10   33  working_day\n",
       "7   2020-04-24  working_day   2   14  working_day\n",
       "8   2020-04-25      weekend  30   74  working_day\n",
       "9   2020-04-26      weekend  28  233  working_day\n",
       "10  2020-04-27  working_day   4    2  working_day\n",
       "11  2020-04-28  working_day   4    1  working_day\n",
       "12  2020-04-29  working_day   0   17  working_day\n",
       "13  2020-04-30  working_day  13   40  working_day\n",
       "14  2020-05-01  working_day   8   52  working_day\n",
       "15  2020-05-02      weekend  91  151  working_day\n",
       "16  2020-05-03      weekend  47  133  working_day\n",
       "17  2020-05-04  working_day  11   26  working_day\n",
       "18  2020-05-05  working_day  81   58  working_day\n",
       "19  2020-05-06  working_day   2    0      weekend\n",
       "20  2020-05-07  working_day  14   38  working_day\n",
       "21  2020-05-08  working_day   3   84  working_day\n",
       "22  2020-05-09      weekend   0   86  working_day\n",
       "23  2020-05-10      weekend  10  133  working_day\n",
       "24  2020-05-11  working_day   3  183  working_day\n",
       "25  2020-05-12  working_day  56  267  working_day\n",
       "26  2020-05-13  working_day   6  205  working_day\n",
       "27  2020-05-14  working_day  66  509  working_day\n",
       "28  2020-05-15  working_day  10    0      weekend\n",
       "29  2020-05-16      weekend   0    4  working_day\n",
       "30  2020-05-17      weekend   2   46  working_day\n",
       "31  2020-05-18  working_day   0    3  working_day\n",
       "32  2020-05-19  working_day  20   14  working_day\n",
       "33  2020-05-20  working_day   7   21  working_day\n",
       "34  2020-05-21  working_day   1   48  working_day"
      ]
     },
     "execution_count": 10,
     "metadata": {},
     "output_type": "execute_result"
    }
   ],
   "source": [
    "df['predict'] = logreg.predict(df[['am', 'pm']])\n",
    "df"
   ]
  },
  {
   "cell_type": "markdown",
   "metadata": {
    "id": "fhfdQYgSrmKr"
   },
   "source": [
    "- Сохраните датафрейм в файл в подпапку `data` под названием `am_pm.csv`.\n"
   ]
  },
  {
   "cell_type": "code",
   "execution_count": 12,
   "metadata": {
    "executionInfo": {
     "elapsed": 341,
     "status": "ok",
     "timestamp": 1665083158151,
     "user": {
      "displayName": "Ирина Исайкина",
      "userId": "07624164943752334843"
     },
     "user_tz": -180
    },
    "id": "ZmNKx97d_0c_"
   },
   "outputs": [],
   "source": [
    "df.to_csv('../data/am_pm.csv', index=False)"
   ]
  },
  {
   "cell_type": "markdown",
   "metadata": {
    "id": "i6wKuSXFsS34"
   },
   "source": [
    "- Постройте еще один график, как в прошлый раз, но теперь цвет должен опираться на значения столбца `predict`"
   ]
  },
  {
   "cell_type": "code",
   "execution_count": 13,
   "metadata": {
    "colab": {
     "base_uri": "https://localhost:8080/",
     "height": 296
    },
    "executionInfo": {
     "elapsed": 568,
     "status": "ok",
     "timestamp": 1665083223707,
     "user": {
      "displayName": "Ирина Исайкина",
      "userId": "07624164943752334843"
     },
     "user_tz": -180
    },
    "id": "6WTbZPSx_0dA",
    "outputId": "cc0cad2c-534d-427f-8bba-896b012f4fc9"
   },
   "outputs": [
    {
     "data": {
      "text/plain": [
       "<AxesSubplot:xlabel='am', ylabel='pm'>"
      ]
     },
     "execution_count": 13,
     "metadata": {},
     "output_type": "execute_result"
    },
    {
     "data": {
      "image/png": "[encoded data removed]",
      "text/plain": [
       "<Figure size 432x288 with 1 Axes>"
      ]
     },
     "metadata": {
      "needs_background": "light"
     },
     "output_type": "display_data"
    }
   ],
   "source": [
    "sns.scatterplot(data=df, x='am', y='pm', hue='predict')"
   ]
  },
  {
   "cell_type": "markdown",
   "metadata": {
    "id": "BxVXGw0qsgVm"
   },
   "source": [
    "\n",
    "- Глядя на график, как вы думаете: прогноз получился достаточно точный? Напишите свой ответ в markdown-ячейке в конце этой секции: \"да, это точно\" или \"нет, это неточно\"."
   ]
  },
  {
   "cell_type": "markdown",
   "metadata": {
    "id": "UcwEglB_shUk"
   },
   "source": [
    "**Ответ:**\n",
    "\n",
    "       \"нет, это неточно\""
   ]
  },
  {
   "cell_type": "markdown",
   "metadata": {
    "id": "Soh_08RP_0dC"
   },
   "source": [
    "## 4. Оценка модели"
   ]
  },
  {
   "cell_type": "markdown",
   "metadata": {
    "id": "dta9SeqxwFT9"
   },
   "source": [
    "- [sklearn.metrics.accuracy_score](https://scikit-learn.org/stable/modules/generated/sklearn.metrics.accuracy_score.html)"
   ]
  },
  {
   "cell_type": "code",
   "execution_count": 14,
   "metadata": {
    "executionInfo": {
     "elapsed": 365,
     "status": "ok",
     "timestamp": 1665083599064,
     "user": {
      "displayName": "Ирина Исайкина",
      "userId": "07624164943752334843"
     },
     "user_tz": -180
    },
    "id": "tyLCoUFIt18Z"
   },
   "outputs": [],
   "source": [
    " from sklearn.metrics import accuracy_score"
   ]
  },
  {
   "cell_type": "markdown",
   "metadata": {
    "id": "V0myWa1R_0dC"
   },
   "source": [
    "- Посчитайте `accuracy` прогнозов вашей модели.\n"
   ]
  },
  {
   "cell_type": "code",
   "execution_count": 15,
   "metadata": {
    "colab": {
     "base_uri": "https://localhost:8080/"
    },
    "executionInfo": {
     "elapsed": 323,
     "status": "ok",
     "timestamp": 1665083601423,
     "user": {
      "displayName": "Ирина Исайкина",
      "userId": "07624164943752334843"
     },
     "user_tz": -180
    },
    "id": "Pcmoj6yA_0dD",
    "outputId": "ad185d25-4f58-4866-9fd9-3c4685c508c9"
   },
   "outputs": [
    {
     "data": {
      "text/plain": [
       "0.6285714285714286"
      ]
     },
     "execution_count": 15,
     "metadata": {},
     "output_type": "execute_result"
    }
   ],
   "source": [
    "accuracy_score(df.target, df.predict)"
   ]
  },
  {
   "cell_type": "markdown",
   "metadata": {
    "id": "bJpIIeoeuBIG"
   },
   "source": [
    "\n",
    "- Посчитайте `accuracy` для наивного случая, когда ваш прогноз – это просто значение самого популярного класса дня для всех наблюдений.\n"
   ]
  },
  {
   "cell_type": "code",
   "execution_count": 16,
   "metadata": {
    "colab": {
     "base_uri": "https://localhost:8080/"
    },
    "executionInfo": {
     "elapsed": 444,
     "status": "ok",
     "timestamp": 1665084884940,
     "user": {
      "displayName": "Ирина Исайкина",
      "userId": "07624164943752334843"
     },
     "user_tz": -180
    },
    "id": "bntFmjPu_0dD",
    "outputId": "9247730b-0374-445a-f09f-7a4eca23eab4"
   },
   "outputs": [
    {
     "data": {
      "text/plain": [
       "working_day    25\n",
       "weekend        10\n",
       "Name: target, dtype: int64"
      ]
     },
     "execution_count": 16,
     "metadata": {},
     "output_type": "execute_result"
    }
   ],
   "source": [
    "df.target.value_counts()"
   ]
  },
  {
   "cell_type": "code",
   "execution_count": 17,
   "metadata": {
    "colab": {
     "base_uri": "https://localhost:8080/"
    },
    "executionInfo": {
     "elapsed": 336,
     "status": "ok",
     "timestamp": 1665084965543,
     "user": {
      "displayName": "Ирина Исайкина",
      "userId": "07624164943752334843"
     },
     "user_tz": -180
    },
    "id": "UCkS7Y0nyyUT",
    "outputId": "11c82bbf-e762-4c7a-a496-1ddf9cf8203f"
   },
   "outputs": [
    {
     "data": {
      "text/plain": [
       "0.7142857142857143"
      ]
     },
     "execution_count": 17,
     "metadata": {},
     "output_type": "execute_result"
    }
   ],
   "source": [
    "sum(df.target == 'working_day') /df.shape[0]"
   ]
  },
  {
   "cell_type": "markdown",
   "metadata": {
    "id": "hg1jBFQCySS1"
   },
   "source": [
    "\n",
    "- Сравнив значения этих двух метрик, как вам кажется, модель сделала точный прогноз? Напишите свой ответ в markdown-ячейке в конце этой секции: \"да, это точно\" или \"нет, это неточно\"."
   ]
  },
  {
   "cell_type": "markdown",
   "metadata": {
    "id": "KZymhMcg_0dD"
   },
   "source": [
    "**Ответ:**\n",
    "\n",
    "      \"нет, это неточно\""
   ]
  }
 ],
 "metadata": {
  "colab": {
   "provenance": []
  },
  "kernelspec": {
   "display_name": "Python 3 (ipykernel)",
   "language": "python",
   "name": "python3"
  },
  "language_info": {
   "codemirror_mode": {
    "name": "ipython",
    "version": 3
   },
   "file_extension": ".py",
   "mimetype": "text/x-python",
   "name": "python",
   "nbconvert_exporter": "python",
   "pygments_lexer": "ipython3",
   "version": "3.9.7"
  },
  "toc": {
   "base_numbering": 1,
   "nav_menu": {},
   "number_sections": true,
   "sideBar": true,
   "skip_h1_title": false,
   "title_cell": "Table of Contents",
   "title_sidebar": "Contents",
   "toc_cell": false,
   "toc_position": {},
   "toc_section_display": true,
   "toc_window_display": true
  }
 },
 "nbformat": 4,
 "nbformat_minor": 1
}
