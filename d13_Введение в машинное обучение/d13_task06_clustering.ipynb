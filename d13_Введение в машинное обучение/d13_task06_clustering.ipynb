{
 "cells": [
  {
   "cell_type": "markdown",
   "metadata": {
    "id": "IW-ZM_6qI9vC"
   },
   "source": [
    "# Day 13. Task 06\n",
    "# Кластеризация"
   ]
  },
  {
   "cell_type": "markdown",
   "metadata": {
    "id": "KpC_dV4wI9vF"
   },
   "source": [
    "## 0. Импорты"
   ]
  },
  {
   "cell_type": "code",
   "execution_count": 326,
   "metadata": {
    "id": "doEusjhfI9vF"
   },
   "outputs": [],
   "source": [
    "import pandas as pd\n",
    "import matplotlib.pyplot as plt"
   ]
  },
  {
   "cell_type": "markdown",
   "metadata": {
    "id": "9xbBFO-RI9vG"
   },
   "source": [
    "## 1. Препроцессинг"
   ]
  },
  {
   "cell_type": "markdown",
   "metadata": {
    "id": "lqcSJn69I9vG"
   },
   "source": [
    "**1. Загрузите файл из: `datasets/regression.csv`.**"
   ]
  },
  {
   "cell_type": "code",
   "execution_count": 327,
   "metadata": {
    "id": "0QFuN6PVI9vG"
   },
   "outputs": [
    {
     "data": {
      "text/html": [
       "<div>\n",
       "<style scoped>\n",
       "    .dataframe tbody tr th:only-of-type {\n",
       "        vertical-align: middle;\n",
       "    }\n",
       "\n",
       "    .dataframe tbody tr th {\n",
       "        vertical-align: top;\n",
       "    }\n",
       "\n",
       "    .dataframe thead th {\n",
       "        text-align: right;\n",
       "    }\n",
       "</style>\n",
       "<table border=\"1\" class=\"dataframe\">\n",
       "  <thead>\n",
       "    <tr style=\"text-align: right;\">\n",
       "      <th></th>\n",
       "      <th>uid</th>\n",
       "      <th>num_commits</th>\n",
       "      <th>pageviews</th>\n",
       "      <th>AVG(diff)</th>\n",
       "    </tr>\n",
       "  </thead>\n",
       "  <tbody>\n",
       "    <tr>\n",
       "      <th>0</th>\n",
       "      <td>user_1</td>\n",
       "      <td>62</td>\n",
       "      <td>28.0</td>\n",
       "      <td>-64.400000</td>\n",
       "    </tr>\n",
       "    <tr>\n",
       "      <th>1</th>\n",
       "      <td>user_10</td>\n",
       "      <td>20</td>\n",
       "      <td>89.0</td>\n",
       "      <td>-74.800000</td>\n",
       "    </tr>\n",
       "    <tr>\n",
       "      <th>2</th>\n",
       "      <td>user_14</td>\n",
       "      <td>61</td>\n",
       "      <td>143.0</td>\n",
       "      <td>-159.000000</td>\n",
       "    </tr>\n",
       "    <tr>\n",
       "      <th>3</th>\n",
       "      <td>user_17</td>\n",
       "      <td>51</td>\n",
       "      <td>47.0</td>\n",
       "      <td>-61.600000</td>\n",
       "    </tr>\n",
       "    <tr>\n",
       "      <th>4</th>\n",
       "      <td>user_18</td>\n",
       "      <td>5</td>\n",
       "      <td>3.0</td>\n",
       "      <td>-5.666667</td>\n",
       "    </tr>\n",
       "    <tr>\n",
       "      <th>5</th>\n",
       "      <td>user_19</td>\n",
       "      <td>118</td>\n",
       "      <td>16.0</td>\n",
       "      <td>-98.750000</td>\n",
       "    </tr>\n",
       "    <tr>\n",
       "      <th>6</th>\n",
       "      <td>user_21</td>\n",
       "      <td>65</td>\n",
       "      <td>10.0</td>\n",
       "      <td>-95.500000</td>\n",
       "    </tr>\n",
       "    <tr>\n",
       "      <th>7</th>\n",
       "      <td>user_25</td>\n",
       "      <td>79</td>\n",
       "      <td>179.0</td>\n",
       "      <td>-92.600000</td>\n",
       "    </tr>\n",
       "    <tr>\n",
       "      <th>8</th>\n",
       "      <td>user_28</td>\n",
       "      <td>60</td>\n",
       "      <td>149.0</td>\n",
       "      <td>-86.400000</td>\n",
       "    </tr>\n",
       "    <tr>\n",
       "      <th>9</th>\n",
       "      <td>user_3</td>\n",
       "      <td>18</td>\n",
       "      <td>317.0</td>\n",
       "      <td>-105.400000</td>\n",
       "    </tr>\n",
       "    <tr>\n",
       "      <th>10</th>\n",
       "      <td>user_30</td>\n",
       "      <td>34</td>\n",
       "      <td>3.0</td>\n",
       "      <td>-145.250000</td>\n",
       "    </tr>\n",
       "    <tr>\n",
       "      <th>11</th>\n",
       "      <td>user_11</td>\n",
       "      <td>7</td>\n",
       "      <td>0.0</td>\n",
       "      <td>-2.000000</td>\n",
       "    </tr>\n",
       "    <tr>\n",
       "      <th>12</th>\n",
       "      <td>user_12</td>\n",
       "      <td>86</td>\n",
       "      <td>0.0</td>\n",
       "      <td>-89.000000</td>\n",
       "    </tr>\n",
       "    <tr>\n",
       "      <th>13</th>\n",
       "      <td>user_13</td>\n",
       "      <td>52</td>\n",
       "      <td>0.0</td>\n",
       "      <td>-48.500000</td>\n",
       "    </tr>\n",
       "    <tr>\n",
       "      <th>14</th>\n",
       "      <td>user_15</td>\n",
       "      <td>23</td>\n",
       "      <td>0.0</td>\n",
       "      <td>-17.500000</td>\n",
       "    </tr>\n",
       "    <tr>\n",
       "      <th>15</th>\n",
       "      <td>user_16</td>\n",
       "      <td>41</td>\n",
       "      <td>0.0</td>\n",
       "      <td>-39.333333</td>\n",
       "    </tr>\n",
       "    <tr>\n",
       "      <th>16</th>\n",
       "      <td>user_2</td>\n",
       "      <td>46</td>\n",
       "      <td>0.0</td>\n",
       "      <td>-137.200000</td>\n",
       "    </tr>\n",
       "    <tr>\n",
       "      <th>17</th>\n",
       "      <td>user_20</td>\n",
       "      <td>57</td>\n",
       "      <td>0.0</td>\n",
       "      <td>-27.000000</td>\n",
       "    </tr>\n",
       "    <tr>\n",
       "      <th>18</th>\n",
       "      <td>user_22</td>\n",
       "      <td>5</td>\n",
       "      <td>0.0</td>\n",
       "      <td>-141.400000</td>\n",
       "    </tr>\n",
       "    <tr>\n",
       "      <th>19</th>\n",
       "      <td>user_23</td>\n",
       "      <td>6</td>\n",
       "      <td>0.0</td>\n",
       "      <td>-84.000000</td>\n",
       "    </tr>\n",
       "    <tr>\n",
       "      <th>20</th>\n",
       "      <td>user_24</td>\n",
       "      <td>37</td>\n",
       "      <td>0.0</td>\n",
       "      <td>-223.600000</td>\n",
       "    </tr>\n",
       "    <tr>\n",
       "      <th>21</th>\n",
       "      <td>user_26</td>\n",
       "      <td>36</td>\n",
       "      <td>0.0</td>\n",
       "      <td>-52.333333</td>\n",
       "    </tr>\n",
       "    <tr>\n",
       "      <th>22</th>\n",
       "      <td>user_27</td>\n",
       "      <td>27</td>\n",
       "      <td>0.0</td>\n",
       "      <td>-5.333333</td>\n",
       "    </tr>\n",
       "    <tr>\n",
       "      <th>23</th>\n",
       "      <td>user_29</td>\n",
       "      <td>51</td>\n",
       "      <td>0.0</td>\n",
       "      <td>-157.400000</td>\n",
       "    </tr>\n",
       "    <tr>\n",
       "      <th>24</th>\n",
       "      <td>user_31</td>\n",
       "      <td>128</td>\n",
       "      <td>0.0</td>\n",
       "      <td>-104.750000</td>\n",
       "    </tr>\n",
       "    <tr>\n",
       "      <th>25</th>\n",
       "      <td>user_4</td>\n",
       "      <td>40</td>\n",
       "      <td>0.0</td>\n",
       "      <td>-175.600000</td>\n",
       "    </tr>\n",
       "    <tr>\n",
       "      <th>26</th>\n",
       "      <td>user_6</td>\n",
       "      <td>15</td>\n",
       "      <td>0.0</td>\n",
       "      <td>-62.600000</td>\n",
       "    </tr>\n",
       "    <tr>\n",
       "      <th>27</th>\n",
       "      <td>user_7</td>\n",
       "      <td>8</td>\n",
       "      <td>0.0</td>\n",
       "      <td>-115.500000</td>\n",
       "    </tr>\n",
       "    <tr>\n",
       "      <th>28</th>\n",
       "      <td>user_8</td>\n",
       "      <td>71</td>\n",
       "      <td>0.0</td>\n",
       "      <td>-160.400000</td>\n",
       "    </tr>\n",
       "  </tbody>\n",
       "</table>\n",
       "</div>"
      ],
      "text/plain": [
       "        uid  num_commits  pageviews   AVG(diff)\n",
       "0    user_1           62       28.0  -64.400000\n",
       "1   user_10           20       89.0  -74.800000\n",
       "2   user_14           61      143.0 -159.000000\n",
       "3   user_17           51       47.0  -61.600000\n",
       "4   user_18            5        3.0   -5.666667\n",
       "5   user_19          118       16.0  -98.750000\n",
       "6   user_21           65       10.0  -95.500000\n",
       "7   user_25           79      179.0  -92.600000\n",
       "8   user_28           60      149.0  -86.400000\n",
       "9    user_3           18      317.0 -105.400000\n",
       "10  user_30           34        3.0 -145.250000\n",
       "11  user_11            7        0.0   -2.000000\n",
       "12  user_12           86        0.0  -89.000000\n",
       "13  user_13           52        0.0  -48.500000\n",
       "14  user_15           23        0.0  -17.500000\n",
       "15  user_16           41        0.0  -39.333333\n",
       "16   user_2           46        0.0 -137.200000\n",
       "17  user_20           57        0.0  -27.000000\n",
       "18  user_22            5        0.0 -141.400000\n",
       "19  user_23            6        0.0  -84.000000\n",
       "20  user_24           37        0.0 -223.600000\n",
       "21  user_26           36        0.0  -52.333333\n",
       "22  user_27           27        0.0   -5.333333\n",
       "23  user_29           51        0.0 -157.400000\n",
       "24  user_31          128        0.0 -104.750000\n",
       "25   user_4           40        0.0 -175.600000\n",
       "26   user_6           15        0.0  -62.600000\n",
       "27   user_7            8        0.0 -115.500000\n",
       "28   user_8           71        0.0 -160.400000"
      ]
     },
     "execution_count": 327,
     "metadata": {},
     "output_type": "execute_result"
    }
   ],
   "source": [
    "df = pd.read_csv('../data/regression.csv')\n",
    "df"
   ]
  },
  {
   "cell_type": "markdown",
   "metadata": {},
   "source": [
    "**2. Удалите столбец `pageviews`. Вы будете кластеризировать пользователей только по двум признакам: количеству коммитов и их средней разнице.**"
   ]
  },
  {
   "cell_type": "code",
   "execution_count": 328,
   "metadata": {
    "id": "kvq13XBkI9vH"
   },
   "outputs": [
    {
     "data": {
      "text/html": [
       "<div>\n",
       "<style scoped>\n",
       "    .dataframe tbody tr th:only-of-type {\n",
       "        vertical-align: middle;\n",
       "    }\n",
       "\n",
       "    .dataframe tbody tr th {\n",
       "        vertical-align: top;\n",
       "    }\n",
       "\n",
       "    .dataframe thead th {\n",
       "        text-align: right;\n",
       "    }\n",
       "</style>\n",
       "<table border=\"1\" class=\"dataframe\">\n",
       "  <thead>\n",
       "    <tr style=\"text-align: right;\">\n",
       "      <th></th>\n",
       "      <th>uid</th>\n",
       "      <th>num_commits</th>\n",
       "      <th>AVG(diff)</th>\n",
       "    </tr>\n",
       "  </thead>\n",
       "  <tbody>\n",
       "    <tr>\n",
       "      <th>0</th>\n",
       "      <td>user_1</td>\n",
       "      <td>62</td>\n",
       "      <td>-64.400000</td>\n",
       "    </tr>\n",
       "    <tr>\n",
       "      <th>1</th>\n",
       "      <td>user_10</td>\n",
       "      <td>20</td>\n",
       "      <td>-74.800000</td>\n",
       "    </tr>\n",
       "    <tr>\n",
       "      <th>2</th>\n",
       "      <td>user_14</td>\n",
       "      <td>61</td>\n",
       "      <td>-159.000000</td>\n",
       "    </tr>\n",
       "    <tr>\n",
       "      <th>3</th>\n",
       "      <td>user_17</td>\n",
       "      <td>51</td>\n",
       "      <td>-61.600000</td>\n",
       "    </tr>\n",
       "    <tr>\n",
       "      <th>4</th>\n",
       "      <td>user_18</td>\n",
       "      <td>5</td>\n",
       "      <td>-5.666667</td>\n",
       "    </tr>\n",
       "    <tr>\n",
       "      <th>5</th>\n",
       "      <td>user_19</td>\n",
       "      <td>118</td>\n",
       "      <td>-98.750000</td>\n",
       "    </tr>\n",
       "    <tr>\n",
       "      <th>6</th>\n",
       "      <td>user_21</td>\n",
       "      <td>65</td>\n",
       "      <td>-95.500000</td>\n",
       "    </tr>\n",
       "    <tr>\n",
       "      <th>7</th>\n",
       "      <td>user_25</td>\n",
       "      <td>79</td>\n",
       "      <td>-92.600000</td>\n",
       "    </tr>\n",
       "    <tr>\n",
       "      <th>8</th>\n",
       "      <td>user_28</td>\n",
       "      <td>60</td>\n",
       "      <td>-86.400000</td>\n",
       "    </tr>\n",
       "    <tr>\n",
       "      <th>9</th>\n",
       "      <td>user_3</td>\n",
       "      <td>18</td>\n",
       "      <td>-105.400000</td>\n",
       "    </tr>\n",
       "    <tr>\n",
       "      <th>10</th>\n",
       "      <td>user_30</td>\n",
       "      <td>34</td>\n",
       "      <td>-145.250000</td>\n",
       "    </tr>\n",
       "    <tr>\n",
       "      <th>11</th>\n",
       "      <td>user_11</td>\n",
       "      <td>7</td>\n",
       "      <td>-2.000000</td>\n",
       "    </tr>\n",
       "    <tr>\n",
       "      <th>12</th>\n",
       "      <td>user_12</td>\n",
       "      <td>86</td>\n",
       "      <td>-89.000000</td>\n",
       "    </tr>\n",
       "    <tr>\n",
       "      <th>13</th>\n",
       "      <td>user_13</td>\n",
       "      <td>52</td>\n",
       "      <td>-48.500000</td>\n",
       "    </tr>\n",
       "    <tr>\n",
       "      <th>14</th>\n",
       "      <td>user_15</td>\n",
       "      <td>23</td>\n",
       "      <td>-17.500000</td>\n",
       "    </tr>\n",
       "    <tr>\n",
       "      <th>15</th>\n",
       "      <td>user_16</td>\n",
       "      <td>41</td>\n",
       "      <td>-39.333333</td>\n",
       "    </tr>\n",
       "    <tr>\n",
       "      <th>16</th>\n",
       "      <td>user_2</td>\n",
       "      <td>46</td>\n",
       "      <td>-137.200000</td>\n",
       "    </tr>\n",
       "    <tr>\n",
       "      <th>17</th>\n",
       "      <td>user_20</td>\n",
       "      <td>57</td>\n",
       "      <td>-27.000000</td>\n",
       "    </tr>\n",
       "    <tr>\n",
       "      <th>18</th>\n",
       "      <td>user_22</td>\n",
       "      <td>5</td>\n",
       "      <td>-141.400000</td>\n",
       "    </tr>\n",
       "    <tr>\n",
       "      <th>19</th>\n",
       "      <td>user_23</td>\n",
       "      <td>6</td>\n",
       "      <td>-84.000000</td>\n",
       "    </tr>\n",
       "    <tr>\n",
       "      <th>20</th>\n",
       "      <td>user_24</td>\n",
       "      <td>37</td>\n",
       "      <td>-223.600000</td>\n",
       "    </tr>\n",
       "    <tr>\n",
       "      <th>21</th>\n",
       "      <td>user_26</td>\n",
       "      <td>36</td>\n",
       "      <td>-52.333333</td>\n",
       "    </tr>\n",
       "    <tr>\n",
       "      <th>22</th>\n",
       "      <td>user_27</td>\n",
       "      <td>27</td>\n",
       "      <td>-5.333333</td>\n",
       "    </tr>\n",
       "    <tr>\n",
       "      <th>23</th>\n",
       "      <td>user_29</td>\n",
       "      <td>51</td>\n",
       "      <td>-157.400000</td>\n",
       "    </tr>\n",
       "    <tr>\n",
       "      <th>24</th>\n",
       "      <td>user_31</td>\n",
       "      <td>128</td>\n",
       "      <td>-104.750000</td>\n",
       "    </tr>\n",
       "    <tr>\n",
       "      <th>25</th>\n",
       "      <td>user_4</td>\n",
       "      <td>40</td>\n",
       "      <td>-175.600000</td>\n",
       "    </tr>\n",
       "    <tr>\n",
       "      <th>26</th>\n",
       "      <td>user_6</td>\n",
       "      <td>15</td>\n",
       "      <td>-62.600000</td>\n",
       "    </tr>\n",
       "    <tr>\n",
       "      <th>27</th>\n",
       "      <td>user_7</td>\n",
       "      <td>8</td>\n",
       "      <td>-115.500000</td>\n",
       "    </tr>\n",
       "    <tr>\n",
       "      <th>28</th>\n",
       "      <td>user_8</td>\n",
       "      <td>71</td>\n",
       "      <td>-160.400000</td>\n",
       "    </tr>\n",
       "  </tbody>\n",
       "</table>\n",
       "</div>"
      ],
      "text/plain": [
       "        uid  num_commits   AVG(diff)\n",
       "0    user_1           62  -64.400000\n",
       "1   user_10           20  -74.800000\n",
       "2   user_14           61 -159.000000\n",
       "3   user_17           51  -61.600000\n",
       "4   user_18            5   -5.666667\n",
       "5   user_19          118  -98.750000\n",
       "6   user_21           65  -95.500000\n",
       "7   user_25           79  -92.600000\n",
       "8   user_28           60  -86.400000\n",
       "9    user_3           18 -105.400000\n",
       "10  user_30           34 -145.250000\n",
       "11  user_11            7   -2.000000\n",
       "12  user_12           86  -89.000000\n",
       "13  user_13           52  -48.500000\n",
       "14  user_15           23  -17.500000\n",
       "15  user_16           41  -39.333333\n",
       "16   user_2           46 -137.200000\n",
       "17  user_20           57  -27.000000\n",
       "18  user_22            5 -141.400000\n",
       "19  user_23            6  -84.000000\n",
       "20  user_24           37 -223.600000\n",
       "21  user_26           36  -52.333333\n",
       "22  user_27           27   -5.333333\n",
       "23  user_29           51 -157.400000\n",
       "24  user_31          128 -104.750000\n",
       "25   user_4           40 -175.600000\n",
       "26   user_6           15  -62.600000\n",
       "27   user_7            8 -115.500000\n",
       "28   user_8           71 -160.400000"
      ]
     },
     "execution_count": 328,
     "metadata": {},
     "output_type": "execute_result"
    }
   ],
   "source": [
    "df = df.drop(columns='pageviews')\n",
    "df"
   ]
  },
  {
   "cell_type": "code",
   "execution_count": 329,
   "metadata": {},
   "outputs": [
    {
     "data": {
      "text/plain": [
       "array([[  62.        ,  -64.4       ],\n",
       "       [  20.        ,  -74.8       ],\n",
       "       [  61.        , -159.        ],\n",
       "       [  51.        ,  -61.6       ],\n",
       "       [   5.        ,   -5.66666667],\n",
       "       [ 118.        ,  -98.75      ],\n",
       "       [  65.        ,  -95.5       ],\n",
       "       [  79.        ,  -92.6       ],\n",
       "       [  60.        ,  -86.4       ],\n",
       "       [  18.        , -105.4       ],\n",
       "       [  34.        , -145.25      ],\n",
       "       [   7.        ,   -2.        ],\n",
       "       [  86.        ,  -89.        ],\n",
       "       [  52.        ,  -48.5       ],\n",
       "       [  23.        ,  -17.5       ],\n",
       "       [  41.        ,  -39.33333333],\n",
       "       [  46.        , -137.2       ],\n",
       "       [  57.        ,  -27.        ],\n",
       "       [   5.        , -141.4       ],\n",
       "       [   6.        ,  -84.        ],\n",
       "       [  37.        , -223.6       ],\n",
       "       [  36.        ,  -52.33333333],\n",
       "       [  27.        ,   -5.33333333],\n",
       "       [  51.        , -157.4       ],\n",
       "       [ 128.        , -104.75      ],\n",
       "       [  40.        , -175.6       ],\n",
       "       [  15.        ,  -62.6       ],\n",
       "       [   8.        , -115.5       ],\n",
       "       [  71.        , -160.4       ]])"
      ]
     },
     "execution_count": 329,
     "metadata": {},
     "output_type": "execute_result"
    }
   ],
   "source": [
    "X = df[['num_commits', 'AVG(diff)']].values\n",
    "X"
   ]
  },
  {
   "cell_type": "markdown",
   "metadata": {
    "id": "87wk7XpSI9vH"
   },
   "source": [
    "## 2. KMeans"
   ]
  },
  {
   "cell_type": "markdown",
   "metadata": {
    "id": "cdySENr4I9vH"
   },
   "source": [
    "**1. Изучите документацию о том, как работает этот алгоритм.**"
   ]
  },
  {
   "cell_type": "markdown",
   "metadata": {},
   "source": [
    "- [sklearn.cluster.KMeans](https://scikit-learn.org/stable/modules/generated/sklearn.cluster.KMeans.html)\n",
    "\n",
    "- [2.3. Кластеризация](https://scikit-learn.org/stable/modules/clustering.html)"
   ]
  },
  {
   "cell_type": "markdown",
   "metadata": {
    "id": "vPLC095QI9vH"
   },
   "source": [
    "**2. Воспользуйтесь этим алгоритмом, чтобы создать кластера, используя параметры `random_state=21` и `n_clusters=3`.**"
   ]
  },
  {
   "cell_type": "code",
   "execution_count": 330,
   "metadata": {
    "id": "q7p5_nGjI9vI"
   },
   "outputs": [],
   "source": [
    "from sklearn.cluster import KMeans"
   ]
  },
  {
   "cell_type": "code",
   "execution_count": 331,
   "metadata": {},
   "outputs": [],
   "source": [
    "kmeans = KMeans(n_clusters=3, random_state=21).fit(X)"
   ]
  },
  {
   "cell_type": "markdown",
   "metadata": {
    "id": "Zq6NWe7pI9vI"
   },
   "source": [
    "**3. Визуализируйте полученные данные и кластеры, используя `scatter plot`.**"
   ]
  },
  {
   "cell_type": "markdown",
   "metadata": {},
   "source": [
    "-[matplotlib.pyplot.scatter](https://matplotlib.org/stable/api/_as_gen/matplotlib.pyplot.scatter.html)"
   ]
  },
  {
   "cell_type": "code",
   "execution_count": 332,
   "metadata": {
    "id": "AYzah40gI9vI"
   },
   "outputs": [
    {
     "data": {
      "image/png": "[encoded data removed]",
      "text/plain": [
       "<Figure size 432x288 with 1 Axes>"
      ]
     },
     "metadata": {
      "needs_background": "light"
     },
     "output_type": "display_data"
    }
   ],
   "source": [
    "y_kmeans = kmeans.predict(X)\n",
    "\n",
    "plt.scatter(X[:, 0], X[:, 1], c=y_kmeans,\n",
    "            s=50, cmap='RdYlBu');\n",
    "\n",
    "centers = kmeans.cluster_centers_\n",
    "plt.title(\"KMeans, n_clusters=3\")\n",
    "plt.scatter(centers[:, 0], centers[:, 1], c='blue', s=500, alpha=0.5);"
   ]
  },
  {
   "cell_type": "markdown",
   "metadata": {},
   "source": [
    "**4. Попробуйте разные значения `n_clusters` и посмотрите, как изменится ваш график.**"
   ]
  },
  {
   "cell_type": "code",
   "execution_count": 333,
   "metadata": {},
   "outputs": [],
   "source": [
    "kmeans_8 = KMeans(n_clusters=8, random_state=21).fit(X)"
   ]
  },
  {
   "cell_type": "code",
   "execution_count": 334,
   "metadata": {},
   "outputs": [
    {
     "data": {
      "image/png": "[encoded data removed]",
      "text/plain": [
       "<Figure size 432x288 with 1 Axes>"
      ]
     },
     "metadata": {
      "needs_background": "light"
     },
     "output_type": "display_data"
    }
   ],
   "source": [
    "y_kmeans_8 = kmeans_8.predict(X)\n",
    "\n",
    "plt.scatter(X[:, 0], X[:, 1], c=y_kmeans_8,\n",
    "            s=50, cmap='RdYlBu'); # 'viridis', 'gist_rainbow'\n",
    "\n",
    "centers = kmeans_8.cluster_centers_\n",
    "plt.title(\"KMeans, n_clusters=8\")\n",
    "plt.scatter(centers[:, 0], centers[:, 1], c='blue', s=500, alpha=0.5);"
   ]
  },
  {
   "cell_type": "code",
   "execution_count": 335,
   "metadata": {},
   "outputs": [],
   "source": [
    "kmeans_5 = KMeans(n_clusters=5, random_state=21).fit(X)"
   ]
  },
  {
   "cell_type": "code",
   "execution_count": 336,
   "metadata": {},
   "outputs": [
    {
     "data": {
      "image/png": "[encoded data removed]",
      "text/plain": [
       "<Figure size 432x288 with 1 Axes>"
      ]
     },
     "metadata": {
      "needs_background": "light"
     },
     "output_type": "display_data"
    }
   ],
   "source": [
    "y_kmeans_5 = kmeans_5.predict(X)\n",
    "\n",
    "plt.scatter(X[:, 0], X[:, 1], c=y_kmeans_5,\n",
    "            s=50, cmap='RdYlBu'); # 'viridis', 'gist_rainbow'\n",
    "\n",
    "centers = kmeans_5.cluster_centers_\n",
    "plt.title(\"KMeans, n_clusters=5\")\n",
    "plt.scatter(centers[:, 0], centers[:, 1], c='blue', s=500, alpha=0.5);"
   ]
  },
  {
   "cell_type": "markdown",
   "metadata": {},
   "source": [
    "**5. Посчитайте `silhouette_score` для них (изучите документацию по этой метрике).**"
   ]
  },
  {
   "cell_type": "markdown",
   "metadata": {},
   "source": [
    "-[sklearn.metrics.silhouette_score¶](https://scikit-learn.org/stable/modules/generated/sklearn.metrics.silhouette_score.html)"
   ]
  },
  {
   "cell_type": "code",
   "execution_count": 337,
   "metadata": {},
   "outputs": [],
   "source": [
    "from sklearn.metrics import silhouette_score"
   ]
  },
  {
   "cell_type": "code",
   "execution_count": 338,
   "metadata": {},
   "outputs": [
    {
     "data": {
      "text/plain": [
       "0.4390170957153295"
      ]
     },
     "execution_count": 338,
     "metadata": {},
     "output_type": "execute_result"
    }
   ],
   "source": [
    "silhouette_score(X, y_kmeans) # n_clusters=3"
   ]
  },
  {
   "cell_type": "code",
   "execution_count": 339,
   "metadata": {},
   "outputs": [
    {
     "data": {
      "text/plain": [
       "0.5077985556562201"
      ]
     },
     "execution_count": 339,
     "metadata": {},
     "output_type": "execute_result"
    }
   ],
   "source": [
    "silhouette_score(X, y_kmeans_8)"
   ]
  },
  {
   "cell_type": "code",
   "execution_count": 340,
   "metadata": {},
   "outputs": [
    {
     "data": {
      "text/plain": [
       "0.44641001650786977"
      ]
     },
     "execution_count": 340,
     "metadata": {},
     "output_type": "execute_result"
    }
   ],
   "source": [
    "silhouette_score(X, y_kmeans_5)"
   ]
  },
  {
   "cell_type": "markdown",
   "metadata": {
    "id": "pAU7nYbDI9vI"
   },
   "source": [
    "## 3. DBSCAN"
   ]
  },
  {
   "cell_type": "markdown",
   "metadata": {
    "id": "iERDnt7pI9vI"
   },
   "source": [
    "**1. Изучите документацию о том, как работает этот алгоритм.**"
   ]
  },
  {
   "cell_type": "markdown",
   "metadata": {},
   "source": [
    "- [sklearn.cluster.DBSCAN](https://scikit-learn.org/stable/modules/generated/sklearn.cluster.DBSCAN.html)"
   ]
  },
  {
   "cell_type": "markdown",
   "metadata": {
    "id": "zMa8GNmzI9vJ"
   },
   "source": [
    "**2. Воспользуйтесь этим алгоритмом, чтобы создать кластера, используя параметры `eps=20` и `min_samples=2`.**"
   ]
  },
  {
   "cell_type": "code",
   "execution_count": 341,
   "metadata": {
    "id": "YSGdOPx2I9vJ"
   },
   "outputs": [],
   "source": [
    "from sklearn.cluster import DBSCAN"
   ]
  },
  {
   "cell_type": "code",
   "execution_count": 342,
   "metadata": {
    "id": "kD-nEXPEI9vJ"
   },
   "outputs": [],
   "source": [
    "clustering = DBSCAN(eps=20, min_samples=2).fit(X)"
   ]
  },
  {
   "cell_type": "code",
   "execution_count": 343,
   "metadata": {},
   "outputs": [],
   "source": [
    "#clustering.labels_"
   ]
  },
  {
   "cell_type": "code",
   "execution_count": 344,
   "metadata": {},
   "outputs": [],
   "source": [
    "#clustering.fit_predict(X)"
   ]
  },
  {
   "cell_type": "markdown",
   "metadata": {},
   "source": [
    "**3. Визуализируйте полученные данные и кластеры, используя `scatter plot`.**"
   ]
  },
  {
   "cell_type": "code",
   "execution_count": 345,
   "metadata": {},
   "outputs": [
    {
     "data": {
      "text/plain": [
       "Text(0.5, 1.0, 'DBSCAN, eps=20, min_samples=2')"
      ]
     },
     "execution_count": 345,
     "metadata": {},
     "output_type": "execute_result"
    },
    {
     "data": {
      "image/png": "[encoded data removed]",
      "text/plain": [
       "<Figure size 432x288 with 1 Axes>"
      ]
     },
     "metadata": {
      "needs_background": "light"
     },
     "output_type": "display_data"
    }
   ],
   "source": [
    "y_clustering = clustering.fit_predict(X)\n",
    "\n",
    "plt.scatter(X[:,0], X[:,1], c=y_clustering, cmap='RdYlBu')\n",
    "plt.title(\"DBSCAN, eps=20, min_samples=2\")"
   ]
  },
  {
   "cell_type": "markdown",
   "metadata": {},
   "source": [
    "**4. Попробуйте разные значения `eps` и `min_samples` и посмотрите, как изменится ваш график.**"
   ]
  },
  {
   "cell_type": "code",
   "execution_count": 346,
   "metadata": {},
   "outputs": [],
   "source": [
    "clustering_22_1 = DBSCAN(eps=22, min_samples=1).fit(X)"
   ]
  },
  {
   "cell_type": "code",
   "execution_count": 347,
   "metadata": {
    "id": "yIHo7ZHXI9vK"
   },
   "outputs": [
    {
     "data": {
      "text/plain": [
       "Text(0.5, 1.0, 'DBSCAN, eps=22, min_samples=1')"
      ]
     },
     "execution_count": 347,
     "metadata": {},
     "output_type": "execute_result"
    },
    {
     "data": {
      "image/png": "[encoded data removed]",
      "text/plain": [
       "<Figure size 432x288 with 1 Axes>"
      ]
     },
     "metadata": {
      "needs_background": "light"
     },
     "output_type": "display_data"
    }
   ],
   "source": [
    "y_clustering_22_1 = clustering_22_1.fit_predict(X)\n",
    "\n",
    "plt.scatter(X[:,0], X[:,1], c=y_clustering_22_1, cmap='RdYlBu')\n",
    "plt.title(\"DBSCAN, eps=22, min_samples=1\")"
   ]
  },
  {
   "cell_type": "code",
   "execution_count": 348,
   "metadata": {},
   "outputs": [],
   "source": [
    "clustering_30_2 = DBSCAN(eps=30, min_samples=2).fit(X)"
   ]
  },
  {
   "cell_type": "code",
   "execution_count": 349,
   "metadata": {},
   "outputs": [
    {
     "data": {
      "text/plain": [
       "Text(0.5, 1.0, 'DBSCAN, eps=30, min_samples=2')"
      ]
     },
     "execution_count": 349,
     "metadata": {},
     "output_type": "execute_result"
    },
    {
     "data": {
      "image/png": "[encoded data removed]",
      "text/plain": [
       "<Figure size 432x288 with 1 Axes>"
      ]
     },
     "metadata": {
      "needs_background": "light"
     },
     "output_type": "display_data"
    }
   ],
   "source": [
    "y_clustering_30_2 = clustering_30_2.fit_predict(X)\n",
    "\n",
    "plt.scatter(X[:,0], X[:,1], c=y_clustering_30_2, cmap='gist_rainbow')\n",
    "plt.title(\"DBSCAN, eps=30, min_samples=2\")"
   ]
  },
  {
   "cell_type": "markdown",
   "metadata": {},
   "source": [
    "**5. Посчитайте `silhouette_score` для них.**"
   ]
  },
  {
   "cell_type": "code",
   "execution_count": 350,
   "metadata": {},
   "outputs": [
    {
     "data": {
      "text/plain": [
       "0.38339641455696616"
      ]
     },
     "execution_count": 350,
     "metadata": {},
     "output_type": "execute_result"
    }
   ],
   "source": [
    "silhouette_score(X, y_clustering) # eps=20, min_samples=2"
   ]
  },
  {
   "cell_type": "code",
   "execution_count": 351,
   "metadata": {},
   "outputs": [
    {
     "data": {
      "text/plain": [
       "0.48713041554757475"
      ]
     },
     "execution_count": 351,
     "metadata": {},
     "output_type": "execute_result"
    }
   ],
   "source": [
    "silhouette_score(X, y_clustering_22_1) # eps=22, min_samples=1"
   ]
  },
  {
   "cell_type": "code",
   "execution_count": 352,
   "metadata": {},
   "outputs": [
    {
     "data": {
      "text/plain": [
       "0.19881722125199422"
      ]
     },
     "execution_count": 352,
     "metadata": {},
     "output_type": "execute_result"
    }
   ],
   "source": [
    "silhouette_score(X, y_clustering_30_2) # eps=30, min_samples=2"
   ]
  },
  {
   "cell_type": "markdown",
   "metadata": {
    "id": "ChN80omRI9vK"
   },
   "source": [
    "## 4. Иерархическая кластеризация (AgglomerativeClustering)"
   ]
  },
  {
   "cell_type": "markdown",
   "metadata": {
    "id": "CZYmTp-EI9vK"
   },
   "source": [
    "**1. Воспользуйтесь этим алгоритмом, чтобы создать кластера, используя параметры `n_clusters=5`.**"
   ]
  },
  {
   "cell_type": "markdown",
   "metadata": {
    "id": "VomrjURdI9vK"
   },
   "source": [
    "- [sklearn.cluster.AgglomerativeClustering¶](https://scikit-learn.org/stable/modules/generated/sklearn.cluster.AgglomerativeClustering.html)"
   ]
  },
  {
   "cell_type": "code",
   "execution_count": 353,
   "metadata": {
    "id": "iUJHbbjpI9vK"
   },
   "outputs": [],
   "source": [
    "from sklearn.cluster import AgglomerativeClustering"
   ]
  },
  {
   "cell_type": "code",
   "execution_count": 354,
   "metadata": {
    "id": "f9yZInN5I9vK"
   },
   "outputs": [],
   "source": [
    "clustering = AgglomerativeClustering(n_clusters=5).fit(X)"
   ]
  },
  {
   "cell_type": "markdown",
   "metadata": {
    "id": "8WOqDz-_I9vL"
   },
   "source": [
    "**2. Визуализируйте полученные данные и кластеры, используя `scatter plot`.**"
   ]
  },
  {
   "cell_type": "code",
   "execution_count": 355,
   "metadata": {
    "id": "x1yBC9VaI9vL"
   },
   "outputs": [
    {
     "data": {
      "image/png": "[encoded data removed]",
      "text/plain": [
       "<Figure size 432x288 with 1 Axes>"
      ]
     },
     "metadata": {
      "needs_background": "light"
     },
     "output_type": "display_data"
    }
   ],
   "source": [
    "plt.scatter(X[:,0], X[:,1], c=clustering.labels_, cmap='gist_rainbow')\n",
    "plt.title(\"AgglomerativeClustering, n_clusters=5\")\n",
    "plt.show()"
   ]
  },
  {
   "cell_type": "markdown",
   "metadata": {},
   "source": [
    "**3. Попробуйте разные значения `n_clusters` и посмотрите, как изменится ваш график.**"
   ]
  },
  {
   "cell_type": "code",
   "execution_count": 356,
   "metadata": {},
   "outputs": [
    {
     "data": {
      "image/png": "[encoded data removed]",
      "text/plain": [
       "<Figure size 432x288 with 1 Axes>"
      ]
     },
     "metadata": {
      "needs_background": "light"
     },
     "output_type": "display_data"
    }
   ],
   "source": [
    "clustering_2 = AgglomerativeClustering(n_clusters=2).fit(X)\n",
    "plt.scatter(X[:,0], X[:,1], c=clustering_2.labels_, cmap='gist_rainbow')\n",
    "plt.title(\"AgglomerativeClustering, n_clusters=5\")\n",
    "plt.show()"
   ]
  },
  {
   "cell_type": "code",
   "execution_count": 357,
   "metadata": {
    "id": "3KEcocRiI9vL"
   },
   "outputs": [
    {
     "data": {
      "image/png": "[encoded data removed]",
      "text/plain": [
       "<Figure size 432x288 with 1 Axes>"
      ]
     },
     "metadata": {
      "needs_background": "light"
     },
     "output_type": "display_data"
    }
   ],
   "source": [
    "clustering_10 = AgglomerativeClustering(n_clusters=10).fit(X)\n",
    "plt.scatter(X[:,0], X[:,1], c=clustering_10.labels_, cmap='gist_rainbow')\n",
    "plt.title(\"AgglomerativeClustering, n_clusters=5\")\n",
    "plt.show()"
   ]
  },
  {
   "cell_type": "markdown",
   "metadata": {},
   "source": [
    "**4. Посчитайте `silhouette_score` для них.**"
   ]
  },
  {
   "cell_type": "code",
   "execution_count": 358,
   "metadata": {},
   "outputs": [
    {
     "data": {
      "text/plain": [
       "0.46383015199381467"
      ]
     },
     "execution_count": 358,
     "metadata": {},
     "output_type": "execute_result"
    }
   ],
   "source": [
    "silhouette_score(X, clustering.labels_) # n_clusters=5"
   ]
  },
  {
   "cell_type": "code",
   "execution_count": 359,
   "metadata": {},
   "outputs": [
    {
     "data": {
      "text/plain": [
       "0.35902490572221984"
      ]
     },
     "execution_count": 359,
     "metadata": {},
     "output_type": "execute_result"
    }
   ],
   "source": [
    "silhouette_score(X, clustering_2.labels_) # n_clusters=2"
   ]
  },
  {
   "cell_type": "code",
   "execution_count": 360,
   "metadata": {},
   "outputs": [
    {
     "data": {
      "text/plain": [
       "0.431193930539333"
      ]
     },
     "execution_count": 360,
     "metadata": {},
     "output_type": "execute_result"
    }
   ],
   "source": [
    "silhouette_score(X, clustering_10.labels_) # n_clusters=10"
   ]
  },
  {
   "cell_type": "markdown",
   "metadata": {
    "id": "ZXhNRX34I9vL"
   },
   "source": [
    "**5. Визуализируйте дендрограмму (`dendrogram`).**"
   ]
  },
  {
   "cell_type": "markdown",
   "metadata": {},
   "source": [
    "- [Plot Hierarchical Clustering Dendrogram](https://scikit-learn.org/stable/auto_examples/cluster/plot_agglomerative_dendrogram.html)\n",
    "\n",
    "- [Постройте дендрограмму с помощью sklearn.AgglomerativeClustering](https://stackoverflow.com/questions/29127013/plot-dendrogram-using-sklearn-agglomerativeclustering)"
   ]
  },
  {
   "cell_type": "code",
   "execution_count": 367,
   "metadata": {},
   "outputs": [],
   "source": [
    "from scipy.cluster.hierarchy import dendrogram, linkage"
   ]
  },
  {
   "cell_type": "code",
   "execution_count": 368,
   "metadata": {},
   "outputs": [
    {
     "data": {
      "image/png": "[encoded data removed]",
      "text/plain": [
       "<Figure size 432x288 with 1 Axes>"
      ]
     },
     "metadata": {
      "needs_background": "light"
     },
     "output_type": "display_data"
    }
   ],
   "source": [
    "Z = linkage(X, method = 'ward')\n",
    "\n",
    "dendrogram(Z)\n",
    "\n",
    "plt.title(\"Dendrogram\")\n",
    "plt.xticks(rotation=90) \n",
    "plt.show()"
   ]
  },
  {
   "cell_type": "markdown",
   "metadata": {
    "id": "oZJCHSbYI9vL"
   },
   "source": [
    "## 5. Функция"
   ]
  },
  {
   "cell_type": "markdown",
   "metadata": {
    "id": "Dk8GswaAI9vL"
   },
   "source": [
    "Напишите функцию, которая:\n",
    "1. Принимает в качестве аргументов: класс модели кластеризации, его параметры, название параметра для оптимизации, интервал значений для перебора вариантов и датасет.\n",
    "2. Пробует различные значения из этого интервала для заданного параметра и рассчитывает `silhouette_score` для каждого нового значения.\n",
    "3. Определяет лучшее значение параметра из интервала с точки зрения этой метрики.\n",
    "4. Возвращает два графика:\n",
    "    - первый показывает, как `silhouette_score` менялся в зависимости от изменения параметра,\n",
    "    - второй показывает данные и кластера на `scatter plot` для наилучшего значения из интервала."
   ]
  },
  {
   "cell_type": "code",
   "execution_count": 369,
   "metadata": {
    "id": "a77coOzAI9vL"
   },
   "outputs": [],
   "source": [
    "def function (model_class, params_class, params_optimize, interval, df):\n",
    "   \n",
    "    scores = []\n",
    "    for i in interval:\n",
    "        params_class[params_optimize] = i\n",
    "        \n",
    "        model = model_class(**params_class).fit(df)\n",
    "        labels = model.labels_\n",
    "        \n",
    "        if len(labels) < 2: #оценка требуется из последних двух кластеров\n",
    "            new_scores = 0\n",
    "        else:\n",
    "            new_scores = silhouette_score(df, labels)\n",
    "        scores.append(new_scores)\n",
    "        \n",
    "    best_scores = scores.index(max(scores))\n",
    "    params_class[params_optimize] = interval[best_scores]\n",
    "        \n",
    "    model = model_class(**params_class).fit(df)\n",
    "    labels = model.labels_\n",
    "    \n",
    "    #plotting\n",
    "    fig, (ax1, ax2) = plt.subplots(1, 2)\n",
    "    ax1.plot(interval, scores, color=\"red\")\n",
    "    ax2.scatter(df[:, 0], df[:, 1], c=labels, cmap='RdYlBu')\n",
    "    fig.set_figheight(8)\n",
    "    fig.set_figwidth(17)\n",
    "    ax1.title.set_text('Как silhouette_score меняется в зависимости от изменения параметров')\n",
    "    ax2.title.set_text('Данные и кластера на scatter plot для наилучшего значения из интервала')\n",
    "    ax1.xaxis.grid()\n",
    "    plt.show()    "
   ]
  },
  {
   "cell_type": "code",
   "execution_count": 370,
   "metadata": {},
   "outputs": [
    {
     "data": {
      "image/png": "[encoded data removed]",
      "text/plain": [
       "<Figure size 1224x576 with 2 Axes>"
      ]
     },
     "metadata": {
      "needs_background": "light"
     },
     "output_type": "display_data"
    }
   ],
   "source": [
    "function(KMeans, {'random_state': 21},  'n_clusters', list(range(3, 15)), X)"
   ]
  },
  {
   "cell_type": "markdown",
   "metadata": {},
   "source": [
    "**Лучшее значение параметра для оптимизации модели KMeans: n_clusters=8**"
   ]
  },
  {
   "cell_type": "code",
   "execution_count": 371,
   "metadata": {},
   "outputs": [
    {
     "data": {
      "image/png": "[encoded data removed]",
      "text/plain": [
       "<Figure size 1224x576 with 2 Axes>"
      ]
     },
     "metadata": {
      "needs_background": "light"
     },
     "output_type": "display_data"
    }
   ],
   "source": [
    "function(DBSCAN, {'min_samples': 2},  'eps', list(range(20, 30)), X)"
   ]
  },
  {
   "cell_type": "markdown",
   "metadata": {},
   "source": [
    "**Лучшее значение параметра для оптимизации модели DBSCAN: eps=22**"
   ]
  },
  {
   "cell_type": "code",
   "execution_count": 372,
   "metadata": {},
   "outputs": [
    {
     "data": {
      "image/png": "[encoded data removed]",
      "text/plain": [
       "<Figure size 1224x576 with 2 Axes>"
      ]
     },
     "metadata": {
      "needs_background": "light"
     },
     "output_type": "display_data"
    }
   ],
   "source": [
    "function(AgglomerativeClustering, {},  'n_clusters', list(range(2, 10)), X)"
   ]
  },
  {
   "cell_type": "markdown",
   "metadata": {},
   "source": [
    "**Лучшее значение параметра для оптимизации модели AgglomerativeClustering: n_clusters=8**"
   ]
  }
 ],
 "metadata": {
  "colab": {
   "collapsed_sections": [],
   "name": "05_clustering.ipynb",
   "provenance": []
  },
  "kernelspec": {
   "display_name": "Python 3 (ipykernel)",
   "language": "python",
   "name": "python3"
  },
  "language_info": {
   "codemirror_mode": {
    "name": "ipython",
    "version": 3
   },
   "file_extension": ".py",
   "mimetype": "text/x-python",
   "name": "python",
   "nbconvert_exporter": "python",
   "pygments_lexer": "ipython3",
   "version": "3.9.7"
  }
 },
 "nbformat": 4,
 "nbformat_minor": 1
}
