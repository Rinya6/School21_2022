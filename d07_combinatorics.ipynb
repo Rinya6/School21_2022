{
  "nbformat": 4,
  "nbformat_minor": 0,
  "metadata": {
    "colab": {
      "name": "d07_combinatorics",
      "provenance": []
    },
    "kernelspec": {
      "name": "python3",
      "display_name": "Python 3"
    },
    "language_info": {
      "name": "python"
    }
  },
  "cells": [
    {
      "cell_type": "markdown",
      "source": [
        "# Комбинаторика"
      ],
      "metadata": {
        "id": "c5aKUrjjhrl6"
      }
    },
    {
      "cell_type": "code",
      "source": [
        "import math"
      ],
      "metadata": {
        "id": "SOXjWble5LWi"
      },
      "execution_count": null,
      "outputs": []
    },
    {
      "cell_type": "markdown",
      "source": [
        "**Task 1**"
      ],
      "metadata": {
        "id": "DSRdEYDsZCig"
      }
    },
    {
      "cell_type": "markdown",
      "source": [
        "Сколько биграмм и триграмм можно собрать из предложения\n",
        "\n",
        "Нормальность — это асфальтированная дорога по ней удобно идти но цветы на ней не растут?"
      ],
      "metadata": {
        "id": "DCkP6Uc0ZFfy"
      }
    },
    {
      "cell_type": "code",
      "source": [
        "text = \"Нормальность — это асфальтированная дорога по ней удобно идти но цветы на ней не растут?\""
      ],
      "metadata": {
        "id": "kJ6avBHHds5t"
      },
      "execution_count": 18,
      "outputs": []
    },
    {
      "cell_type": "code",
      "source": [
        "text_preprocessed = text.lower().replace('?','').replace('— ', '')\n",
        "text_preprocessed"
      ],
      "metadata": {
        "colab": {
          "base_uri": "https://localhost:8080/",
          "height": 37
        },
        "id": "jQ6GB3Iydt-f",
        "outputId": "401a1806-f9cf-49af-efda-09b8bc9f77f6"
      },
      "execution_count": 19,
      "outputs": [
        {
          "output_type": "execute_result",
          "data": {
            "text/plain": [
              "'нормальность это асфальтированная дорога по ней удобно идти но цветы на ней не растут'"
            ],
            "application/vnd.google.colaboratory.intrinsic+json": {
              "type": "string"
            }
          },
          "metadata": {},
          "execution_count": 19
        }
      ]
    },
    {
      "cell_type": "code",
      "source": [
        "def ngrams(input, n):\n",
        "  input = input.split(' ')\n",
        "  output = []\n",
        "  for i in range(len(input)-n+1):\n",
        "    output.append(input[i:i+n])\n",
        "  return output"
      ],
      "metadata": {
        "id": "cFBZt7FxbVmN"
      },
      "execution_count": 20,
      "outputs": []
    },
    {
      "cell_type": "code",
      "source": [
        "# биграмм - последовательность из двух последовательно встречающихся символов (элементов)\n",
        "ngrams(text_preprocessed, 2)"
      ],
      "metadata": {
        "colab": {
          "base_uri": "https://localhost:8080/"
        },
        "id": "rtSAXZepkGKS",
        "outputId": "75fdf9e1-950a-49fc-ce20-53c645884a7a"
      },
      "execution_count": 21,
      "outputs": [
        {
          "output_type": "execute_result",
          "data": {
            "text/plain": [
              "[['нормальность', 'это'],\n",
              " ['это', 'асфальтированная'],\n",
              " ['асфальтированная', 'дорога'],\n",
              " ['дорога', 'по'],\n",
              " ['по', 'ней'],\n",
              " ['ней', 'удобно'],\n",
              " ['удобно', 'идти'],\n",
              " ['идти', 'но'],\n",
              " ['но', 'цветы'],\n",
              " ['цветы', 'на'],\n",
              " ['на', 'ней'],\n",
              " ['ней', 'не'],\n",
              " ['не', 'растут']]"
            ]
          },
          "metadata": {},
          "execution_count": 21
        }
      ]
    },
    {
      "cell_type": "code",
      "source": [
        "n = 2\n",
        "bigram = ngrams(text_preprocessed, n)\n",
        "print('Биграмм =', len(bigram))"
      ],
      "metadata": {
        "colab": {
          "base_uri": "https://localhost:8080/"
        },
        "id": "_Pu2K1qDfrmt",
        "outputId": "8a3593eb-dc76-49ac-f4d7-0d36f482e5c3"
      },
      "execution_count": 22,
      "outputs": [
        {
          "output_type": "stream",
          "name": "stdout",
          "text": [
            "Биграмм = 13\n"
          ]
        }
      ]
    },
    {
      "cell_type": "code",
      "source": [
        "# триграмма - последовательность из трёх последовательно встречающихся символов (элементов)\n",
        "ngrams(text_preprocessed, 3)"
      ],
      "metadata": {
        "colab": {
          "base_uri": "https://localhost:8080/"
        },
        "id": "2wXPkgZ2kVsV",
        "outputId": "3fe8a815-988d-4748-8c4f-1323de08d7e4"
      },
      "execution_count": 23,
      "outputs": [
        {
          "output_type": "execute_result",
          "data": {
            "text/plain": [
              "[['нормальность', 'это', 'асфальтированная'],\n",
              " ['это', 'асфальтированная', 'дорога'],\n",
              " ['асфальтированная', 'дорога', 'по'],\n",
              " ['дорога', 'по', 'ней'],\n",
              " ['по', 'ней', 'удобно'],\n",
              " ['ней', 'удобно', 'идти'],\n",
              " ['удобно', 'идти', 'но'],\n",
              " ['идти', 'но', 'цветы'],\n",
              " ['но', 'цветы', 'на'],\n",
              " ['цветы', 'на', 'ней'],\n",
              " ['на', 'ней', 'не'],\n",
              " ['ней', 'не', 'растут']]"
            ]
          },
          "metadata": {},
          "execution_count": 23
        }
      ]
    },
    {
      "cell_type": "code",
      "source": [
        "n = 3\n",
        "trigram = ngrams(text_preprocessed, n)\n",
        "print('Триграмм = ', len(trigram))"
      ],
      "metadata": {
        "colab": {
          "base_uri": "https://localhost:8080/"
        },
        "id": "LTCprvobfxbp",
        "outputId": "7cf0af14-eeaf-42d7-8087-573c3e9e2367"
      },
      "execution_count": 24,
      "outputs": [
        {
          "output_type": "stream",
          "name": "stdout",
          "text": [
            "Триграмм =  12\n"
          ]
        }
      ]
    },
    {
      "cell_type": "markdown",
      "source": [
        "**Task 2**"
      ],
      "metadata": {
        "id": "CE64KQf_kxda"
      }
    },
    {
      "cell_type": "markdown",
      "source": [
        "У логистической регрессии есть некоторое количество гиперпараметров:\n",
        "\n",
        "- fit_intercept, принимающий True или False;\n",
        "- penalty (рассмотрим только l1, l2);\n",
        "- solver (рассмотрим только liblinear, saga).\n",
        "\n",
        "Наша задача найти оптимальную комбинацию этих параметров, которая приведёт к наилучшей точности прогноза. \n",
        "\n",
        "Сколько вариантов нужно будет перебрать, сравнив точность полученных моделей на валидационной выборке?"
      ],
      "metadata": {
        "id": "IaLL4OS7kz6t"
      }
    },
    {
      "cell_type": "code",
      "source": [
        "count = 0\n",
        "fit_intercept = ['True', 'False']\n",
        "penalty = ['l1', 'l2']\n",
        "solver = ['liblinear', 'saga']\n",
        "for comb_fit_intercept in fit_intercept:\n",
        "  for comb_penalty in penalty:\n",
        "    for comb_solver in solver:\n",
        "      #print(comb_fit_intercept, comb_penalty, comb_solver)\n",
        "      count += 1\n",
        "print(\"Количество вариантов =\", count)"
      ],
      "metadata": {
        "colab": {
          "base_uri": "https://localhost:8080/"
        },
        "id": "q8-tJBYdkmOa",
        "outputId": "5c0ca996-daed-4ca6-81cb-5433ecb8fd88"
      },
      "execution_count": 25,
      "outputs": [
        {
          "output_type": "stream",
          "name": "stdout",
          "text": [
            "Количество вариантов = 8\n"
          ]
        }
      ]
    },
    {
      "cell_type": "code",
      "source": [
        "#s = math.factorial(2) * math.factorial(2) * math.factorial(2)\n",
        "#s"
      ],
      "metadata": {
        "id": "CYxd76Go1OVa"
      },
      "execution_count": null,
      "outputs": []
    },
    {
      "cell_type": "markdown",
      "source": [
        "**Task 3**"
      ],
      "metadata": {
        "id": "FAduxlSs2vVK"
      }
    },
    {
      "cell_type": "markdown",
      "source": [
        "На странице интернет-магазина в блоке рекомендованных товаров есть 5 слотов. \n",
        "Всего в магазине представлено 120 товаров. \n",
        "\n",
        "Подсчитайте, какое количество вариантов существует, чтобы предложить пользователю товары. Стоит принять во внимание, что порядок товаров имеет значение. Пользователи реже нажимают на товары, которые замыкают блок рекомендаций."
      ],
      "metadata": {
        "id": "ufIwbxD42yFw"
      }
    },
    {
      "cell_type": "code",
      "source": [
        "product = 120\n",
        "slot = 5\n",
        "list_product = list(range(1, product+1))\n",
        "slot_product = list_product[:-slot-1:-1]\n",
        "#print(slot_product)\n",
        "\n",
        "multiplication = 1\n",
        "for i in slot_product:\n",
        "    multiplication *= i\n",
        "print('Количество вариантов товаров из 5 слотов: ', multiplication)"
      ],
      "metadata": {
        "colab": {
          "base_uri": "https://localhost:8080/"
        },
        "id": "pyqzspfa66E_",
        "outputId": "9b965488-a364-4164-cce0-19c3bdfc8d93"
      },
      "execution_count": 26,
      "outputs": [
        {
          "output_type": "stream",
          "name": "stdout",
          "text": [
            "Количество вариантов товаров из 5 слотов:  22869362880\n"
          ]
        }
      ]
    },
    {
      "cell_type": "code",
      "source": [
        "#s = math.factorial(120) / math.factorial(120-5)\n",
        "#s"
      ],
      "metadata": {
        "id": "cdLbpPlj141v"
      },
      "execution_count": null,
      "outputs": []
    },
    {
      "cell_type": "markdown",
      "source": [
        "**Task 4**"
      ],
      "metadata": {
        "id": "rfl8ohKoH3pV"
      }
    },
    {
      "cell_type": "markdown",
      "source": [
        "В магазине есть база клиентов, в которой находятся 320 пользователей. У каждого из них есть история покупок. Было принято решение внедрить рекомендательную систему, которая будет предлагать пользователям товары, которые были куплены похожими пользователями. \n",
        "\n",
        "В первую очередь нужно рассчитать похожесть всех пользователей друг на друга, а затем выбрать наиболее похожих. Сколько пар получится на этом этапе расчёта?"
      ],
      "metadata": {
        "id": "zCDWebRLH62D"
      }
    },
    {
      "cell_type": "code",
      "source": [
        "users = 320\n",
        "group = 2 \n",
        "pair_users = math.factorial(users) / math.factorial(users-group) / math.factorial(group) \n",
        "print('Пар пользователей =', pair_users)"
      ],
      "metadata": {
        "colab": {
          "base_uri": "https://localhost:8080/"
        },
        "id": "JDom74kB7u-w",
        "outputId": "9c487d4d-5222-4063-b4f4-210082c00a87"
      },
      "execution_count": 27,
      "outputs": [
        {
          "output_type": "stream",
          "name": "stdout",
          "text": [
            "Пар пользователей = 51040.0\n"
          ]
        }
      ]
    },
    {
      "cell_type": "markdown",
      "source": [
        "**Task 5**"
      ],
      "metadata": {
        "id": "Se3pmptRkRTL"
      }
    },
    {
      "cell_type": "markdown",
      "source": [
        "В магазине есть 500 товаров. \n",
        "\n",
        "Сколько существует возможностей объединить эти товары в наборы по 2 товара? \n",
        "\n",
        "Сколько — по 3 товара?\n",
        "\n",
        "Сколько — по 4 товара?"
      ],
      "metadata": {
        "id": "FSHlnuVOkUMz"
      }
    },
    {
      "cell_type": "code",
      "source": [
        "product = 500\n",
        "unite_product_2 = math.factorial(product) / math.factorial(product-2) / math.factorial(2)\n",
        "unite_product_3 = math.factorial(product) / math.factorial(product-3) / math.factorial(3)\n",
        "unite_product_4 = math.factorial(product) / math.factorial(product-4) / math.factorial(4)\n",
        "print('Количество возможность объеденить товар в набор по 2 товара = {}'.format(unite_product_2))\n",
        "print('Количество возможность объеденить товар в набор по 3 товара = {}'.format(unite_product_3))\n",
        "print('Количество возможность объеденить товар в набор по 4 товара = {}'.format(unite_product_4))"
      ],
      "metadata": {
        "colab": {
          "base_uri": "https://localhost:8080/"
        },
        "id": "5Z5O5rzui22L",
        "outputId": "7332670d-d65c-45d1-9862-4ce4fb207bcd"
      },
      "execution_count": 28,
      "outputs": [
        {
          "output_type": "stream",
          "name": "stdout",
          "text": [
            "Количество возможность объеденить товар в набор по 2 товара = 124750.0\n",
            "Количество возможность объеденить товар в набор по 3 товара = 20708500.0\n",
            "Количество возможность объеденить товар в набор по 4 товара = 2573031125.0\n"
          ]
        }
      ]
    },
    {
      "cell_type": "markdown",
      "source": [
        "**Task 6**"
      ],
      "metadata": {
        "id": "h6NTvW-3mg87"
      }
    },
    {
      "cell_type": "markdown",
      "source": [
        "У вас есть таблица с 20 уникальными строками. \n",
        "\n",
        "Вы хотите их перемешать, чтобы сформировать их случайную последовательность.\n",
        "\n",
        "Сколько уникальных вариантов расположения строк вы получите?"
      ],
      "metadata": {
        "id": "XoRLJMYxmj4V"
      }
    },
    {
      "cell_type": "code",
      "source": [
        "string = 20\n",
        "option = math.factorial(string)\n",
        "print('Количество уникальных вариантов расположения 20 строк =', option)"
      ],
      "metadata": {
        "colab": {
          "base_uri": "https://localhost:8080/"
        },
        "id": "OQrHH0APmXSV",
        "outputId": "ff82ec2e-3ba3-4ab5-cdc8-f642fdc249ef"
      },
      "execution_count": 29,
      "outputs": [
        {
          "output_type": "stream",
          "name": "stdout",
          "text": [
            "Количество уникальных вариантов расположения 20 строк = 2432902008176640000\n"
          ]
        }
      ]
    },
    {
      "cell_type": "markdown",
      "source": [
        "**Task 7**"
      ],
      "metadata": {
        "id": "veR6nQ_oonTb"
      }
    },
    {
      "cell_type": "markdown",
      "source": [
        "В магазине существует 5 товарных категорий: Бакалея, Замороженные Продукты, Готовая Еда, Бытовая Химия, Десерты. \n",
        "\n",
        "Вы занимаетесь нагрузочным тестированием сервиса. Вам надо сгенерировать сессии пользователей, в рамках которых они будут набирать себе товары в корзину. \n",
        "\n",
        "Но в корзину они будут набирать ровно 10 товаров (не больше и не меньше). Сколько уникальных сессий получится с точки зрения наполненности товарными категориями? Например, корзина может состоять полностью из 10 товаров категории Бакалея, а может наполовину состоять из этой категории, а наполовину — из товаров других категорий."
      ],
      "metadata": {
        "id": "RRraOH3OopyD"
      }
    },
    {
      "cell_type": "code",
      "source": [
        "product_category = 5\n",
        "product = 10\n",
        "basket = math.factorial(product + product_category - 1) / math.factorial(product) / math.factorial(product_category - 1)\n",
        "print('Количество уникальных сессий =', basket)"
      ],
      "metadata": {
        "colab": {
          "base_uri": "https://localhost:8080/"
        },
        "id": "alEUgn9SoaqN",
        "outputId": "bef8f1b3-d51e-4091-978a-6cd38da25311"
      },
      "execution_count": 30,
      "outputs": [
        {
          "output_type": "stream",
          "name": "stdout",
          "text": [
            "Количество уникальных сессий = 1001.0\n"
          ]
        }
      ]
    },
    {
      "cell_type": "markdown",
      "source": [
        "**Task 8**"
      ],
      "metadata": {
        "id": "aWOri65IsQkg"
      }
    },
    {
      "cell_type": "markdown",
      "source": [
        "Для системы регистрации на сайте нужно поставить ограничение по количеству символов в пароле. Идёт спор между 8 и 9 символами в пароле. \n",
        "\n",
        "Посчитайте разницу в количестве комбинаций, которое нужно перебрать, чтобы подобрать пароль пользователя. Для упрощения: в пароле разрешены только буквы латинского алфавита в нижнем регистре."
      ],
      "metadata": {
        "id": "-JouMdLKsT29"
      }
    },
    {
      "cell_type": "code",
      "source": [
        "# Для алфавита из N символов и длины строки m - N**m (повторы могут быть)\n",
        "\n",
        "n = 26                               #количество знаков в латинском алфавите 26 (ВикипедиЯ)\n",
        "difference = n**9 - n**8             #разница \n",
        "print('Разница в количестве комбинаций между 8 и 9 символами, чтобы  подобрать пароль =', difference)"
      ],
      "metadata": {
        "colab": {
          "base_uri": "https://localhost:8080/"
        },
        "id": "HrxJ4wI9qWTX",
        "outputId": "c2e2886c-ddd0-4c74-8603-6fc34367c0b5"
      },
      "execution_count": 31,
      "outputs": [
        {
          "output_type": "stream",
          "name": "stdout",
          "text": [
            "Разница в количестве комбинаций между 8 и 9 символами, чтобы  подобрать пароль = 5220676614400\n"
          ]
        }
      ]
    },
    {
      "cell_type": "markdown",
      "source": [
        "**Task 9**"
      ],
      "metadata": {
        "id": "ZWbJ1JT3xEf-"
      }
    },
    {
      "cell_type": "markdown",
      "source": [
        "Курьер каждый день должен проехать в области маршрут, который включает в себя 4 села, 3 поселка и 2 города. \n",
        "\n",
        "Всего 9 населенных пунктов. Посчитайте количество способов, которыми курьер может объезжать эти типы населенных пунктов? \n",
        "\n",
        "Например, село—поселок—поселок—село—село—город—село—поселок—город."
      ],
      "metadata": {
        "id": "wLu2s5doyWHh"
      }
    },
    {
      "cell_type": "code",
      "source": [
        "# кол-во комбинаций = С!\n",
        "way = math.factorial(9) / math.factorial(4) / math.factorial(3) / math.factorial(2)\n",
        "print('Количество способов, которыми курьер может объезжать населенных пунктов ', way)"
      ],
      "metadata": {
        "colab": {
          "base_uri": "https://localhost:8080/"
        },
        "id": "4ilm4kbSSqZ7",
        "outputId": "bc397f2d-71af-4cbd-b7f0-cb803cd893ba"
      },
      "execution_count": 32,
      "outputs": [
        {
          "output_type": "stream",
          "name": "stdout",
          "text": [
            "Количество способов, которыми курьер может объезжать населенных пунктов  1260.0\n"
          ]
        }
      ]
    }
  ]
}